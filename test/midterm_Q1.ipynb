{
  "nbformat": 4,
  "nbformat_minor": 0,
  "metadata": {
    "colab": {
      "name": "최재원 - Midterm_Q1.ipynb",
      "provenance": [],
      "collapsed_sections": [],
      "toc_visible": true,
      "include_colab_link": true
    },
    "kernelspec": {
      "name": "python3",
      "display_name": "Python 3"
    },
    "language_info": {
      "name": "python"
    }
  },
  "cells": [
    {
      "cell_type": "markdown",
      "metadata": {
        "id": "view-in-github",
        "colab_type": "text"
      },
      "source": [
        "<a href=\"https://colab.research.google.com/github/wpwo98/IDS-CB35533/blob/main/%EC%B5%9C%EC%9E%AC%EC%9B%90_Midterm_Q1.ipynb\" target=\"_parent\"><img src=\"https://colab.research.google.com/assets/colab-badge.svg\" alt=\"Open In Colab\"/></a>"
      ]
    },
    {
      "cell_type": "markdown",
      "source": [
        "# Q1. EDA (1pts each, total of 17pts)\n",
        "URL for the raw csv file is provided on Plato.\n",
        "\n",
        "Answer the following questions. *Required precision (the number of digits after decimal point that will be checked) for the question is 3.  For example, if the answer is 3.14159265..., write 3.141*\n",
        "\n",
        "## For the attribute \"credit\", get the following statistics;\n",
        "* The average of \"credit\": [*17.485*]\n",
        "* The standard deviation of \"credit\": [*1.590*]\n",
        "* The maximum of \"credit\": [*23*]\n",
        "* The minimum of \"credit\": [*13*]\n",
        "* The median of \"credit\": [*17.0*]\n",
        "\n",
        "## For the attribute \"weight\", get the following statistics;\n",
        "* The average of \"weight\": [*68.029*]\n",
        "* The standard deviation of \"weight\": [*8.086*]\n",
        "* The maximum of \"weight\": [*101.492*]\n",
        "* The minimum of \"weight\": [*35.984*]\n",
        "* The median of \"weight\": [*67.998*]\n",
        "\n",
        "## For the attribute \"grade\", assign 4.0, 3.0, 2.0, 1.0 and 0.0 points for A, B, C, D and F respectively.\n",
        "* What is the average points? [*2.013*]\n",
        "\n",
        "## We want to know the number of records for a specific (grade, credit) combination.\n",
        "* Count the number of records with (grade = A, credit = 13): [*13*]\n",
        "* Count the number of records with (grade = B, credit = 18): [*444*]\n",
        "* Which (grade, credit) pair has the largest number of records ? (grade, credit) = [*(B,505)*] \n",
        "\n",
        "## We want to know the average weight for a specific (grade, credit) combination.\n",
        "* Get the average weight of records with (grade = A, credit = 19): [*/297*] \n",
        "* Get the average weight of records with (grade = B, credit = 17): [*/505*]\n",
        "* Which (grade, credit) pair has the largest average weight ? (grade, credit) = [*answer here*]\n"
      ],
      "metadata": {
        "id": "tJzC1Rc7mU2r"
      }
    },
    {
      "cell_type": "code",
      "execution_count": null,
      "metadata": {
        "id": "mNd7i0v1mRxa",
        "colab": {
          "base_uri": "https://localhost:8080/"
        },
        "outputId": "75470ca7-6446-4d71-e65c-55e45b6e2f23"
      },
      "outputs": [
        {
          "output_type": "stream",
          "name": "stdout",
          "text": [
            "17.4845\n",
            "1.5900353993723766\n",
            "23\n",
            "13\n",
            "17.0\n",
            "68.02930721629085\n",
            "8.08598266753072\n",
            "101.49195665578416\n",
            "35.983825938166795\n",
            "67.99846957522215\n",
            "2.0125\n"
          ]
        }
      ],
      "source": [
        "# TODO\n",
        "import pandas as pd\n",
        "url = 'https://raw.githubusercontent.com/inetguru/IDS-CB35533/main/grade.csv'\n",
        "myDF = pd.read_csv(url)\n",
        "#myDF.tail(10)\n",
        "print(myDF['credit'].mean())\n",
        "print(myDF['credit'].std())\n",
        "print(myDF['credit'].max())\n",
        "print(myDF['credit'].min())\n",
        "print(myDF['credit'].median())\n",
        "\n",
        "print(myDF['weight'].mean())\n",
        "print(myDF['weight'].std())\n",
        "print(myDF['weight'].max())\n",
        "print(myDF['weight'].min())\n",
        "print(myDF['weight'].median())\n",
        "\n",
        "grade_count = myDF['grade'].count()\n",
        "myDF['grade'].value_counts()\n",
        "print((2036*1 + 2028*2 + 2027*3 + 1988*4 + 1921*0) / grade_count)\n",
        "\n",
        "grade_A_credit = myDF[myDF['grade']=='A']['credit'].value_counts()\n",
        "#print(grade_A_credit)\n",
        "grade_B_credit = myDF[myDF['grade']=='B']['credit'].value_counts()\n",
        "#print(grade_B_credit)\n",
        "grade_C_credit = myDF[myDF['grade']=='C']['credit'].value_counts()\n",
        "#print(grade_C_credit)\n",
        "grade_D_credit = myDF[myDF['grade']=='D']['credit'].value_counts()\n",
        "#print(grade_D_credit)\n",
        "grade_F_credit = myDF[myDF['grade']=='F']['credit'].value_counts()\n",
        "#print(grade_F_credit)\n",
        "\n"
      ]
    }
  ]
}
