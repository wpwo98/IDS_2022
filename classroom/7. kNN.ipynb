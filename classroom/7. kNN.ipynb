{
  "nbformat": 4,
  "nbformat_minor": 0,
  "metadata": {
    "colab": {
      "name": "IDS - kNN",
      "provenance": [],
      "toc_visible": true,
      "collapsed_sections": [],
      "include_colab_link": true
    },
    "kernelspec": {
      "name": "python3",
      "display_name": "Python 3"
    },
    "language_info": {
      "name": "python"
    }
  },
  "cells": [
    {
      "cell_type": "markdown",
      "metadata": {
        "id": "view-in-github",
        "colab_type": "text"
      },
      "source": [
        "<a href=\"https://colab.research.google.com/github/wpwo98/IDS-CB35533/blob/main/IDS_kNN.ipynb\" target=\"_parent\"><img src=\"https://colab.research.google.com/assets/colab-badge.svg\" alt=\"Open In Colab\"/></a>"
      ]
    },
    {
      "cell_type": "markdown",
      "metadata": {
        "id": "az-tQ-ib6NJ7"
      },
      "source": [
        "# k Nearest Neighbor Classifier"
      ]
    },
    {
      "cell_type": "markdown",
      "metadata": {
        "id": "IfNWvYKvPrgi"
      },
      "source": [
        "## kNN 도미 빙어 분류기 (bream smelt classifier)"
      ]
    },
    {
      "cell_type": "markdown",
      "metadata": {
        "id": "zCoIqTad2nRB"
      },
      "source": [
        "### 도미 빙어 자료 (bream smelt data)\n",
        "\n",
        "아래와 같이 도미(bream)와 빙어(smelt)의 길이와 무게 자료가 주어졌다.\n",
        "(Length and weight data for bream and smelt are provided below.)\n"
      ]
    },
    {
      "cell_type": "code",
      "metadata": {
        "id": "ecnoNKQJf4ZY"
      },
      "source": [
        "bream_length = [25.4, 26.3, 26.5, 29.0, 29.0, 29.7, 29.7, 30.0, 30.0, 30.7, 31.0, 31.0, 31.5, 32.0, 32.0, 32.0, 33.0, 33.0, 33.5, 33.5, 34.0, 34.0, 34.5, 35.0, 35.0, 35.0, 35.0, 36.0, 36.0, 37.0, 38.5, 38.5, 39.5, 41.0, 41.0]\n",
        "bream_weight = [242.0, 290.0, 340.0, 363.0, 430.0, 450.0, 500.0, 390.0, 450.0, 500.0, 475.0, 500.0, 500.0, 340.0, 600.0, 600.0, 700.0, 700.0, 610.0, 650.0, 575.0, 685.0, 620.0, 680.0, 700.0, 725.0, 720.0, 714.0, 850.0, 1000.0, 920.0, 955.0, 925.0, 975.0, 950.0]"
      ],
      "execution_count": null,
      "outputs": []
    },
    {
      "cell_type": "code",
      "metadata": {
        "id": "Rkn7jjAchKi3"
      },
      "source": [
        "smelt_length = [9.8, 10.5, 10.6, 11.0, 11.2, 11.3, 11.8, 11.8, 12.0, 12.2, 12.4, 13.0, 14.3, 15.0]\n",
        "smelt_weight = [6.7, 7.5, 7.0, 9.7, 9.8, 8.7, 10.0, 9.9, 9.8, 12.2, 13.4, 12.2, 19.7, 19.9]"
      ],
      "execution_count": null,
      "outputs": []
    },
    {
      "cell_type": "markdown",
      "metadata": {
        "id": "XvRYzX0W2wdx"
      },
      "source": [
        "산점도(scatter plot)를 그려보자\n",
        "(Draw a scatter plot)"
      ]
    },
    {
      "cell_type": "code",
      "metadata": {
        "colab": {
          "base_uri": "https://localhost:8080/",
          "height": 279
        },
        "id": "--o_03S2gdDo",
        "outputId": "fabd9e06-debc-4c9d-b29d-08124a0a358a"
      },
      "source": [
        "import matplotlib.pyplot as plt\n",
        "\n",
        "plt.scatter(bream_length, bream_weight)\n",
        "plt.scatter(smelt_length, smelt_weight)\n",
        "plt.xlabel('length [cm]')\n",
        "plt.ylabel('weight [g]')\n",
        "plt.show()"
      ],
      "execution_count": null,
      "outputs": [
        {
          "output_type": "display_data",
          "data": {
            "text/plain": [
              "<Figure size 432x288 with 1 Axes>"
            ],
            "image/png": "[encoded data removed]"
          },
          "metadata": {
            "needs_background": "light"
          }
        }
      ]
    },
    {
      "cell_type": "markdown",
      "metadata": {
        "id": "z5oItl7P2XoK"
      },
      "source": [
        "### dataset 생성 (construct dataset)\n",
        "\n",
        "도미(bream) 자료와 빙어(smelt)자료를 합쳐 fish_data를 생성\n",
        "(combine bream and smelt data to create fish_data)"
      ]
    },
    {
      "cell_type": "code",
      "metadata": {
        "id": "xnaCLEBOhUvH",
        "colab": {
          "base_uri": "https://localhost:8080/"
        },
        "outputId": "b073b781-5ea9-4205-8b14-fc80c46ba7d5"
      },
      "source": [
        "length = bream_length+smelt_length\n",
        "weight = bream_weight+smelt_weight\n",
        "\n",
        "fish_data = [[l, w] for l, w in zip(length, weight)]\n",
        "\n",
        "print(fish_data)"
      ],
      "execution_count": null,
      "outputs": [
        {
          "output_type": "stream",
          "name": "stdout",
          "text": [
            "[[25.4, 242.0], [26.3, 290.0], [26.5, 340.0], [29.0, 363.0], [29.0, 430.0], [29.7, 450.0], [29.7, 500.0], [30.0, 390.0], [30.0, 450.0], [30.7, 500.0], [31.0, 475.0], [31.0, 500.0], [31.5, 500.0], [32.0, 340.0], [32.0, 600.0], [32.0, 600.0], [33.0, 700.0], [33.0, 700.0], [33.5, 610.0], [33.5, 650.0], [34.0, 575.0], [34.0, 685.0], [34.5, 620.0], [35.0, 680.0], [35.0, 700.0], [35.0, 725.0], [35.0, 720.0], [36.0, 714.0], [36.0, 850.0], [37.0, 1000.0], [38.5, 920.0], [38.5, 955.0], [39.5, 925.0], [41.0, 975.0], [41.0, 950.0], [9.8, 6.7], [10.5, 7.5], [10.6, 7.0], [11.0, 9.7], [11.2, 9.8], [11.3, 8.7], [11.8, 10.0], [11.8, 9.9], [12.0, 9.8], [12.2, 12.2], [12.4, 13.4], [13.0, 12.2], [14.3, 19.7], [15.0, 19.9]]\n"
          ]
        }
      ]
    },
    {
      "cell_type": "markdown",
      "metadata": {
        "id": "eVO0D5OF27Rh"
      },
      "source": [
        "fish_data의 각행에 해당하는 레이블(label)을 생성하자. 1은 도미, 0은 빙어를 나타낸다.\n",
        "(Add label to the fish_data; 1 being bream, 0 being smelt)"
      ]
    },
    {
      "cell_type": "code",
      "metadata": {
        "colab": {
          "base_uri": "https://localhost:8080/"
        },
        "id": "oV6_tXjRmclm",
        "outputId": "e41e4b8e-ace3-478b-b83e-956d77aae310"
      },
      "source": [
        "fish_target = [1]*35 + [0]*14\n",
        "print(fish_target)"
      ],
      "execution_count": null,
      "outputs": [
        {
          "output_type": "stream",
          "name": "stdout",
          "text": [
            "[1, 1, 1, 1, 1, 1, 1, 1, 1, 1, 1, 1, 1, 1, 1, 1, 1, 1, 1, 1, 1, 1, 1, 1, 1, 1, 1, 1, 1, 1, 1, 1, 1, 1, 1, 0, 0, 0, 0, 0, 0, 0, 0, 0, 0, 0, 0, 0, 0]\n"
          ]
        }
      ]
    },
    {
      "cell_type": "markdown",
      "metadata": {
        "id": "PZjSiLTr3Rkx"
      },
      "source": [
        "### kNN using Scikit-learn\n",
        "\n",
        "사이킷런의 KNeighborsClassifier 를 사용해서 k=3인 kNN분류기를 만들자.\n",
        "(Using KNeighborsClassifier in Scikit-learn, make kNN classifier with k=3)"
      ]
    },
    {
      "cell_type": "code",
      "metadata": {
        "colab": {
          "base_uri": "https://localhost:8080/"
        },
        "id": "bTjIm-nJmj4E",
        "outputId": "f47f46f4-f6af-4edb-c5eb-4bd050d6e45b"
      },
      "source": [
        "from sklearn.neighbors import KNeighborsClassifier\n",
        "\n",
        "kn = KNeighborsClassifier(n_neighbors=3, metric='euclidean')\n",
        "kn.fit(fish_data, fish_target)"
      ],
      "execution_count": null,
      "outputs": [
        {
          "output_type": "execute_result",
          "data": {
            "text/plain": [
              "KNeighborsClassifier(metric='euclidean', n_neighbors=3)"
            ]
          },
          "metadata": {},
          "execution_count": 6
        }
      ]
    },
    {
      "cell_type": "markdown",
      "metadata": {
        "id": "J3-Tv7fa48AK"
      },
      "source": [
        "생성한 분류기를 사용하여 새로운 물고기의 종류를 예측해보자.\n",
        "변수 newFish는 새로운 물고기의 [길이, 무게] 값을 갖는다.\n",
        "(Predict the species of fish with the classifier. The input variable newFish is in the form of [length, weight])"
      ]
    },
    {
      "cell_type": "code",
      "metadata": {
        "colab": {
          "base_uri": "https://localhost:8080/"
        },
        "id": "bG61O3FBsEiL",
        "outputId": "5f684e96-75cf-4eaf-e554-bfea59303e77"
      },
      "source": [
        "newFish = [25, 200]\n",
        "kn.predict([newFish])"
      ],
      "execution_count": null,
      "outputs": [
        {
          "output_type": "execute_result",
          "data": {
            "text/plain": [
              "array([1])"
            ]
          },
          "metadata": {},
          "execution_count": 7
        }
      ]
    },
    {
      "cell_type": "markdown",
      "metadata": {
        "id": "aE3igx6j6Ajk"
      },
      "source": [
        "새로운 물고기의 예측된 종류는 1 즉 도미이다.\n",
        "(The result indicates that the newFish is bream.)"
      ]
    },
    {
      "cell_type": "markdown",
      "metadata": {
        "id": "IwXrSh3j6IW8"
      },
      "source": [
        "선택된 이웃과의 거리를 살펴보자.\n",
        "(Check the distances with selected neighbors)"
      ]
    },
    {
      "cell_type": "code",
      "metadata": {
        "colab": {
          "base_uri": "https://localhost:8080/"
        },
        "id": "5ttxoP7h6zy9",
        "outputId": "bc19ff99-0a62-4d4e-d3a7-04873274a0e4"
      },
      "source": [
        "dist, idx = kn.kneighbors([newFish]) # returns a list of lists\n",
        "nn_dist = dist[0]\n",
        "nn_idx = idx[0]\n",
        "print(nn_dist)\n"
      ],
      "execution_count": null,
      "outputs": [
        {
          "output_type": "stream",
          "name": "stdout",
          "text": [
            "[ 42.00190472  90.0093884  140.00803548]\n"
          ]
        }
      ]
    },
    {
      "cell_type": "markdown",
      "metadata": {
        "id": "KwaXUCFYfSKF"
      },
      "source": [
        "데이터셋에서 선택된 이웃 인덱스 확인\n",
        "(Indices of the selected neighbors)"
      ]
    },
    {
      "cell_type": "code",
      "metadata": {
        "colab": {
          "base_uri": "https://localhost:8080/"
        },
        "id": "gTPvbVmwfX-M",
        "outputId": "2531469d-12ff-42ff-e230-d5270cef07c5"
      },
      "source": [
        "print(nn_idx)\n"
      ],
      "execution_count": null,
      "outputs": [
        {
          "output_type": "stream",
          "name": "stdout",
          "text": [
            "[0 1 2]\n"
          ]
        }
      ]
    },
    {
      "cell_type": "markdown",
      "metadata": {
        "id": "iayE1_E8ASWy"
      },
      "source": [
        "선택된 이웃의 레이블을 확인해보자\n",
        "(Labels of the selected neighbors)"
      ]
    },
    {
      "cell_type": "code",
      "metadata": {
        "colab": {
          "base_uri": "https://localhost:8080/"
        },
        "id": "SjVLT9lDAadd",
        "outputId": "f52ec24d-3668-404a-8965-973373af5b74"
      },
      "source": [
        "import numpy as np\n",
        "labels = np.array(fish_target)\n",
        "labels[nn_idx]"
      ],
      "execution_count": null,
      "outputs": [
        {
          "output_type": "execute_result",
          "data": {
            "text/plain": [
              "array([1, 1, 1])"
            ]
          },
          "metadata": {},
          "execution_count": 10
        }
      ]
    },
    {
      "cell_type": "markdown",
      "metadata": {
        "id": "Y0hOio9ZAIiv"
      },
      "source": [
        "선택된 이웃들의 레이블이 아래와 같이 도미가 더 많음을 확인할 수 있다.\n",
        "(You can see the majority of the labels are 1)\n",
        "\n"
      ]
    },
    {
      "cell_type": "code",
      "metadata": {
        "colab": {
          "base_uri": "https://localhost:8080/",
          "height": 279
        },
        "id": "EUMApgbEv1BS",
        "outputId": "2aee3d19-83af-41c4-9bf8-641c30c67363"
      },
      "source": [
        "plt.scatter(np.array(fish_data)[nn_idx][:,0],np.array(fish_data)[nn_idx][:,1], \n",
        "            facecolors = 'none', c='r', s=80)\n",
        "plt.scatter(bream_length, bream_weight)\n",
        "plt.scatter(smelt_length, smelt_weight)\n",
        "plt.scatter(newFish[0], newFish[1],marker='^', c='r')\n",
        "plt.xlabel('length [cm]')\n",
        "plt.ylabel('weight [g]')\n",
        "plt.show()"
      ],
      "execution_count": null,
      "outputs": [
        {
          "output_type": "display_data",
          "data": {
            "text/plain": [
              "<Figure size 432x288 with 1 Axes>"
            ],
            "image/png": "[encoded data removed]"
          },
          "metadata": {
            "needs_background": "light"
          }
        }
      ]
    },
    {
      "cell_type": "markdown",
      "metadata": {
        "id": "MVkxrvEZF7hf"
      },
      "source": [
        "### 동작확인 (Checking the results)\n",
        "\n",
        "사이킷런의 knn이 우리가 생각한대로 동작하는지 확인해보자.\n",
        "선택된 이웃들과의 거리를 계산해보자\n",
        "(Make a new array of fish_data for the sake of convenience in comparison later)"
      ]
    },
    {
      "cell_type": "code",
      "metadata": {
        "colab": {
          "base_uri": "https://localhost:8080/"
        },
        "id": "oNAqD73VGEa-",
        "outputId": "e5c4ddfb-fac7-425f-8346-f50a11d3f32e"
      },
      "source": [
        "fisharr = np.array(fish_data)\n",
        "print(fisharr)"
      ],
      "execution_count": null,
      "outputs": [
        {
          "output_type": "stream",
          "name": "stdout",
          "text": [
            "[[  25.4  242. ]\n",
            " [  26.3  290. ]\n",
            " [  26.5  340. ]\n",
            " [  29.   363. ]\n",
            " [  29.   430. ]\n",
            " [  29.7  450. ]\n",
            " [  29.7  500. ]\n",
            " [  30.   390. ]\n",
            " [  30.   450. ]\n",
            " [  30.7  500. ]\n",
            " [  31.   475. ]\n",
            " [  31.   500. ]\n",
            " [  31.5  500. ]\n",
            " [  32.   340. ]\n",
            " [  32.   600. ]\n",
            " [  32.   600. ]\n",
            " [  33.   700. ]\n",
            " [  33.   700. ]\n",
            " [  33.5  610. ]\n",
            " [  33.5  650. ]\n",
            " [  34.   575. ]\n",
            " [  34.   685. ]\n",
            " [  34.5  620. ]\n",
            " [  35.   680. ]\n",
            " [  35.   700. ]\n",
            " [  35.   725. ]\n",
            " [  35.   720. ]\n",
            " [  36.   714. ]\n",
            " [  36.   850. ]\n",
            " [  37.  1000. ]\n",
            " [  38.5  920. ]\n",
            " [  38.5  955. ]\n",
            " [  39.5  925. ]\n",
            " [  41.   975. ]\n",
            " [  41.   950. ]\n",
            " [   9.8    6.7]\n",
            " [  10.5    7.5]\n",
            " [  10.6    7. ]\n",
            " [  11.     9.7]\n",
            " [  11.2    9.8]\n",
            " [  11.3    8.7]\n",
            " [  11.8   10. ]\n",
            " [  11.8    9.9]\n",
            " [  12.     9.8]\n",
            " [  12.2   12.2]\n",
            " [  12.4   13.4]\n",
            " [  13.    12.2]\n",
            " [  14.3   19.7]\n",
            " [  15.    19.9]]\n"
          ]
        }
      ]
    },
    {
      "cell_type": "markdown",
      "metadata": {
        "id": "z6WaND3bnWl3"
      },
      "source": [
        "fishdata의 각 관측값과 새로운 물고기 데이터 사이의 거리 계산\n",
        "(Calculate the distance between newFish and each row in fishdata)"
      ]
    },
    {
      "cell_type": "code",
      "metadata": {
        "id": "6wnjdM4_Htqj"
      },
      "source": [
        "diff = fisharr - newFish\n",
        "diffsq = diff * diff\n",
        "dist = np.sqrt(np.sum(diffsq, axis=1))"
      ],
      "execution_count": null,
      "outputs": []
    },
    {
      "cell_type": "markdown",
      "metadata": {
        "id": "tatYD_NFsaPL"
      },
      "source": [
        "향후 사이킷런 결과와 비교하기 위해 데이터에 index열 추가.\n",
        "(Add index column for the comparison later)\n"
      ]
    },
    {
      "cell_type": "code",
      "metadata": {
        "colab": {
          "base_uri": "https://localhost:8080/"
        },
        "id": "E3Yjw-kNsZI0",
        "outputId": "b2d51a97-f51b-4b2b-c242-b871d68f3be1"
      },
      "source": [
        "idx_dist = np.array(range(0,len(diff)))\n",
        "idx_dist\n",
        "data = np.vstack((idx_dist,dist)).T\n",
        "print(data)"
      ],
      "execution_count": null,
      "outputs": [
        {
          "output_type": "stream",
          "name": "stdout",
          "text": [
            "[[  0.          42.00190472]\n",
            " [  1.          90.0093884 ]\n",
            " [  2.         140.00803548]\n",
            " [  3.         163.04907237]\n",
            " [  4.         230.03477998]\n",
            " [  5.         250.0441761 ]\n",
            " [  6.         300.03681441]\n",
            " [  7.         190.06577809]\n",
            " [  8.         250.049995  ]\n",
            " [  9.         300.05414511]\n",
            " [ 10.         275.06544676]\n",
            " [ 11.         300.059994  ]\n",
            " [ 12.         300.0704084 ]\n",
            " [ 13.         140.17489076]\n",
            " [ 14.         400.06124531]\n",
            " [ 15.         400.06124531]\n",
            " [ 16.         500.0639959 ]\n",
            " [ 17.         500.0639959 ]\n",
            " [ 18.         410.08810029]\n",
            " [ 19.         450.08027062]\n",
            " [ 20.         375.10798445]\n",
            " [ 21.         485.08349797]\n",
            " [ 22.         420.10742674]\n",
            " [ 23.         480.10415537]\n",
            " [ 24.         500.09999   ]\n",
            " [ 25.         525.09522946]\n",
            " [ 26.         520.09614496]\n",
            " [ 27.         514.11769081]\n",
            " [ 28.         650.09307026]\n",
            " [ 29.         800.08999494]\n",
            " [ 30.         720.12655138]\n",
            " [ 31.         755.12068572]\n",
            " [ 32.         725.1449855 ]\n",
            " [ 33.         775.1651437 ]\n",
            " [ 34.         750.17064725]\n",
            " [ 35.         193.8966993 ]\n",
            " [ 36.         193.04533146]\n",
            " [ 37.         193.53645651]\n",
            " [ 38.         190.81428144]\n",
            " [ 39.         190.69997378]\n",
            " [ 40.         191.78993717]\n",
            " [ 41.         190.45797437]\n",
            " [ 42.         190.55773403]\n",
            " [ 43.         190.64375154]\n",
            " [ 44.         188.23570331]\n",
            " [ 45.         187.02491813]\n",
            " [ 46.         188.18299604]\n",
            " [ 47.         180.61721956]\n",
            " [ 48.         180.37740989]]\n"
          ]
        }
      ]
    },
    {
      "cell_type": "markdown",
      "metadata": {
        "id": "UZwFHAv9syBU"
      },
      "source": [
        "거리순으로 정렬\n",
        "(Sort by distance)"
      ]
    },
    {
      "cell_type": "code",
      "metadata": {
        "colab": {
          "base_uri": "https://localhost:8080/"
        },
        "id": "7_mokXl4tb3N",
        "outputId": "8605fa43-a121-46ee-ba4d-66fda7dffdcc"
      },
      "source": [
        "sorted = data[data[:,1].argsort()]\n",
        "print(sorted[0:3,])"
      ],
      "execution_count": null,
      "outputs": [
        {
          "output_type": "stream",
          "name": "stdout",
          "text": [
            "[[  0.          42.00190472]\n",
            " [  1.          90.0093884 ]\n",
            " [  2.         140.00803548]]\n"
          ]
        }
      ]
    },
    {
      "cell_type": "code",
      "metadata": {
        "colab": {
          "base_uri": "https://localhost:8080/"
        },
        "id": "mwTm6jTeJM4g",
        "outputId": "c7aec43f-2852-4599-f3f4-e74395e56df5"
      },
      "source": [
        "nn_idx, nn_dist"
      ],
      "execution_count": null,
      "outputs": [
        {
          "output_type": "execute_result",
          "data": {
            "text/plain": [
              "(array([0, 1, 2]), array([ 42.00190472,  90.0093884 , 140.00803548]))"
            ]
          },
          "metadata": {},
          "execution_count": 16
        }
      ]
    },
    {
      "cell_type": "markdown",
      "metadata": {
        "id": "GwqYpVJb14km"
      },
      "source": [
        "### Evaluation\n",
        "사이킷런의 KNeighborsClassifier는 score 메소드를 통해서 분류기의 Accuracy를 제공함. \n",
        "k를 2부터 49까지 변경시켜 가면서 분류기의 Accuracy를 살펴보자.\n",
        "(the score method provides the accuracy of the classifier. See how it changes from k=2 to 49)"
      ]
    },
    {
      "cell_type": "code",
      "metadata": {
        "colab": {
          "base_uri": "https://localhost:8080/",
          "height": 265
        },
        "id": "XmZMUMnh7ACS",
        "outputId": "befac743-ca8e-45ff-95a9-6869f623d5b5"
      },
      "source": [
        "kn = KNeighborsClassifier()\n",
        "kn.fit(fish_data, fish_target)\n",
        "\n",
        "score = []\n",
        "for k in range(2,50):\n",
        "  kn.n_neighbors = k\n",
        "  score.append(kn.score(fish_data,fish_target))\n",
        "\n",
        "plt.plot(range(2,50), score)\n",
        "plt.show()\n"
      ],
      "execution_count": null,
      "outputs": [
        {
          "output_type": "display_data",
          "data": {
            "text/plain": [
              "<Figure size 432x288 with 1 Axes>"
            ],
            "image/png": "[encoded data removed]"
          },
          "metadata": {
            "needs_background": "light"
          }
        }
      ]
    },
    {
      "cell_type": "code",
      "metadata": {
        "colab": {
          "base_uri": "https://localhost:8080/"
        },
        "id": "cuSaGjL1_abF",
        "outputId": "2087f47e-b2eb-4ae8-831c-8121d3db359f"
      },
      "source": [
        "kn.n_neighbors = 29\n",
        "print(kn.score(fish_data,fish_target))\n",
        "print(35/49)"
      ],
      "execution_count": null,
      "outputs": [
        {
          "output_type": "stream",
          "name": "stdout",
          "text": [
            "0.7142857142857143\n",
            "0.7142857142857143\n"
          ]
        }
      ]
    },
    {
      "cell_type": "markdown",
      "metadata": {
        "id": "AiyMf-Y7_YaA"
      },
      "source": [
        "k=29 보다 큰 경우, 즉 항상 인접이웃 중에서 도미의 숫자가 많아질 경우, 모든 데이터를 도미로 예측하게 되어 정확도가 35/49가 된다.\n",
        "(When k is larger than 29, i.e., the majority of neighbors is always bream, the classifier predicts any input as a bream, resulting in the accuracy of 35/49.)"
      ]
    },
    {
      "cell_type": "markdown",
      "metadata": {
        "id": "x-bjhsSBvTmy"
      },
      "source": [
        "## kNN 도미 빙어 분류기 2 (kNN bream smelt classifier 2)\n",
        "\n",
        "\n",
        "\n"
      ]
    },
    {
      "cell_type": "markdown",
      "metadata": {
        "id": "rGlXyohNIdMc"
      },
      "source": [
        "### Dividing training set and test set\n",
        "\n",
        "사이킷런의 train_test_split 메소드를 이용해서 훈련/테스트 데이터 분할\n",
        "이 메소드는 전체 데이터에서 무작위로 일부 데이터 (기본값 25%) 를 테스트 세트로 떼어냄\n",
        "(Using the train_test_split method, we can split the dataset into train and test datasets. The method randomly chooses some (default is 25%) of data as a test set.)\n"
      ]
    },
    {
      "cell_type": "code",
      "metadata": {
        "colab": {
          "base_uri": "https://localhost:8080/"
        },
        "id": "eEKQCgKq7kBT",
        "outputId": "b62e2fba-5295-48da-df72-6461858b0b4f"
      },
      "source": [
        "from sklearn.model_selection import train_test_split\n",
        "\n",
        "fish_data = np.array(fish_data)\n",
        "fish_target = np.array(fish_target)\n",
        "\n",
        "# train_input, test_input, train_target, test_target = train_test_split(\n",
        "#     fish_data, fish_target, random_state = 42\n",
        "# )\n",
        "train_input, test_input, train_target, test_target = train_test_split(\n",
        "    fish_data, fish_target, stratify=fish_target, random_state = 42)\n",
        "\n",
        "print(train_input.shape, test_input.shape)"
      ],
      "execution_count": null,
      "outputs": [
        {
          "output_type": "stream",
          "name": "stdout",
          "text": [
            "(36, 2) (13, 2)\n"
          ]
        }
      ]
    },
    {
      "cell_type": "code",
      "metadata": {
        "colab": {
          "base_uri": "https://localhost:8080/",
          "height": 279
        },
        "id": "v8BticiGHPPU",
        "outputId": "40ff5c4f-dcf9-469d-e2e8-41295e0764d1"
      },
      "source": [
        "plt.scatter(test_input[:,0],test_input[:,1], \n",
        "            facecolors = 'none', c='r', s=80)\n",
        "plt.scatter(fish_data[:,0],fish_data[:,1])\n",
        "plt.xlabel('length [cm]')\n",
        "plt.ylabel('weight [g]')\n",
        "plt.show()"
      ],
      "execution_count": null,
      "outputs": [
        {
          "output_type": "display_data",
          "data": {
            "text/plain": [
              "<Figure size 432x288 with 1 Axes>"
            ],
            "image/png": "[encoded data removed]"
          },
          "metadata": {
            "needs_background": "light"
          }
        }
      ]
    },
    {
      "cell_type": "markdown",
      "metadata": {
        "id": "J4rA-OkSIMAL"
      },
      "source": [
        "훈련 데이터와 테스트 데이터에 빙어와 도미가 고르게 분포한 것을 확인할 수 있다.\n",
        "(Bream and smelts are properly distributed in both datasets.)"
      ]
    },
    {
      "cell_type": "markdown",
      "metadata": {
        "id": "8hIn5MpHMx7o"
      },
      "source": [
        "### Evaluation\n",
        "\n",
        "테스트 데이터를 정확히 분류하는 것을 확인할 수 있다.\n",
        "(All entries in test_input are correctly classified with the classifier trained on the train dataset.)"
      ]
    },
    {
      "cell_type": "code",
      "metadata": {
        "colab": {
          "base_uri": "https://localhost:8080/"
        },
        "id": "RIfg8l7DIVQa",
        "outputId": "f3330003-0576-41e7-b9e8-176854573483"
      },
      "source": [
        "kn = KNeighborsClassifier()\n",
        "kn.fit(train_input, train_target)\n",
        "kn.score(test_input, test_target)"
      ],
      "execution_count": null,
      "outputs": [
        {
          "output_type": "execute_result",
          "data": {
            "text/plain": [
              "1.0"
            ]
          },
          "metadata": {},
          "execution_count": 21
        }
      ]
    },
    {
      "cell_type": "markdown",
      "metadata": {
        "id": "0C7lbEghOLxH"
      },
      "source": [
        "그렇다면 아래 새로운 물고기는 어떤 종일까?\n",
        "(Let's consider an unknown fish data)"
      ]
    },
    {
      "cell_type": "code",
      "metadata": {
        "colab": {
          "base_uri": "https://localhost:8080/",
          "height": 279
        },
        "id": "26JSot6oNLSQ",
        "outputId": "91a72cee-1a63-4d57-ce60-d20dd6d09895"
      },
      "source": [
        "newFish = [30, 150]\n",
        "plt.scatter(fish_data[:,0],fish_data[:,1])\n",
        "plt.scatter(newFish[0], newFish[1],marker='^', c='r')\n",
        "plt.xlabel('length [cm]')\n",
        "plt.ylabel('weight [g]')\n",
        "plt.show()"
      ],
      "execution_count": null,
      "outputs": [
        {
          "output_type": "display_data",
          "data": {
            "text/plain": [
              "<Figure size 432x288 with 1 Axes>"
            ],
            "image/png": "[encoded data removed]"
          },
          "metadata": {
            "needs_background": "light"
          }
        }
      ]
    },
    {
      "cell_type": "code",
      "metadata": {
        "colab": {
          "base_uri": "https://localhost:8080/"
        },
        "id": "75A0Gc-uJwZy",
        "outputId": "8a94de47-c9ff-4b94-bc8d-28f8a2697f6f"
      },
      "source": [
        "print(kn.predict([newFish]))"
      ],
      "execution_count": null,
      "outputs": [
        {
          "output_type": "stream",
          "name": "stdout",
          "text": [
            "[0]\n"
          ]
        }
      ]
    },
    {
      "cell_type": "markdown",
      "metadata": {
        "id": "BY0FXYeoOunO"
      },
      "source": [
        "도미(1)인 것 같은데 빙어(0)로 분류되었다. 아래 산점도를 보면 근접 이웃으로 빙어쪽 샘플이 더 많이 선택된 것을 볼 수 있다.\n",
        "뭐가 문제인가?\n",
        "자세히 보면 각 특성(길이, 무게)의 범위가 다르다. \n",
        "(At a glance, it seemed a bream but was classified as smelt.\n",
        "That's because we did not take the scale of each feature into consideration.)"
      ]
    },
    {
      "cell_type": "code",
      "metadata": {
        "colab": {
          "base_uri": "https://localhost:8080/",
          "height": 279
        },
        "id": "ky_IL-BhPOaO",
        "outputId": "c1cd1627-8c09-4edd-bd26-73426a559b2f"
      },
      "source": [
        "dist, idx = kn.kneighbors([newFish])\n",
        "plt.scatter(train_input[:,0],train_input[:,1])\n",
        "plt.scatter(newFish[0], newFish[1],marker='^')\n",
        "plt.scatter(train_input[idx,0], train_input[idx,1], marker = 'D')\n",
        "plt.xlabel('length [cm]')\n",
        "plt.ylabel('weight [g]')\n",
        "plt.show()"
      ],
      "execution_count": null,
      "outputs": [
        {
          "output_type": "display_data",
          "data": {
            "text/plain": [
              "<Figure size 432x288 with 1 Axes>"
            ],
            "image/png": "[encoded data removed]"
          },
          "metadata": {
            "needs_background": "light"
          }
        }
      ]
    },
    {
      "cell_type": "markdown",
      "metadata": {
        "id": "tTNHDJ6eQU3d"
      },
      "source": [
        "x 축과 y 축의 범위를 동일하게 지정해보면 ...\n",
        "(if we draw the scatter plot with rectified axis...)"
      ]
    },
    {
      "cell_type": "code",
      "metadata": {
        "colab": {
          "base_uri": "https://localhost:8080/",
          "height": 283
        },
        "id": "vidxQhpOQv0m",
        "outputId": "214779a4-b1fb-4c80-82f6-0fc74caf2ac6"
      },
      "source": [
        "plt.scatter(train_input[:,0],train_input[:,1])\n",
        "plt.scatter(newFish[0], newFish[1],marker='^')\n",
        "plt.scatter(train_input[idx,0], train_input[idx,1], marker = 'D')\n",
        "plt.xlim((0,400))\n",
        "plt.ylim((0,400))\n",
        "plt.xlabel('length [cm]')\n",
        "plt.ylabel('weight [g]')\n",
        "plt.show()"
      ],
      "execution_count": null,
      "outputs": [
        {
          "output_type": "display_data",
          "data": {
            "text/plain": [
              "<Figure size 432x288 with 1 Axes>"
            ],
            "image/png": "[encoded data removed]"
          },
          "metadata": {
            "needs_background": "light"
          }
        }
      ]
    },
    {
      "cell_type": "markdown",
      "metadata": {
        "id": "0OGDHklCRKpN"
      },
      "source": [
        "### Solution1: data preprocessing\n",
        "\n",
        "위에서 각 특성(무게,길이)의 스케일이 다름을 보았다.\n",
        "고쳐보자.\n",
        "(We now noticed that the scales for each feature are not equal. Let's fix it)"
      ]
    },
    {
      "cell_type": "code",
      "metadata": {
        "colab": {
          "base_uri": "https://localhost:8080/"
        },
        "id": "Dspgt3ZeSd-i",
        "outputId": "09b23a4a-b9c5-468a-f262-aa5afe71dc57"
      },
      "source": [
        "mean = np.mean(train_input, axis=0)\n",
        "std = np.std(train_input, axis=0)\n",
        "print(mean,std)"
      ],
      "execution_count": null,
      "outputs": [
        {
          "output_type": "stream",
          "name": "stdout",
          "text": [
            "[ 27.29722222 454.09722222] [  9.98244253 323.29893931]\n"
          ]
        }
      ]
    },
    {
      "cell_type": "markdown",
      "metadata": {
        "id": "6pxdPm0iS2Mz"
      },
      "source": [
        "각 특성의 평균과 표준편차를 구했다. 이제 평균과 표준편차를 이용해 트레이닝 데이터를 표준화하자. \n",
        "(We can use the means and standard deviations of each feature to standardize the training dataset)"
      ]
    },
    {
      "cell_type": "code",
      "metadata": {
        "id": "WbCavo1lSwPt"
      },
      "source": [
        "train_scaled = (train_input - mean) / std"
      ],
      "execution_count": null,
      "outputs": []
    },
    {
      "cell_type": "markdown",
      "metadata": {
        "id": "LbuHe94NUAmj"
      },
      "source": [
        "표준화(standardization)된 데이터을 이용해 분류기를 만들자.\n",
        "(Now we make a classifier with the standarized dataset)"
      ]
    },
    {
      "cell_type": "code",
      "metadata": {
        "colab": {
          "base_uri": "https://localhost:8080/"
        },
        "id": "kQKy_mgFUgYr",
        "outputId": "41422423-97aa-45e5-ee48-407a09ef324d"
      },
      "source": [
        "kn.fit(train_scaled, train_target)\n",
        "test_scaled = (test_input - mean) / std\n",
        "kn.score(test_scaled, test_target)"
      ],
      "execution_count": null,
      "outputs": [
        {
          "output_type": "execute_result",
          "data": {
            "text/plain": [
              "1.0"
            ]
          },
          "metadata": {},
          "execution_count": 28
        }
      ]
    },
    {
      "cell_type": "markdown",
      "metadata": {
        "id": "klB5uTYdU0Q7"
      },
      "source": [
        "newFish에 대해 다시 예측해보자. 이때 중요한 것은 새로운 물고기의 특성들도 표준화하여 입력해주어야 한다.\n",
        "(Let's predict newFish again. Note that we also need to apply the standardization to the input data)"
      ]
    },
    {
      "cell_type": "code",
      "metadata": {
        "colab": {
          "base_uri": "https://localhost:8080/"
        },
        "id": "-Rm6KksHU3QS",
        "outputId": "7b40e2bd-8448-4606-c782-d4d125889749"
      },
      "source": [
        "newFish_scaled = (newFish - mean) / std\n",
        "print(kn.predict([newFish_scaled]))"
      ],
      "execution_count": null,
      "outputs": [
        {
          "output_type": "stream",
          "name": "stdout",
          "text": [
            "[1]\n"
          ]
        }
      ]
    },
    {
      "cell_type": "code",
      "metadata": {
        "colab": {
          "base_uri": "https://localhost:8080/",
          "height": 279
        },
        "id": "4JdulanhVYLr",
        "outputId": "5203cf84-6635-4550-eb71-820d777ee4e2"
      },
      "source": [
        "dist, idx = kn.kneighbors([newFish_scaled])\n",
        "plt.scatter(train_scaled[:,0],train_scaled[:,1])\n",
        "plt.scatter(newFish_scaled[0], newFish_scaled[1], marker = '^')\n",
        "plt.scatter(train_scaled[idx,0],train_scaled[idx,1], marker = 'D')\n",
        "plt.xlabel('length [cm]')\n",
        "plt.ylabel('weight [g]')\n",
        "plt.show()"
      ],
      "execution_count": null,
      "outputs": [
        {
          "output_type": "display_data",
          "data": {
            "text/plain": [
              "<Figure size 432x288 with 1 Axes>"
            ],
            "image/png": "[encoded data removed]"
          },
          "metadata": {
            "needs_background": "light"
          }
        }
      ]
    },
    {
      "cell_type": "markdown",
      "metadata": {
        "id": "fU0dkR9yRr9V"
      },
      "source": [
        "### Solution2: changing distance metric\n",
        "\n",
        "또는 특성들의 공분산을 이용하여 스케일 문제를 해결할 수 있다. \n",
        "kNN의 거리 측정 방식을 유클리디안 거리에서 마할라노비스 거리로 바꿔보자.\n",
        "(Instead of applying standardized data, we can simply change the distance metric to Mahalanobis distance, which incorporates the covariance matrix of features.)"
      ]
    },
    {
      "cell_type": "code",
      "metadata": {
        "id": "mdvCXhaaRXme",
        "colab": {
          "base_uri": "https://localhost:8080/"
        },
        "outputId": "83f5622b-dd2a-4767-e126-bafe5922693d"
      },
      "source": [
        "kn = KNeighborsClassifier(algorithm = 'brute', metric = 'mahalanobis', metric_params={'VI': np.linalg.inv(np.cov(train_input.T)).T})\n",
        "kn.fit(train_input, train_target)\n",
        "print(kn.predict([newFish]))"
      ],
      "execution_count": null,
      "outputs": [
        {
          "output_type": "stream",
          "name": "stdout",
          "text": [
            "[1]\n"
          ]
        }
      ]
    },
    {
      "cell_type": "code",
      "metadata": {
        "colab": {
          "base_uri": "https://localhost:8080/",
          "height": 279
        },
        "id": "gLdRe5IgWD2i",
        "outputId": "45d1c823-7598-4091-9fbf-43c9a2641400"
      },
      "source": [
        "dist, idx = kn.kneighbors([newFish])\n",
        "plt.scatter(train_input[:,0],train_input[:,1])\n",
        "plt.scatter(newFish[0], newFish[1], marker = '^')\n",
        "plt.scatter(train_input[idx,0],train_input[idx,1], marker = 'D')\n",
        "plt.xlabel('length [cm]')\n",
        "plt.ylabel('weight [g]')\n",
        "plt.show()"
      ],
      "execution_count": null,
      "outputs": [
        {
          "output_type": "display_data",
          "data": {
            "text/plain": [
              "<Figure size 432x288 with 1 Axes>"
            ],
            "image/png": "[encoded data removed]"
          },
          "metadata": {
            "needs_background": "light"
          }
        }
      ]
    }
  ]
}
