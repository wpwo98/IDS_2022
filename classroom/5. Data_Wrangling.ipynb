{
  "nbformat": 4,
  "nbformat_minor": 0,
  "metadata": {
    "colab": {
      "name": "Data Wrangling.ipynb",
      "provenance": [],
      "collapsed_sections": [],
      "authorship_tag": "ABX9TyOjDrewBVVuvECWB9907rKU",
      "include_colab_link": true
    },
    "kernelspec": {
      "name": "python3",
      "display_name": "Python 3"
    },
    "language_info": {
      "name": "python"
    }
  },
  "cells": [
    {
      "cell_type": "markdown",
      "metadata": {
        "id": "view-in-github",
        "colab_type": "text"
      },
      "source": [
        "<a href=\"https://colab.research.google.com/github/LeeSeungYun1020/Introduction_To_Data_Science/blob/master/classroom/Data_Wrangling.ipynb\" target=\"_parent\"><img src=\"https://colab.research.google.com/assets/colab-badge.svg\" alt=\"Open In Colab\"/></a>"
      ]
    },
    {
      "cell_type": "markdown",
      "metadata": {
        "id": "ONUsFj2RyDnJ"
      },
      "source": [
        "# Data wrangling"
      ]
    },
    {
      "cell_type": "markdown",
      "metadata": {
        "id": "1h1bm7i9yGfc"
      },
      "source": [
        "## Data cleaning"
      ]
    },
    {
      "cell_type": "code",
      "metadata": {
        "id": "ol3g1NF6yA0D"
      },
      "source": [
        "import numpy as np\n",
        "import pandas as pd"
      ],
      "execution_count": 3,
      "outputs": []
    },
    {
      "cell_type": "code",
      "metadata": {
        "colab": {
          "base_uri": "https://localhost:8080/",
          "height": 166
        },
        "id": "B14ch71syWcv",
        "outputId": "2a772574-dacf-4041-a285-467d4bf88b08"
      },
      "source": [
        "np.random.seed(48)\n",
        "df = pd.DataFrame(10 * np.random.rand(4, 2).round(2), columns=[\"A\", \"B\"])\n",
        "df"
      ],
      "execution_count": 4,
      "outputs": [
        {
          "output_type": "execute_result",
          "data": {
            "text/html": [
              "<div>\n",
              "<style scoped>\n",
              "    .dataframe tbody tr th:only-of-type {\n",
              "        vertical-align: middle;\n",
              "    }\n",
              "\n",
              "    .dataframe tbody tr th {\n",
              "        vertical-align: top;\n",
              "    }\n",
              "\n",
              "    .dataframe thead th {\n",
              "        text-align: right;\n",
              "    }\n",
              "</style>\n",
              "<table border=\"1\" class=\"dataframe\">\n",
              "  <thead>\n",
              "    <tr style=\"text-align: right;\">\n",
              "      <th></th>\n",
              "      <th>A</th>\n",
              "      <th>B</th>\n",
              "    </tr>\n",
              "  </thead>\n",
              "  <tbody>\n",
              "    <tr>\n",
              "      <th>0</th>\n",
              "      <td>0.2</td>\n",
              "      <td>8.9</td>\n",
              "    </tr>\n",
              "    <tr>\n",
              "      <th>1</th>\n",
              "      <td>2.8</td>\n",
              "      <td>3.0</td>\n",
              "    </tr>\n",
              "    <tr>\n",
              "      <th>2</th>\n",
              "      <td>7.9</td>\n",
              "      <td>3.2</td>\n",
              "    </tr>\n",
              "    <tr>\n",
              "      <th>3</th>\n",
              "      <td>8.6</td>\n",
              "      <td>4.5</td>\n",
              "    </tr>\n",
              "  </tbody>\n",
              "</table>\n",
              "</div>"
            ],
            "text/plain": [
              "     A    B\n",
              "0  0.2  8.9\n",
              "1  2.8  3.0\n",
              "2  7.9  3.2\n",
              "3  8.6  4.5"
            ]
          },
          "metadata": {
            "tags": []
          },
          "execution_count": 4
        }
      ]
    },
    {
      "cell_type": "code",
      "metadata": {
        "colab": {
          "base_uri": "https://localhost:8080/",
          "height": 166
        },
        "id": "L7ZcCJMeytoP",
        "outputId": "ce33714f-1755-456c-f872-b3959b0aef3c"
      },
      "source": [
        "df.A[1] = np.nan\n",
        "df"
      ],
      "execution_count": 5,
      "outputs": [
        {
          "output_type": "execute_result",
          "data": {
            "text/html": [
              "<div>\n",
              "<style scoped>\n",
              "    .dataframe tbody tr th:only-of-type {\n",
              "        vertical-align: middle;\n",
              "    }\n",
              "\n",
              "    .dataframe tbody tr th {\n",
              "        vertical-align: top;\n",
              "    }\n",
              "\n",
              "    .dataframe thead th {\n",
              "        text-align: right;\n",
              "    }\n",
              "</style>\n",
              "<table border=\"1\" class=\"dataframe\">\n",
              "  <thead>\n",
              "    <tr style=\"text-align: right;\">\n",
              "      <th></th>\n",
              "      <th>A</th>\n",
              "      <th>B</th>\n",
              "    </tr>\n",
              "  </thead>\n",
              "  <tbody>\n",
              "    <tr>\n",
              "      <th>0</th>\n",
              "      <td>0.2</td>\n",
              "      <td>8.9</td>\n",
              "    </tr>\n",
              "    <tr>\n",
              "      <th>1</th>\n",
              "      <td>NaN</td>\n",
              "      <td>3.0</td>\n",
              "    </tr>\n",
              "    <tr>\n",
              "      <th>2</th>\n",
              "      <td>7.9</td>\n",
              "      <td>3.2</td>\n",
              "    </tr>\n",
              "    <tr>\n",
              "      <th>3</th>\n",
              "      <td>8.6</td>\n",
              "      <td>4.5</td>\n",
              "    </tr>\n",
              "  </tbody>\n",
              "</table>\n",
              "</div>"
            ],
            "text/plain": [
              "     A    B\n",
              "0  0.2  8.9\n",
              "1  NaN  3.0\n",
              "2  7.9  3.2\n",
              "3  8.6  4.5"
            ]
          },
          "metadata": {
            "tags": []
          },
          "execution_count": 5
        }
      ]
    },
    {
      "cell_type": "code",
      "metadata": {
        "colab": {
          "base_uri": "https://localhost:8080/",
          "height": 166
        },
        "id": "lcm3pWU6yxqD",
        "outputId": "7115d01c-1be4-4a9b-f459-485b8ad96b40"
      },
      "source": [
        "df.isnull()"
      ],
      "execution_count": 6,
      "outputs": [
        {
          "output_type": "execute_result",
          "data": {
            "text/html": [
              "<div>\n",
              "<style scoped>\n",
              "    .dataframe tbody tr th:only-of-type {\n",
              "        vertical-align: middle;\n",
              "    }\n",
              "\n",
              "    .dataframe tbody tr th {\n",
              "        vertical-align: top;\n",
              "    }\n",
              "\n",
              "    .dataframe thead th {\n",
              "        text-align: right;\n",
              "    }\n",
              "</style>\n",
              "<table border=\"1\" class=\"dataframe\">\n",
              "  <thead>\n",
              "    <tr style=\"text-align: right;\">\n",
              "      <th></th>\n",
              "      <th>A</th>\n",
              "      <th>B</th>\n",
              "    </tr>\n",
              "  </thead>\n",
              "  <tbody>\n",
              "    <tr>\n",
              "      <th>0</th>\n",
              "      <td>False</td>\n",
              "      <td>False</td>\n",
              "    </tr>\n",
              "    <tr>\n",
              "      <th>1</th>\n",
              "      <td>True</td>\n",
              "      <td>False</td>\n",
              "    </tr>\n",
              "    <tr>\n",
              "      <th>2</th>\n",
              "      <td>False</td>\n",
              "      <td>False</td>\n",
              "    </tr>\n",
              "    <tr>\n",
              "      <th>3</th>\n",
              "      <td>False</td>\n",
              "      <td>False</td>\n",
              "    </tr>\n",
              "  </tbody>\n",
              "</table>\n",
              "</div>"
            ],
            "text/plain": [
              "       A      B\n",
              "0  False  False\n",
              "1   True  False\n",
              "2  False  False\n",
              "3  False  False"
            ]
          },
          "metadata": {
            "tags": []
          },
          "execution_count": 6
        }
      ]
    },
    {
      "cell_type": "code",
      "metadata": {
        "colab": {
          "base_uri": "https://localhost:8080/"
        },
        "id": "B4ncD-z-y4dC",
        "outputId": "bd31eda4-1990-4be6-f0a5-0a52677f065d"
      },
      "source": [
        "df.isnull().sum()"
      ],
      "execution_count": 7,
      "outputs": [
        {
          "output_type": "execute_result",
          "data": {
            "text/plain": [
              "A    1\n",
              "B    0\n",
              "dtype: int64"
            ]
          },
          "metadata": {
            "tags": []
          },
          "execution_count": 7
        }
      ]
    },
    {
      "cell_type": "code",
      "metadata": {
        "colab": {
          "base_uri": "https://localhost:8080/",
          "height": 136
        },
        "id": "oTR6Hhk8y0qr",
        "outputId": "b9ff1fa9-72c5-4766-e60e-2048fc828ff2"
      },
      "source": [
        "df.dropna()"
      ],
      "execution_count": 8,
      "outputs": [
        {
          "output_type": "execute_result",
          "data": {
            "text/html": [
              "<div>\n",
              "<style scoped>\n",
              "    .dataframe tbody tr th:only-of-type {\n",
              "        vertical-align: middle;\n",
              "    }\n",
              "\n",
              "    .dataframe tbody tr th {\n",
              "        vertical-align: top;\n",
              "    }\n",
              "\n",
              "    .dataframe thead th {\n",
              "        text-align: right;\n",
              "    }\n",
              "</style>\n",
              "<table border=\"1\" class=\"dataframe\">\n",
              "  <thead>\n",
              "    <tr style=\"text-align: right;\">\n",
              "      <th></th>\n",
              "      <th>A</th>\n",
              "      <th>B</th>\n",
              "    </tr>\n",
              "  </thead>\n",
              "  <tbody>\n",
              "    <tr>\n",
              "      <th>0</th>\n",
              "      <td>0.2</td>\n",
              "      <td>8.9</td>\n",
              "    </tr>\n",
              "    <tr>\n",
              "      <th>2</th>\n",
              "      <td>7.9</td>\n",
              "      <td>3.2</td>\n",
              "    </tr>\n",
              "    <tr>\n",
              "      <th>3</th>\n",
              "      <td>8.6</td>\n",
              "      <td>4.5</td>\n",
              "    </tr>\n",
              "  </tbody>\n",
              "</table>\n",
              "</div>"
            ],
            "text/plain": [
              "     A    B\n",
              "0  0.2  8.9\n",
              "2  7.9  3.2\n",
              "3  8.6  4.5"
            ]
          },
          "metadata": {
            "tags": []
          },
          "execution_count": 8
        }
      ]
    },
    {
      "cell_type": "code",
      "metadata": {
        "colab": {
          "base_uri": "https://localhost:8080/",
          "height": 166
        },
        "id": "B4r6duc2zC5m",
        "outputId": "3646e925-a3d6-4462-d457-1fe3edf1c4af"
      },
      "source": [
        "df.dropna(axis=1)"
      ],
      "execution_count": 9,
      "outputs": [
        {
          "output_type": "execute_result",
          "data": {
            "text/html": [
              "<div>\n",
              "<style scoped>\n",
              "    .dataframe tbody tr th:only-of-type {\n",
              "        vertical-align: middle;\n",
              "    }\n",
              "\n",
              "    .dataframe tbody tr th {\n",
              "        vertical-align: top;\n",
              "    }\n",
              "\n",
              "    .dataframe thead th {\n",
              "        text-align: right;\n",
              "    }\n",
              "</style>\n",
              "<table border=\"1\" class=\"dataframe\">\n",
              "  <thead>\n",
              "    <tr style=\"text-align: right;\">\n",
              "      <th></th>\n",
              "      <th>B</th>\n",
              "    </tr>\n",
              "  </thead>\n",
              "  <tbody>\n",
              "    <tr>\n",
              "      <th>0</th>\n",
              "      <td>8.9</td>\n",
              "    </tr>\n",
              "    <tr>\n",
              "      <th>1</th>\n",
              "      <td>3.0</td>\n",
              "    </tr>\n",
              "    <tr>\n",
              "      <th>2</th>\n",
              "      <td>3.2</td>\n",
              "    </tr>\n",
              "    <tr>\n",
              "      <th>3</th>\n",
              "      <td>4.5</td>\n",
              "    </tr>\n",
              "  </tbody>\n",
              "</table>\n",
              "</div>"
            ],
            "text/plain": [
              "     B\n",
              "0  8.9\n",
              "1  3.0\n",
              "2  3.2\n",
              "3  4.5"
            ]
          },
          "metadata": {
            "tags": []
          },
          "execution_count": 9
        }
      ]
    },
    {
      "cell_type": "code",
      "metadata": {
        "colab": {
          "base_uri": "https://localhost:8080/",
          "height": 166
        },
        "id": "SwuUSFu-zGWK",
        "outputId": "1a912c41-a99c-48da-dd9f-26b1bcac67c3"
      },
      "source": [
        "df.dropna(how=\"all\")\n",
        "# all은 해당 행/열이 모두 NaN인 경우에 삭제"
      ],
      "execution_count": 10,
      "outputs": [
        {
          "output_type": "execute_result",
          "data": {
            "text/html": [
              "<div>\n",
              "<style scoped>\n",
              "    .dataframe tbody tr th:only-of-type {\n",
              "        vertical-align: middle;\n",
              "    }\n",
              "\n",
              "    .dataframe tbody tr th {\n",
              "        vertical-align: top;\n",
              "    }\n",
              "\n",
              "    .dataframe thead th {\n",
              "        text-align: right;\n",
              "    }\n",
              "</style>\n",
              "<table border=\"1\" class=\"dataframe\">\n",
              "  <thead>\n",
              "    <tr style=\"text-align: right;\">\n",
              "      <th></th>\n",
              "      <th>A</th>\n",
              "      <th>B</th>\n",
              "    </tr>\n",
              "  </thead>\n",
              "  <tbody>\n",
              "    <tr>\n",
              "      <th>0</th>\n",
              "      <td>0.2</td>\n",
              "      <td>8.9</td>\n",
              "    </tr>\n",
              "    <tr>\n",
              "      <th>1</th>\n",
              "      <td>NaN</td>\n",
              "      <td>3.0</td>\n",
              "    </tr>\n",
              "    <tr>\n",
              "      <th>2</th>\n",
              "      <td>7.9</td>\n",
              "      <td>3.2</td>\n",
              "    </tr>\n",
              "    <tr>\n",
              "      <th>3</th>\n",
              "      <td>8.6</td>\n",
              "      <td>4.5</td>\n",
              "    </tr>\n",
              "  </tbody>\n",
              "</table>\n",
              "</div>"
            ],
            "text/plain": [
              "     A    B\n",
              "0  0.2  8.9\n",
              "1  NaN  3.0\n",
              "2  7.9  3.2\n",
              "3  8.6  4.5"
            ]
          },
          "metadata": {
            "tags": []
          },
          "execution_count": 10
        }
      ]
    },
    {
      "cell_type": "code",
      "metadata": {
        "colab": {
          "base_uri": "https://localhost:8080/",
          "height": 166
        },
        "id": "tRRxzVcxzSOD",
        "outputId": "4cfdb169-e230-456d-96e2-f6718b32d786"
      },
      "source": [
        "df[\"B\"][1] = np.nan\n",
        "df"
      ],
      "execution_count": 11,
      "outputs": [
        {
          "output_type": "execute_result",
          "data": {
            "text/html": [
              "<div>\n",
              "<style scoped>\n",
              "    .dataframe tbody tr th:only-of-type {\n",
              "        vertical-align: middle;\n",
              "    }\n",
              "\n",
              "    .dataframe tbody tr th {\n",
              "        vertical-align: top;\n",
              "    }\n",
              "\n",
              "    .dataframe thead th {\n",
              "        text-align: right;\n",
              "    }\n",
              "</style>\n",
              "<table border=\"1\" class=\"dataframe\">\n",
              "  <thead>\n",
              "    <tr style=\"text-align: right;\">\n",
              "      <th></th>\n",
              "      <th>A</th>\n",
              "      <th>B</th>\n",
              "    </tr>\n",
              "  </thead>\n",
              "  <tbody>\n",
              "    <tr>\n",
              "      <th>0</th>\n",
              "      <td>0.2</td>\n",
              "      <td>8.9</td>\n",
              "    </tr>\n",
              "    <tr>\n",
              "      <th>1</th>\n",
              "      <td>NaN</td>\n",
              "      <td>NaN</td>\n",
              "    </tr>\n",
              "    <tr>\n",
              "      <th>2</th>\n",
              "      <td>7.9</td>\n",
              "      <td>3.2</td>\n",
              "    </tr>\n",
              "    <tr>\n",
              "      <th>3</th>\n",
              "      <td>8.6</td>\n",
              "      <td>4.5</td>\n",
              "    </tr>\n",
              "  </tbody>\n",
              "</table>\n",
              "</div>"
            ],
            "text/plain": [
              "     A    B\n",
              "0  0.2  8.9\n",
              "1  NaN  NaN\n",
              "2  7.9  3.2\n",
              "3  8.6  4.5"
            ]
          },
          "metadata": {
            "tags": []
          },
          "execution_count": 11
        }
      ]
    },
    {
      "cell_type": "code",
      "metadata": {
        "colab": {
          "base_uri": "https://localhost:8080/",
          "height": 136
        },
        "id": "C74xP_OIzss7",
        "outputId": "7589b52c-1ec3-41d4-8162-dedb67231b68"
      },
      "source": [
        "df.dropna(how=\"all\")"
      ],
      "execution_count": 12,
      "outputs": [
        {
          "output_type": "execute_result",
          "data": {
            "text/html": [
              "<div>\n",
              "<style scoped>\n",
              "    .dataframe tbody tr th:only-of-type {\n",
              "        vertical-align: middle;\n",
              "    }\n",
              "\n",
              "    .dataframe tbody tr th {\n",
              "        vertical-align: top;\n",
              "    }\n",
              "\n",
              "    .dataframe thead th {\n",
              "        text-align: right;\n",
              "    }\n",
              "</style>\n",
              "<table border=\"1\" class=\"dataframe\">\n",
              "  <thead>\n",
              "    <tr style=\"text-align: right;\">\n",
              "      <th></th>\n",
              "      <th>A</th>\n",
              "      <th>B</th>\n",
              "    </tr>\n",
              "  </thead>\n",
              "  <tbody>\n",
              "    <tr>\n",
              "      <th>0</th>\n",
              "      <td>0.2</td>\n",
              "      <td>8.9</td>\n",
              "    </tr>\n",
              "    <tr>\n",
              "      <th>2</th>\n",
              "      <td>7.9</td>\n",
              "      <td>3.2</td>\n",
              "    </tr>\n",
              "    <tr>\n",
              "      <th>3</th>\n",
              "      <td>8.6</td>\n",
              "      <td>4.5</td>\n",
              "    </tr>\n",
              "  </tbody>\n",
              "</table>\n",
              "</div>"
            ],
            "text/plain": [
              "     A    B\n",
              "0  0.2  8.9\n",
              "2  7.9  3.2\n",
              "3  8.6  4.5"
            ]
          },
          "metadata": {
            "tags": []
          },
          "execution_count": 12
        }
      ]
    },
    {
      "cell_type": "code",
      "metadata": {
        "colab": {
          "base_uri": "https://localhost:8080/",
          "height": 195
        },
        "id": "33LL1czezvNS",
        "outputId": "16cd9c3c-03ad-402d-fa9a-db425a453a1c"
      },
      "source": [
        "df = pd.DataFrame([\n",
        "                   [np.nan, np.nan, np.nan],\n",
        "                   [1, np.nan, np.nan],\n",
        "                   [2, 3, np.nan],\n",
        "                   [4, 5, 6],\n",
        "                   [np.nan, 7, 8],\n",
        "])\n",
        "df"
      ],
      "execution_count": 13,
      "outputs": [
        {
          "output_type": "execute_result",
          "data": {
            "text/html": [
              "<div>\n",
              "<style scoped>\n",
              "    .dataframe tbody tr th:only-of-type {\n",
              "        vertical-align: middle;\n",
              "    }\n",
              "\n",
              "    .dataframe tbody tr th {\n",
              "        vertical-align: top;\n",
              "    }\n",
              "\n",
              "    .dataframe thead th {\n",
              "        text-align: right;\n",
              "    }\n",
              "</style>\n",
              "<table border=\"1\" class=\"dataframe\">\n",
              "  <thead>\n",
              "    <tr style=\"text-align: right;\">\n",
              "      <th></th>\n",
              "      <th>0</th>\n",
              "      <th>1</th>\n",
              "      <th>2</th>\n",
              "    </tr>\n",
              "  </thead>\n",
              "  <tbody>\n",
              "    <tr>\n",
              "      <th>0</th>\n",
              "      <td>NaN</td>\n",
              "      <td>NaN</td>\n",
              "      <td>NaN</td>\n",
              "    </tr>\n",
              "    <tr>\n",
              "      <th>1</th>\n",
              "      <td>1.0</td>\n",
              "      <td>NaN</td>\n",
              "      <td>NaN</td>\n",
              "    </tr>\n",
              "    <tr>\n",
              "      <th>2</th>\n",
              "      <td>2.0</td>\n",
              "      <td>3.0</td>\n",
              "      <td>NaN</td>\n",
              "    </tr>\n",
              "    <tr>\n",
              "      <th>3</th>\n",
              "      <td>4.0</td>\n",
              "      <td>5.0</td>\n",
              "      <td>6.0</td>\n",
              "    </tr>\n",
              "    <tr>\n",
              "      <th>4</th>\n",
              "      <td>NaN</td>\n",
              "      <td>7.0</td>\n",
              "      <td>8.0</td>\n",
              "    </tr>\n",
              "  </tbody>\n",
              "</table>\n",
              "</div>"
            ],
            "text/plain": [
              "     0    1    2\n",
              "0  NaN  NaN  NaN\n",
              "1  1.0  NaN  NaN\n",
              "2  2.0  3.0  NaN\n",
              "3  4.0  5.0  6.0\n",
              "4  NaN  7.0  8.0"
            ]
          },
          "metadata": {
            "tags": []
          },
          "execution_count": 13
        }
      ]
    },
    {
      "cell_type": "code",
      "metadata": {
        "colab": {
          "base_uri": "https://localhost:8080/",
          "height": 77
        },
        "id": "MxTn7EL40D1s",
        "outputId": "d39cee12-70ca-48f9-9489-2ee4257ebab0"
      },
      "source": [
        "df.dropna()"
      ],
      "execution_count": 14,
      "outputs": [
        {
          "output_type": "execute_result",
          "data": {
            "text/html": [
              "<div>\n",
              "<style scoped>\n",
              "    .dataframe tbody tr th:only-of-type {\n",
              "        vertical-align: middle;\n",
              "    }\n",
              "\n",
              "    .dataframe tbody tr th {\n",
              "        vertical-align: top;\n",
              "    }\n",
              "\n",
              "    .dataframe thead th {\n",
              "        text-align: right;\n",
              "    }\n",
              "</style>\n",
              "<table border=\"1\" class=\"dataframe\">\n",
              "  <thead>\n",
              "    <tr style=\"text-align: right;\">\n",
              "      <th></th>\n",
              "      <th>0</th>\n",
              "      <th>1</th>\n",
              "      <th>2</th>\n",
              "    </tr>\n",
              "  </thead>\n",
              "  <tbody>\n",
              "    <tr>\n",
              "      <th>3</th>\n",
              "      <td>4.0</td>\n",
              "      <td>5.0</td>\n",
              "      <td>6.0</td>\n",
              "    </tr>\n",
              "  </tbody>\n",
              "</table>\n",
              "</div>"
            ],
            "text/plain": [
              "     0    1    2\n",
              "3  4.0  5.0  6.0"
            ]
          },
          "metadata": {
            "tags": []
          },
          "execution_count": 14
        }
      ]
    },
    {
      "cell_type": "code",
      "metadata": {
        "colab": {
          "base_uri": "https://localhost:8080/",
          "height": 195
        },
        "id": "igMBsD7c0K42",
        "outputId": "1728714f-20d5-405e-a1d1-d42b0073f168"
      },
      "source": [
        "df.dropna(thresh=3, axis=1)"
      ],
      "execution_count": 15,
      "outputs": [
        {
          "output_type": "execute_result",
          "data": {
            "text/html": [
              "<div>\n",
              "<style scoped>\n",
              "    .dataframe tbody tr th:only-of-type {\n",
              "        vertical-align: middle;\n",
              "    }\n",
              "\n",
              "    .dataframe tbody tr th {\n",
              "        vertical-align: top;\n",
              "    }\n",
              "\n",
              "    .dataframe thead th {\n",
              "        text-align: right;\n",
              "    }\n",
              "</style>\n",
              "<table border=\"1\" class=\"dataframe\">\n",
              "  <thead>\n",
              "    <tr style=\"text-align: right;\">\n",
              "      <th></th>\n",
              "      <th>0</th>\n",
              "      <th>1</th>\n",
              "    </tr>\n",
              "  </thead>\n",
              "  <tbody>\n",
              "    <tr>\n",
              "      <th>0</th>\n",
              "      <td>NaN</td>\n",
              "      <td>NaN</td>\n",
              "    </tr>\n",
              "    <tr>\n",
              "      <th>1</th>\n",
              "      <td>1.0</td>\n",
              "      <td>NaN</td>\n",
              "    </tr>\n",
              "    <tr>\n",
              "      <th>2</th>\n",
              "      <td>2.0</td>\n",
              "      <td>3.0</td>\n",
              "    </tr>\n",
              "    <tr>\n",
              "      <th>3</th>\n",
              "      <td>4.0</td>\n",
              "      <td>5.0</td>\n",
              "    </tr>\n",
              "    <tr>\n",
              "      <th>4</th>\n",
              "      <td>NaN</td>\n",
              "      <td>7.0</td>\n",
              "    </tr>\n",
              "  </tbody>\n",
              "</table>\n",
              "</div>"
            ],
            "text/plain": [
              "     0    1\n",
              "0  NaN  NaN\n",
              "1  1.0  NaN\n",
              "2  2.0  3.0\n",
              "3  4.0  5.0\n",
              "4  NaN  7.0"
            ]
          },
          "metadata": {
            "tags": []
          },
          "execution_count": 15
        }
      ]
    },
    {
      "cell_type": "code",
      "metadata": {
        "colab": {
          "base_uri": "https://localhost:8080/",
          "height": 343
        },
        "id": "sBna20XV0YUf",
        "outputId": "3da7f4a0-ccf7-4697-9839-dd13d3de098b"
      },
      "source": [
        "np.random.seed(11)\n",
        "df = pd.DataFrame(10 * np.random.rand(10, 3).round(2), columns=[\"A\", \"B\", \"C\"])\n",
        "idx = np.random.rand(10, 3) < 0.1\n",
        "df[idx] = np.nan\n",
        "df"
      ],
      "execution_count": 16,
      "outputs": [
        {
          "output_type": "execute_result",
          "data": {
            "text/html": [
              "<div>\n",
              "<style scoped>\n",
              "    .dataframe tbody tr th:only-of-type {\n",
              "        vertical-align: middle;\n",
              "    }\n",
              "\n",
              "    .dataframe tbody tr th {\n",
              "        vertical-align: top;\n",
              "    }\n",
              "\n",
              "    .dataframe thead th {\n",
              "        text-align: right;\n",
              "    }\n",
              "</style>\n",
              "<table border=\"1\" class=\"dataframe\">\n",
              "  <thead>\n",
              "    <tr style=\"text-align: right;\">\n",
              "      <th></th>\n",
              "      <th>A</th>\n",
              "      <th>B</th>\n",
              "      <th>C</th>\n",
              "    </tr>\n",
              "  </thead>\n",
              "  <tbody>\n",
              "    <tr>\n",
              "      <th>0</th>\n",
              "      <td>1.8</td>\n",
              "      <td>0.2</td>\n",
              "      <td>4.6</td>\n",
              "    </tr>\n",
              "    <tr>\n",
              "      <th>1</th>\n",
              "      <td>7.2</td>\n",
              "      <td>4.2</td>\n",
              "      <td>4.9</td>\n",
              "    </tr>\n",
              "    <tr>\n",
              "      <th>2</th>\n",
              "      <td>0.1</td>\n",
              "      <td>4.9</td>\n",
              "      <td>9.4</td>\n",
              "    </tr>\n",
              "    <tr>\n",
              "      <th>3</th>\n",
              "      <td>8.5</td>\n",
              "      <td>NaN</td>\n",
              "      <td>1.1</td>\n",
              "    </tr>\n",
              "    <tr>\n",
              "      <th>4</th>\n",
              "      <td>NaN</td>\n",
              "      <td>8.6</td>\n",
              "      <td>NaN</td>\n",
              "    </tr>\n",
              "    <tr>\n",
              "      <th>5</th>\n",
              "      <td>6.3</td>\n",
              "      <td>0.2</td>\n",
              "      <td>1.2</td>\n",
              "    </tr>\n",
              "    <tr>\n",
              "      <th>6</th>\n",
              "      <td>3.2</td>\n",
              "      <td>1.6</td>\n",
              "      <td>7.6</td>\n",
              "    </tr>\n",
              "    <tr>\n",
              "      <th>7</th>\n",
              "      <td>8.2</td>\n",
              "      <td>3.4</td>\n",
              "      <td>3.2</td>\n",
              "    </tr>\n",
              "    <tr>\n",
              "      <th>8</th>\n",
              "      <td>1.1</td>\n",
              "      <td>NaN</td>\n",
              "      <td>NaN</td>\n",
              "    </tr>\n",
              "    <tr>\n",
              "      <th>9</th>\n",
              "      <td>6.0</td>\n",
              "      <td>0.6</td>\n",
              "      <td>4.8</td>\n",
              "    </tr>\n",
              "  </tbody>\n",
              "</table>\n",
              "</div>"
            ],
            "text/plain": [
              "     A    B    C\n",
              "0  1.8  0.2  4.6\n",
              "1  7.2  4.2  4.9\n",
              "2  0.1  4.9  9.4\n",
              "3  8.5  NaN  1.1\n",
              "4  NaN  8.6  NaN\n",
              "5  6.3  0.2  1.2\n",
              "6  3.2  1.6  7.6\n",
              "7  8.2  3.4  3.2\n",
              "8  1.1  NaN  NaN\n",
              "9  6.0  0.6  4.8"
            ]
          },
          "metadata": {
            "tags": []
          },
          "execution_count": 16
        }
      ]
    },
    {
      "cell_type": "code",
      "metadata": {
        "colab": {
          "base_uri": "https://localhost:8080/",
          "height": 343
        },
        "id": "rwAjYpwO1IeH",
        "outputId": "7e9902d0-e65c-4c15-ad3e-5b362fdb1ba3"
      },
      "source": [
        "df.fillna(-1)"
      ],
      "execution_count": 17,
      "outputs": [
        {
          "output_type": "execute_result",
          "data": {
            "text/html": [
              "<div>\n",
              "<style scoped>\n",
              "    .dataframe tbody tr th:only-of-type {\n",
              "        vertical-align: middle;\n",
              "    }\n",
              "\n",
              "    .dataframe tbody tr th {\n",
              "        vertical-align: top;\n",
              "    }\n",
              "\n",
              "    .dataframe thead th {\n",
              "        text-align: right;\n",
              "    }\n",
              "</style>\n",
              "<table border=\"1\" class=\"dataframe\">\n",
              "  <thead>\n",
              "    <tr style=\"text-align: right;\">\n",
              "      <th></th>\n",
              "      <th>A</th>\n",
              "      <th>B</th>\n",
              "      <th>C</th>\n",
              "    </tr>\n",
              "  </thead>\n",
              "  <tbody>\n",
              "    <tr>\n",
              "      <th>0</th>\n",
              "      <td>1.8</td>\n",
              "      <td>0.2</td>\n",
              "      <td>4.6</td>\n",
              "    </tr>\n",
              "    <tr>\n",
              "      <th>1</th>\n",
              "      <td>7.2</td>\n",
              "      <td>4.2</td>\n",
              "      <td>4.9</td>\n",
              "    </tr>\n",
              "    <tr>\n",
              "      <th>2</th>\n",
              "      <td>0.1</td>\n",
              "      <td>4.9</td>\n",
              "      <td>9.4</td>\n",
              "    </tr>\n",
              "    <tr>\n",
              "      <th>3</th>\n",
              "      <td>8.5</td>\n",
              "      <td>-1.0</td>\n",
              "      <td>1.1</td>\n",
              "    </tr>\n",
              "    <tr>\n",
              "      <th>4</th>\n",
              "      <td>-1.0</td>\n",
              "      <td>8.6</td>\n",
              "      <td>-1.0</td>\n",
              "    </tr>\n",
              "    <tr>\n",
              "      <th>5</th>\n",
              "      <td>6.3</td>\n",
              "      <td>0.2</td>\n",
              "      <td>1.2</td>\n",
              "    </tr>\n",
              "    <tr>\n",
              "      <th>6</th>\n",
              "      <td>3.2</td>\n",
              "      <td>1.6</td>\n",
              "      <td>7.6</td>\n",
              "    </tr>\n",
              "    <tr>\n",
              "      <th>7</th>\n",
              "      <td>8.2</td>\n",
              "      <td>3.4</td>\n",
              "      <td>3.2</td>\n",
              "    </tr>\n",
              "    <tr>\n",
              "      <th>8</th>\n",
              "      <td>1.1</td>\n",
              "      <td>-1.0</td>\n",
              "      <td>-1.0</td>\n",
              "    </tr>\n",
              "    <tr>\n",
              "      <th>9</th>\n",
              "      <td>6.0</td>\n",
              "      <td>0.6</td>\n",
              "      <td>4.8</td>\n",
              "    </tr>\n",
              "  </tbody>\n",
              "</table>\n",
              "</div>"
            ],
            "text/plain": [
              "     A    B    C\n",
              "0  1.8  0.2  4.6\n",
              "1  7.2  4.2  4.9\n",
              "2  0.1  4.9  9.4\n",
              "3  8.5 -1.0  1.1\n",
              "4 -1.0  8.6 -1.0\n",
              "5  6.3  0.2  1.2\n",
              "6  3.2  1.6  7.6\n",
              "7  8.2  3.4  3.2\n",
              "8  1.1 -1.0 -1.0\n",
              "9  6.0  0.6  4.8"
            ]
          },
          "metadata": {
            "tags": []
          },
          "execution_count": 17
        }
      ]
    },
    {
      "cell_type": "code",
      "metadata": {
        "colab": {
          "base_uri": "https://localhost:8080/",
          "height": 343
        },
        "id": "s4VTfvfE1X6y",
        "outputId": "5e1680d3-79b2-4458-b992-4b485b54f8a5"
      },
      "source": [
        "df.fillna(method=\"ffill\") # 위에서 아래로"
      ],
      "execution_count": 18,
      "outputs": [
        {
          "output_type": "execute_result",
          "data": {
            "text/html": [
              "<div>\n",
              "<style scoped>\n",
              "    .dataframe tbody tr th:only-of-type {\n",
              "        vertical-align: middle;\n",
              "    }\n",
              "\n",
              "    .dataframe tbody tr th {\n",
              "        vertical-align: top;\n",
              "    }\n",
              "\n",
              "    .dataframe thead th {\n",
              "        text-align: right;\n",
              "    }\n",
              "</style>\n",
              "<table border=\"1\" class=\"dataframe\">\n",
              "  <thead>\n",
              "    <tr style=\"text-align: right;\">\n",
              "      <th></th>\n",
              "      <th>A</th>\n",
              "      <th>B</th>\n",
              "      <th>C</th>\n",
              "    </tr>\n",
              "  </thead>\n",
              "  <tbody>\n",
              "    <tr>\n",
              "      <th>0</th>\n",
              "      <td>1.8</td>\n",
              "      <td>0.2</td>\n",
              "      <td>4.6</td>\n",
              "    </tr>\n",
              "    <tr>\n",
              "      <th>1</th>\n",
              "      <td>7.2</td>\n",
              "      <td>4.2</td>\n",
              "      <td>4.9</td>\n",
              "    </tr>\n",
              "    <tr>\n",
              "      <th>2</th>\n",
              "      <td>0.1</td>\n",
              "      <td>4.9</td>\n",
              "      <td>9.4</td>\n",
              "    </tr>\n",
              "    <tr>\n",
              "      <th>3</th>\n",
              "      <td>8.5</td>\n",
              "      <td>4.9</td>\n",
              "      <td>1.1</td>\n",
              "    </tr>\n",
              "    <tr>\n",
              "      <th>4</th>\n",
              "      <td>8.5</td>\n",
              "      <td>8.6</td>\n",
              "      <td>1.1</td>\n",
              "    </tr>\n",
              "    <tr>\n",
              "      <th>5</th>\n",
              "      <td>6.3</td>\n",
              "      <td>0.2</td>\n",
              "      <td>1.2</td>\n",
              "    </tr>\n",
              "    <tr>\n",
              "      <th>6</th>\n",
              "      <td>3.2</td>\n",
              "      <td>1.6</td>\n",
              "      <td>7.6</td>\n",
              "    </tr>\n",
              "    <tr>\n",
              "      <th>7</th>\n",
              "      <td>8.2</td>\n",
              "      <td>3.4</td>\n",
              "      <td>3.2</td>\n",
              "    </tr>\n",
              "    <tr>\n",
              "      <th>8</th>\n",
              "      <td>1.1</td>\n",
              "      <td>3.4</td>\n",
              "      <td>3.2</td>\n",
              "    </tr>\n",
              "    <tr>\n",
              "      <th>9</th>\n",
              "      <td>6.0</td>\n",
              "      <td>0.6</td>\n",
              "      <td>4.8</td>\n",
              "    </tr>\n",
              "  </tbody>\n",
              "</table>\n",
              "</div>"
            ],
            "text/plain": [
              "     A    B    C\n",
              "0  1.8  0.2  4.6\n",
              "1  7.2  4.2  4.9\n",
              "2  0.1  4.9  9.4\n",
              "3  8.5  4.9  1.1\n",
              "4  8.5  8.6  1.1\n",
              "5  6.3  0.2  1.2\n",
              "6  3.2  1.6  7.6\n",
              "7  8.2  3.4  3.2\n",
              "8  1.1  3.4  3.2\n",
              "9  6.0  0.6  4.8"
            ]
          },
          "metadata": {
            "tags": []
          },
          "execution_count": 18
        }
      ]
    },
    {
      "cell_type": "code",
      "metadata": {
        "colab": {
          "base_uri": "https://localhost:8080/",
          "height": 537
        },
        "id": "WZeMdV-y0Uzj",
        "outputId": "21aa0a44-9517-46c5-a008-d255132791a7"
      },
      "source": [
        "print(df)\n",
        "df.fillna(method=\"ffill\", axis=1) # 왼쪽에서 오른쪽으로"
      ],
      "execution_count": 19,
      "outputs": [
        {
          "output_type": "stream",
          "text": [
            "     A    B    C\n",
            "0  1.8  0.2  4.6\n",
            "1  7.2  4.2  4.9\n",
            "2  0.1  4.9  9.4\n",
            "3  8.5  NaN  1.1\n",
            "4  NaN  8.6  NaN\n",
            "5  6.3  0.2  1.2\n",
            "6  3.2  1.6  7.6\n",
            "7  8.2  3.4  3.2\n",
            "8  1.1  NaN  NaN\n",
            "9  6.0  0.6  4.8\n"
          ],
          "name": "stdout"
        },
        {
          "output_type": "execute_result",
          "data": {
            "text/html": [
              "<div>\n",
              "<style scoped>\n",
              "    .dataframe tbody tr th:only-of-type {\n",
              "        vertical-align: middle;\n",
              "    }\n",
              "\n",
              "    .dataframe tbody tr th {\n",
              "        vertical-align: top;\n",
              "    }\n",
              "\n",
              "    .dataframe thead th {\n",
              "        text-align: right;\n",
              "    }\n",
              "</style>\n",
              "<table border=\"1\" class=\"dataframe\">\n",
              "  <thead>\n",
              "    <tr style=\"text-align: right;\">\n",
              "      <th></th>\n",
              "      <th>A</th>\n",
              "      <th>B</th>\n",
              "      <th>C</th>\n",
              "    </tr>\n",
              "  </thead>\n",
              "  <tbody>\n",
              "    <tr>\n",
              "      <th>0</th>\n",
              "      <td>1.8</td>\n",
              "      <td>0.2</td>\n",
              "      <td>4.6</td>\n",
              "    </tr>\n",
              "    <tr>\n",
              "      <th>1</th>\n",
              "      <td>7.2</td>\n",
              "      <td>4.2</td>\n",
              "      <td>4.9</td>\n",
              "    </tr>\n",
              "    <tr>\n",
              "      <th>2</th>\n",
              "      <td>0.1</td>\n",
              "      <td>4.9</td>\n",
              "      <td>9.4</td>\n",
              "    </tr>\n",
              "    <tr>\n",
              "      <th>3</th>\n",
              "      <td>8.5</td>\n",
              "      <td>8.5</td>\n",
              "      <td>1.1</td>\n",
              "    </tr>\n",
              "    <tr>\n",
              "      <th>4</th>\n",
              "      <td>NaN</td>\n",
              "      <td>8.6</td>\n",
              "      <td>8.6</td>\n",
              "    </tr>\n",
              "    <tr>\n",
              "      <th>5</th>\n",
              "      <td>6.3</td>\n",
              "      <td>0.2</td>\n",
              "      <td>1.2</td>\n",
              "    </tr>\n",
              "    <tr>\n",
              "      <th>6</th>\n",
              "      <td>3.2</td>\n",
              "      <td>1.6</td>\n",
              "      <td>7.6</td>\n",
              "    </tr>\n",
              "    <tr>\n",
              "      <th>7</th>\n",
              "      <td>8.2</td>\n",
              "      <td>3.4</td>\n",
              "      <td>3.2</td>\n",
              "    </tr>\n",
              "    <tr>\n",
              "      <th>8</th>\n",
              "      <td>1.1</td>\n",
              "      <td>1.1</td>\n",
              "      <td>1.1</td>\n",
              "    </tr>\n",
              "    <tr>\n",
              "      <th>9</th>\n",
              "      <td>6.0</td>\n",
              "      <td>0.6</td>\n",
              "      <td>4.8</td>\n",
              "    </tr>\n",
              "  </tbody>\n",
              "</table>\n",
              "</div>"
            ],
            "text/plain": [
              "     A    B    C\n",
              "0  1.8  0.2  4.6\n",
              "1  7.2  4.2  4.9\n",
              "2  0.1  4.9  9.4\n",
              "3  8.5  8.5  1.1\n",
              "4  NaN  8.6  8.6\n",
              "5  6.3  0.2  1.2\n",
              "6  3.2  1.6  7.6\n",
              "7  8.2  3.4  3.2\n",
              "8  1.1  1.1  1.1\n",
              "9  6.0  0.6  4.8"
            ]
          },
          "metadata": {
            "tags": []
          },
          "execution_count": 19
        }
      ]
    },
    {
      "cell_type": "code",
      "metadata": {
        "colab": {
          "base_uri": "https://localhost:8080/",
          "height": 537
        },
        "id": "thYJL0oX5mU0",
        "outputId": "74248808-eebe-449d-8e6d-537894d712ba"
      },
      "source": [
        "print(df)\n",
        "df.fillna(method=\"bfill\", axis=1) # 오른쪽에서 왼쪽으로"
      ],
      "execution_count": 20,
      "outputs": [
        {
          "output_type": "stream",
          "text": [
            "     A    B    C\n",
            "0  1.8  0.2  4.6\n",
            "1  7.2  4.2  4.9\n",
            "2  0.1  4.9  9.4\n",
            "3  8.5  NaN  1.1\n",
            "4  NaN  8.6  NaN\n",
            "5  6.3  0.2  1.2\n",
            "6  3.2  1.6  7.6\n",
            "7  8.2  3.4  3.2\n",
            "8  1.1  NaN  NaN\n",
            "9  6.0  0.6  4.8\n"
          ],
          "name": "stdout"
        },
        {
          "output_type": "execute_result",
          "data": {
            "text/html": [
              "<div>\n",
              "<style scoped>\n",
              "    .dataframe tbody tr th:only-of-type {\n",
              "        vertical-align: middle;\n",
              "    }\n",
              "\n",
              "    .dataframe tbody tr th {\n",
              "        vertical-align: top;\n",
              "    }\n",
              "\n",
              "    .dataframe thead th {\n",
              "        text-align: right;\n",
              "    }\n",
              "</style>\n",
              "<table border=\"1\" class=\"dataframe\">\n",
              "  <thead>\n",
              "    <tr style=\"text-align: right;\">\n",
              "      <th></th>\n",
              "      <th>A</th>\n",
              "      <th>B</th>\n",
              "      <th>C</th>\n",
              "    </tr>\n",
              "  </thead>\n",
              "  <tbody>\n",
              "    <tr>\n",
              "      <th>0</th>\n",
              "      <td>1.8</td>\n",
              "      <td>0.2</td>\n",
              "      <td>4.6</td>\n",
              "    </tr>\n",
              "    <tr>\n",
              "      <th>1</th>\n",
              "      <td>7.2</td>\n",
              "      <td>4.2</td>\n",
              "      <td>4.9</td>\n",
              "    </tr>\n",
              "    <tr>\n",
              "      <th>2</th>\n",
              "      <td>0.1</td>\n",
              "      <td>4.9</td>\n",
              "      <td>9.4</td>\n",
              "    </tr>\n",
              "    <tr>\n",
              "      <th>3</th>\n",
              "      <td>8.5</td>\n",
              "      <td>1.1</td>\n",
              "      <td>1.1</td>\n",
              "    </tr>\n",
              "    <tr>\n",
              "      <th>4</th>\n",
              "      <td>8.6</td>\n",
              "      <td>8.6</td>\n",
              "      <td>NaN</td>\n",
              "    </tr>\n",
              "    <tr>\n",
              "      <th>5</th>\n",
              "      <td>6.3</td>\n",
              "      <td>0.2</td>\n",
              "      <td>1.2</td>\n",
              "    </tr>\n",
              "    <tr>\n",
              "      <th>6</th>\n",
              "      <td>3.2</td>\n",
              "      <td>1.6</td>\n",
              "      <td>7.6</td>\n",
              "    </tr>\n",
              "    <tr>\n",
              "      <th>7</th>\n",
              "      <td>8.2</td>\n",
              "      <td>3.4</td>\n",
              "      <td>3.2</td>\n",
              "    </tr>\n",
              "    <tr>\n",
              "      <th>8</th>\n",
              "      <td>1.1</td>\n",
              "      <td>NaN</td>\n",
              "      <td>NaN</td>\n",
              "    </tr>\n",
              "    <tr>\n",
              "      <th>9</th>\n",
              "      <td>6.0</td>\n",
              "      <td>0.6</td>\n",
              "      <td>4.8</td>\n",
              "    </tr>\n",
              "  </tbody>\n",
              "</table>\n",
              "</div>"
            ],
            "text/plain": [
              "     A    B    C\n",
              "0  1.8  0.2  4.6\n",
              "1  7.2  4.2  4.9\n",
              "2  0.1  4.9  9.4\n",
              "3  8.5  1.1  1.1\n",
              "4  8.6  8.6  NaN\n",
              "5  6.3  0.2  1.2\n",
              "6  3.2  1.6  7.6\n",
              "7  8.2  3.4  3.2\n",
              "8  1.1  NaN  NaN\n",
              "9  6.0  0.6  4.8"
            ]
          },
          "metadata": {
            "tags": []
          },
          "execution_count": 20
        }
      ]
    },
    {
      "cell_type": "code",
      "metadata": {
        "colab": {
          "base_uri": "https://localhost:8080/",
          "height": 112
        },
        "id": "nP7w1TiI526c",
        "outputId": "40f67400-82f1-4b18-cf1e-03006ec5426c"
      },
      "source": [
        "dft = pd.DataFrame([[np.nan, np.nan, np.nan]], columns=[\"A\", \"B\", \"C\"])\n",
        "print(dft)\n",
        "dft.fillna({\"A\": 1, \"B\": 2, \"C\": 3})"
      ],
      "execution_count": 21,
      "outputs": [
        {
          "output_type": "stream",
          "text": [
            "    A   B   C\n",
            "0 NaN NaN NaN\n"
          ],
          "name": "stdout"
        },
        {
          "output_type": "execute_result",
          "data": {
            "text/html": [
              "<div>\n",
              "<style scoped>\n",
              "    .dataframe tbody tr th:only-of-type {\n",
              "        vertical-align: middle;\n",
              "    }\n",
              "\n",
              "    .dataframe tbody tr th {\n",
              "        vertical-align: top;\n",
              "    }\n",
              "\n",
              "    .dataframe thead th {\n",
              "        text-align: right;\n",
              "    }\n",
              "</style>\n",
              "<table border=\"1\" class=\"dataframe\">\n",
              "  <thead>\n",
              "    <tr style=\"text-align: right;\">\n",
              "      <th></th>\n",
              "      <th>A</th>\n",
              "      <th>B</th>\n",
              "      <th>C</th>\n",
              "    </tr>\n",
              "  </thead>\n",
              "  <tbody>\n",
              "    <tr>\n",
              "      <th>0</th>\n",
              "      <td>1.0</td>\n",
              "      <td>2.0</td>\n",
              "      <td>3.0</td>\n",
              "    </tr>\n",
              "  </tbody>\n",
              "</table>\n",
              "</div>"
            ],
            "text/plain": [
              "     A    B    C\n",
              "0  1.0  2.0  3.0"
            ]
          },
          "metadata": {
            "tags": []
          },
          "execution_count": 21
        }
      ]
    },
    {
      "cell_type": "code",
      "metadata": {
        "colab": {
          "base_uri": "https://localhost:8080/",
          "height": 625
        },
        "id": "zvyNBpIO6D53",
        "outputId": "38546340-4f00-4ba9-b04c-0cd35d2e414a"
      },
      "source": [
        "print(df)\n",
        "print()\n",
        "print(df.mean().round(1))\n",
        "df.fillna(df.mean().round(1))"
      ],
      "execution_count": 22,
      "outputs": [
        {
          "output_type": "stream",
          "text": [
            "     A    B    C\n",
            "0  1.8  0.2  4.6\n",
            "1  7.2  4.2  4.9\n",
            "2  0.1  4.9  9.4\n",
            "3  8.5  NaN  1.1\n",
            "4  NaN  8.6  NaN\n",
            "5  6.3  0.2  1.2\n",
            "6  3.2  1.6  7.6\n",
            "7  8.2  3.4  3.2\n",
            "8  1.1  NaN  NaN\n",
            "9  6.0  0.6  4.8\n",
            "\n",
            "A    4.7\n",
            "B    3.0\n",
            "C    4.6\n",
            "dtype: float64\n"
          ],
          "name": "stdout"
        },
        {
          "output_type": "execute_result",
          "data": {
            "text/html": [
              "<div>\n",
              "<style scoped>\n",
              "    .dataframe tbody tr th:only-of-type {\n",
              "        vertical-align: middle;\n",
              "    }\n",
              "\n",
              "    .dataframe tbody tr th {\n",
              "        vertical-align: top;\n",
              "    }\n",
              "\n",
              "    .dataframe thead th {\n",
              "        text-align: right;\n",
              "    }\n",
              "</style>\n",
              "<table border=\"1\" class=\"dataframe\">\n",
              "  <thead>\n",
              "    <tr style=\"text-align: right;\">\n",
              "      <th></th>\n",
              "      <th>A</th>\n",
              "      <th>B</th>\n",
              "      <th>C</th>\n",
              "    </tr>\n",
              "  </thead>\n",
              "  <tbody>\n",
              "    <tr>\n",
              "      <th>0</th>\n",
              "      <td>1.8</td>\n",
              "      <td>0.2</td>\n",
              "      <td>4.6</td>\n",
              "    </tr>\n",
              "    <tr>\n",
              "      <th>1</th>\n",
              "      <td>7.2</td>\n",
              "      <td>4.2</td>\n",
              "      <td>4.9</td>\n",
              "    </tr>\n",
              "    <tr>\n",
              "      <th>2</th>\n",
              "      <td>0.1</td>\n",
              "      <td>4.9</td>\n",
              "      <td>9.4</td>\n",
              "    </tr>\n",
              "    <tr>\n",
              "      <th>3</th>\n",
              "      <td>8.5</td>\n",
              "      <td>3.0</td>\n",
              "      <td>1.1</td>\n",
              "    </tr>\n",
              "    <tr>\n",
              "      <th>4</th>\n",
              "      <td>4.7</td>\n",
              "      <td>8.6</td>\n",
              "      <td>4.6</td>\n",
              "    </tr>\n",
              "    <tr>\n",
              "      <th>5</th>\n",
              "      <td>6.3</td>\n",
              "      <td>0.2</td>\n",
              "      <td>1.2</td>\n",
              "    </tr>\n",
              "    <tr>\n",
              "      <th>6</th>\n",
              "      <td>3.2</td>\n",
              "      <td>1.6</td>\n",
              "      <td>7.6</td>\n",
              "    </tr>\n",
              "    <tr>\n",
              "      <th>7</th>\n",
              "      <td>8.2</td>\n",
              "      <td>3.4</td>\n",
              "      <td>3.2</td>\n",
              "    </tr>\n",
              "    <tr>\n",
              "      <th>8</th>\n",
              "      <td>1.1</td>\n",
              "      <td>3.0</td>\n",
              "      <td>4.6</td>\n",
              "    </tr>\n",
              "    <tr>\n",
              "      <th>9</th>\n",
              "      <td>6.0</td>\n",
              "      <td>0.6</td>\n",
              "      <td>4.8</td>\n",
              "    </tr>\n",
              "  </tbody>\n",
              "</table>\n",
              "</div>"
            ],
            "text/plain": [
              "     A    B    C\n",
              "0  1.8  0.2  4.6\n",
              "1  7.2  4.2  4.9\n",
              "2  0.1  4.9  9.4\n",
              "3  8.5  3.0  1.1\n",
              "4  4.7  8.6  4.6\n",
              "5  6.3  0.2  1.2\n",
              "6  3.2  1.6  7.6\n",
              "7  8.2  3.4  3.2\n",
              "8  1.1  3.0  4.6\n",
              "9  6.0  0.6  4.8"
            ]
          },
          "metadata": {
            "tags": []
          },
          "execution_count": 22
        }
      ]
    },
    {
      "cell_type": "markdown",
      "metadata": {
        "id": "7m1ApWqD7Aj9"
      },
      "source": [
        "## Data Scaling"
      ]
    },
    {
      "cell_type": "code",
      "metadata": {
        "id": "Wg2-aEbd7Dar"
      },
      "source": [
        "import numpy as np\n",
        "import matplotlib.pyplot as plt\n",
        "import pandas as pd\n",
        "import seaborn as sns"
      ],
      "execution_count": 23,
      "outputs": []
    },
    {
      "cell_type": "code",
      "metadata": {
        "colab": {
          "base_uri": "https://localhost:8080/",
          "height": 195
        },
        "id": "_S4I8ei17OEr",
        "outputId": "7f0fb18f-0116-40a2-d6ce-0b46a3d397f1"
      },
      "source": [
        "np.random.seed(5)\n",
        "n_samples = 1000\n",
        "height = 4 * np.random.randn(n_samples).round(2) + 170\n",
        "weight = 3 * np.random.randn(n_samples).round(2) + 65\n",
        "df_raw = pd.DataFrame({\"height\": height, \"weight\": weight})\n",
        "df_raw.head()"
      ],
      "execution_count": 24,
      "outputs": [
        {
          "output_type": "execute_result",
          "data": {
            "text/html": [
              "<div>\n",
              "<style scoped>\n",
              "    .dataframe tbody tr th:only-of-type {\n",
              "        vertical-align: middle;\n",
              "    }\n",
              "\n",
              "    .dataframe tbody tr th {\n",
              "        vertical-align: top;\n",
              "    }\n",
              "\n",
              "    .dataframe thead th {\n",
              "        text-align: right;\n",
              "    }\n",
              "</style>\n",
              "<table border=\"1\" class=\"dataframe\">\n",
              "  <thead>\n",
              "    <tr style=\"text-align: right;\">\n",
              "      <th></th>\n",
              "      <th>height</th>\n",
              "      <th>weight</th>\n",
              "    </tr>\n",
              "  </thead>\n",
              "  <tbody>\n",
              "    <tr>\n",
              "      <th>0</th>\n",
              "      <td>171.76</td>\n",
              "      <td>66.62</td>\n",
              "    </tr>\n",
              "    <tr>\n",
              "      <th>1</th>\n",
              "      <td>168.68</td>\n",
              "      <td>66.20</td>\n",
              "    </tr>\n",
              "    <tr>\n",
              "      <th>2</th>\n",
              "      <td>179.72</td>\n",
              "      <td>67.16</td>\n",
              "    </tr>\n",
              "    <tr>\n",
              "      <th>3</th>\n",
              "      <td>169.00</td>\n",
              "      <td>64.94</td>\n",
              "    </tr>\n",
              "    <tr>\n",
              "      <th>4</th>\n",
              "      <td>170.44</td>\n",
              "      <td>65.06</td>\n",
              "    </tr>\n",
              "  </tbody>\n",
              "</table>\n",
              "</div>"
            ],
            "text/plain": [
              "   height  weight\n",
              "0  171.76   66.62\n",
              "1  168.68   66.20\n",
              "2  179.72   67.16\n",
              "3  169.00   64.94\n",
              "4  170.44   65.06"
            ]
          },
          "metadata": {
            "tags": []
          },
          "execution_count": 24
        }
      ]
    },
    {
      "cell_type": "code",
      "metadata": {
        "colab": {
          "base_uri": "https://localhost:8080/",
          "height": 338
        },
        "id": "g1QcT_u87pqd",
        "outputId": "bcb6a6af-3edd-46fa-a7a1-43c4fbaa2a87"
      },
      "source": [
        "sns.distplot(df_raw[\"height\"].values)"
      ],
      "execution_count": 25,
      "outputs": [
        {
          "output_type": "stream",
          "text": [
            "/usr/local/lib/python3.7/dist-packages/seaborn/distributions.py:2557: FutureWarning: `distplot` is a deprecated function and will be removed in a future version. Please adapt your code to use either `displot` (a figure-level function with similar flexibility) or `histplot` (an axes-level function for histograms).\n",
            "  warnings.warn(msg, FutureWarning)\n"
          ],
          "name": "stderr"
        },
        {
          "output_type": "execute_result",
          "data": {
            "text/plain": [
              "<matplotlib.axes._subplots.AxesSubplot at 0x7f4746647f50>"
            ]
          },
          "metadata": {
            "tags": []
          },
          "execution_count": 25
        },
        {
          "output_type": "display_data",
          "data": {
            "image/png": "[encoded data removed]",
            "text/plain": [
              "<Figure size 432x288 with 1 Axes>"
            ]
          },
          "metadata": {
            "tags": [],
            "needs_background": "light"
          }
        }
      ]
    },
    {
      "cell_type": "code",
      "metadata": {
        "colab": {
          "base_uri": "https://localhost:8080/",
          "height": 402
        },
        "id": "ct3JNNHg8C-n",
        "outputId": "c72e4144-6aea-4506-e1a8-21e8b6886dc2"
      },
      "source": [
        "from sklearn.preprocessing import StandardScaler\n",
        "scale = StandardScaler()\n",
        "df = df_raw.copy()\n",
        "df[[\"h_scale\", \"w_scale\"]] = scale.fit_transform(df[[\"height\", \"weight\"]])\n",
        "df"
      ],
      "execution_count": 26,
      "outputs": [
        {
          "output_type": "execute_result",
          "data": {
            "text/html": [
              "<div>\n",
              "<style scoped>\n",
              "    .dataframe tbody tr th:only-of-type {\n",
              "        vertical-align: middle;\n",
              "    }\n",
              "\n",
              "    .dataframe tbody tr th {\n",
              "        vertical-align: top;\n",
              "    }\n",
              "\n",
              "    .dataframe thead th {\n",
              "        text-align: right;\n",
              "    }\n",
              "</style>\n",
              "<table border=\"1\" class=\"dataframe\">\n",
              "  <thead>\n",
              "    <tr style=\"text-align: right;\">\n",
              "      <th></th>\n",
              "      <th>height</th>\n",
              "      <th>weight</th>\n",
              "      <th>h_scale</th>\n",
              "      <th>w_scale</th>\n",
              "    </tr>\n",
              "  </thead>\n",
              "  <tbody>\n",
              "    <tr>\n",
              "      <th>0</th>\n",
              "      <td>171.76</td>\n",
              "      <td>66.62</td>\n",
              "      <td>0.411016</td>\n",
              "      <td>0.556316</td>\n",
              "    </tr>\n",
              "    <tr>\n",
              "      <th>1</th>\n",
              "      <td>168.68</td>\n",
              "      <td>66.20</td>\n",
              "      <td>-0.366907</td>\n",
              "      <td>0.415903</td>\n",
              "    </tr>\n",
              "    <tr>\n",
              "      <th>2</th>\n",
              "      <td>179.72</td>\n",
              "      <td>67.16</td>\n",
              "      <td>2.421491</td>\n",
              "      <td>0.736847</td>\n",
              "    </tr>\n",
              "    <tr>\n",
              "      <th>3</th>\n",
              "      <td>169.00</td>\n",
              "      <td>64.94</td>\n",
              "      <td>-0.286084</td>\n",
              "      <td>-0.005336</td>\n",
              "    </tr>\n",
              "    <tr>\n",
              "      <th>4</th>\n",
              "      <td>170.44</td>\n",
              "      <td>65.06</td>\n",
              "      <td>0.077620</td>\n",
              "      <td>0.034782</td>\n",
              "    </tr>\n",
              "    <tr>\n",
              "      <th>...</th>\n",
              "      <td>...</td>\n",
              "      <td>...</td>\n",
              "      <td>...</td>\n",
              "      <td>...</td>\n",
              "    </tr>\n",
              "    <tr>\n",
              "      <th>995</th>\n",
              "      <td>173.20</td>\n",
              "      <td>69.17</td>\n",
              "      <td>0.774720</td>\n",
              "      <td>1.408824</td>\n",
              "    </tr>\n",
              "    <tr>\n",
              "      <th>996</th>\n",
              "      <td>173.08</td>\n",
              "      <td>66.86</td>\n",
              "      <td>0.744411</td>\n",
              "      <td>0.636552</td>\n",
              "    </tr>\n",
              "    <tr>\n",
              "      <th>997</th>\n",
              "      <td>169.80</td>\n",
              "      <td>67.10</td>\n",
              "      <td>-0.084026</td>\n",
              "      <td>0.716788</td>\n",
              "    </tr>\n",
              "    <tr>\n",
              "      <th>998</th>\n",
              "      <td>171.28</td>\n",
              "      <td>61.43</td>\n",
              "      <td>0.289781</td>\n",
              "      <td>-1.178787</td>\n",
              "    </tr>\n",
              "    <tr>\n",
              "      <th>999</th>\n",
              "      <td>170.44</td>\n",
              "      <td>54.47</td>\n",
              "      <td>0.077620</td>\n",
              "      <td>-3.505631</td>\n",
              "    </tr>\n",
              "  </tbody>\n",
              "</table>\n",
              "<p>1000 rows × 4 columns</p>\n",
              "</div>"
            ],
            "text/plain": [
              "     height  weight   h_scale   w_scale\n",
              "0    171.76   66.62  0.411016  0.556316\n",
              "1    168.68   66.20 -0.366907  0.415903\n",
              "2    179.72   67.16  2.421491  0.736847\n",
              "3    169.00   64.94 -0.286084 -0.005336\n",
              "4    170.44   65.06  0.077620  0.034782\n",
              "..      ...     ...       ...       ...\n",
              "995  173.20   69.17  0.774720  1.408824\n",
              "996  173.08   66.86  0.744411  0.636552\n",
              "997  169.80   67.10 -0.084026  0.716788\n",
              "998  171.28   61.43  0.289781 -1.178787\n",
              "999  170.44   54.47  0.077620 -3.505631\n",
              "\n",
              "[1000 rows x 4 columns]"
            ]
          },
          "metadata": {
            "tags": []
          },
          "execution_count": 26
        }
      ]
    },
    {
      "cell_type": "code",
      "metadata": {
        "colab": {
          "base_uri": "https://localhost:8080/"
        },
        "id": "0JrlmsPG8lRE",
        "outputId": "abdc4e3a-05ed-468d-8c31-539c93376e57"
      },
      "source": [
        "scale.inverse_transform(df[[\"h_scale\", \"w_scale\"]])"
      ],
      "execution_count": 27,
      "outputs": [
        {
          "output_type": "execute_result",
          "data": {
            "text/plain": [
              "array([[171.76,  66.62],\n",
              "       [168.68,  66.2 ],\n",
              "       [179.72,  67.16],\n",
              "       ...,\n",
              "       [169.8 ,  67.1 ],\n",
              "       [171.28,  61.43],\n",
              "       [170.44,  54.47]])"
            ]
          },
          "metadata": {
            "tags": []
          },
          "execution_count": 27
        }
      ]
    },
    {
      "cell_type": "code",
      "metadata": {
        "colab": {
          "base_uri": "https://localhost:8080/",
          "height": 282
        },
        "id": "Suj_Ls8A8ri3",
        "outputId": "e5408156-ac08-4b48-c4a9-0d809ea2d623"
      },
      "source": [
        "df[[\"height\", \"weight\"]].plot.kde()"
      ],
      "execution_count": 28,
      "outputs": [
        {
          "output_type": "execute_result",
          "data": {
            "text/plain": [
              "<matplotlib.axes._subplots.AxesSubplot at 0x7f4741845c90>"
            ]
          },
          "metadata": {
            "tags": []
          },
          "execution_count": 28
        },
        {
          "output_type": "display_data",
          "data": {
            "image/png": "[encoded data removed]",
            "text/plain": [
              "<Figure size 432x288 with 1 Axes>"
            ]
          },
          "metadata": {
            "tags": [],
            "needs_background": "light"
          }
        }
      ]
    },
    {
      "cell_type": "code",
      "metadata": {
        "colab": {
          "base_uri": "https://localhost:8080/",
          "height": 282
        },
        "id": "8n7QJrrK84f_",
        "outputId": "3262b266-4ba0-4390-c5f9-a70a48722f91"
      },
      "source": [
        "df[[\"h_scale\", \"w_scale\"]].plot.kde()"
      ],
      "execution_count": 29,
      "outputs": [
        {
          "output_type": "execute_result",
          "data": {
            "text/plain": [
              "<matplotlib.axes._subplots.AxesSubplot at 0x7f4741845450>"
            ]
          },
          "metadata": {
            "tags": []
          },
          "execution_count": 29
        },
        {
          "output_type": "display_data",
          "data": {
            "image/png": "[encoded data removed]",
            "text/plain": [
              "<Figure size 432x288 with 1 Axes>"
            ]
          },
          "metadata": {
            "tags": [],
            "needs_background": "light"
          }
        }
      ]
    },
    {
      "cell_type": "code",
      "metadata": {
        "colab": {
          "base_uri": "https://localhost:8080/",
          "height": 402
        },
        "id": "Z0n4xAx289sf",
        "outputId": "e20bb41a-77a3-4de2-aace-a6dfaa7729ef"
      },
      "source": [
        "from sklearn.preprocessing import MinMaxScaler\n",
        "scaler = MinMaxScaler()\n",
        "df[[\"h_scale\", \"w_scale\"]] = scaler.fit_transform(df[[\"height\", \"weight\"]])\n",
        "df"
      ],
      "execution_count": 30,
      "outputs": [
        {
          "output_type": "execute_result",
          "data": {
            "text/html": [
              "<div>\n",
              "<style scoped>\n",
              "    .dataframe tbody tr th:only-of-type {\n",
              "        vertical-align: middle;\n",
              "    }\n",
              "\n",
              "    .dataframe tbody tr th {\n",
              "        vertical-align: top;\n",
              "    }\n",
              "\n",
              "    .dataframe thead th {\n",
              "        text-align: right;\n",
              "    }\n",
              "</style>\n",
              "<table border=\"1\" class=\"dataframe\">\n",
              "  <thead>\n",
              "    <tr style=\"text-align: right;\">\n",
              "      <th></th>\n",
              "      <th>height</th>\n",
              "      <th>weight</th>\n",
              "      <th>h_scale</th>\n",
              "      <th>w_scale</th>\n",
              "    </tr>\n",
              "  </thead>\n",
              "  <tbody>\n",
              "    <tr>\n",
              "      <th>0</th>\n",
              "      <td>171.76</td>\n",
              "      <td>66.62</td>\n",
              "      <td>0.539913</td>\n",
              "      <td>0.632813</td>\n",
              "    </tr>\n",
              "    <tr>\n",
              "      <th>1</th>\n",
              "      <td>168.68</td>\n",
              "      <td>66.20</td>\n",
              "      <td>0.428157</td>\n",
              "      <td>0.610938</td>\n",
              "    </tr>\n",
              "    <tr>\n",
              "      <th>2</th>\n",
              "      <td>179.72</td>\n",
              "      <td>67.16</td>\n",
              "      <td>0.828737</td>\n",
              "      <td>0.660938</td>\n",
              "    </tr>\n",
              "    <tr>\n",
              "      <th>3</th>\n",
              "      <td>169.00</td>\n",
              "      <td>64.94</td>\n",
              "      <td>0.439768</td>\n",
              "      <td>0.545313</td>\n",
              "    </tr>\n",
              "    <tr>\n",
              "      <th>4</th>\n",
              "      <td>170.44</td>\n",
              "      <td>65.06</td>\n",
              "      <td>0.492017</td>\n",
              "      <td>0.551563</td>\n",
              "    </tr>\n",
              "    <tr>\n",
              "      <th>...</th>\n",
              "      <td>...</td>\n",
              "      <td>...</td>\n",
              "      <td>...</td>\n",
              "      <td>...</td>\n",
              "    </tr>\n",
              "    <tr>\n",
              "      <th>995</th>\n",
              "      <td>173.20</td>\n",
              "      <td>69.17</td>\n",
              "      <td>0.592163</td>\n",
              "      <td>0.765625</td>\n",
              "    </tr>\n",
              "    <tr>\n",
              "      <th>996</th>\n",
              "      <td>173.08</td>\n",
              "      <td>66.86</td>\n",
              "      <td>0.587808</td>\n",
              "      <td>0.645313</td>\n",
              "    </tr>\n",
              "    <tr>\n",
              "      <th>997</th>\n",
              "      <td>169.80</td>\n",
              "      <td>67.10</td>\n",
              "      <td>0.468795</td>\n",
              "      <td>0.657812</td>\n",
              "    </tr>\n",
              "    <tr>\n",
              "      <th>998</th>\n",
              "      <td>171.28</td>\n",
              "      <td>61.43</td>\n",
              "      <td>0.522496</td>\n",
              "      <td>0.362500</td>\n",
              "    </tr>\n",
              "    <tr>\n",
              "      <th>999</th>\n",
              "      <td>170.44</td>\n",
              "      <td>54.47</td>\n",
              "      <td>0.492017</td>\n",
              "      <td>0.000000</td>\n",
              "    </tr>\n",
              "  </tbody>\n",
              "</table>\n",
              "<p>1000 rows × 4 columns</p>\n",
              "</div>"
            ],
            "text/plain": [
              "     height  weight   h_scale   w_scale\n",
              "0    171.76   66.62  0.539913  0.632813\n",
              "1    168.68   66.20  0.428157  0.610938\n",
              "2    179.72   67.16  0.828737  0.660938\n",
              "3    169.00   64.94  0.439768  0.545313\n",
              "4    170.44   65.06  0.492017  0.551563\n",
              "..      ...     ...       ...       ...\n",
              "995  173.20   69.17  0.592163  0.765625\n",
              "996  173.08   66.86  0.587808  0.645313\n",
              "997  169.80   67.10  0.468795  0.657812\n",
              "998  171.28   61.43  0.522496  0.362500\n",
              "999  170.44   54.47  0.492017  0.000000\n",
              "\n",
              "[1000 rows x 4 columns]"
            ]
          },
          "metadata": {
            "tags": []
          },
          "execution_count": 30
        }
      ]
    },
    {
      "cell_type": "code",
      "metadata": {
        "colab": {
          "base_uri": "https://localhost:8080/",
          "height": 282
        },
        "id": "EdcqeaBV9Nhn",
        "outputId": "b967f257-82d2-4877-95e2-56b4ed5379a5"
      },
      "source": [
        "df[[\"h_scale\", \"w_scale\"]].plot.kde()"
      ],
      "execution_count": 31,
      "outputs": [
        {
          "output_type": "execute_result",
          "data": {
            "text/plain": [
              "<matplotlib.axes._subplots.AxesSubplot at 0x7f47416f5a10>"
            ]
          },
          "metadata": {
            "tags": []
          },
          "execution_count": 31
        },
        {
          "output_type": "display_data",
          "data": {
            "image/png": "[encoded data removed]",
            "text/plain": [
              "<Figure size 432x288 with 1 Axes>"
            ]
          },
          "metadata": {
            "tags": [],
            "needs_background": "light"
          }
        }
      ]
    },
    {
      "cell_type": "markdown",
      "metadata": {
        "id": "g3YxHV1l9qrh"
      },
      "source": [
        "이상치가 있는 경우\n",
        "- min max scaler는 이상치에 영향 받음"
      ]
    },
    {
      "cell_type": "code",
      "metadata": {
        "colab": {
          "base_uri": "https://localhost:8080/",
          "height": 402
        },
        "id": "-oqxHRUA9uSj",
        "outputId": "c65f5048-0625-45b7-b662-c664e2870f31"
      },
      "source": [
        "st_scaler = StandardScaler()\n",
        "mm_scaler = MinMaxScaler()\n",
        "df = df_raw.copy()\n",
        "df[[\"h_st\", \"w_st\"]] = st_scaler.fit_transform(df[[\"height\", \"weight\"]])\n",
        "df[[\"h_mm\", \"w_mm\"]] = mm_scaler.fit_transform(df[[\"height\", \"weight\"]])\n",
        "\n",
        "df[\"height1\"] = height.copy()\n",
        "df[\"height1\"][0] = 200\n",
        "df[\"weight1\"] = weight.copy()\n",
        "df[\"weight1\"][0] = 80\n",
        "df[[\"h1_st\", \"w1_st\"]] = st_scaler.fit_transform(df[[\"height1\", \"weight1\"]])\n",
        "df[[\"h1_mm\", \"w1_mm\"]] = mm_scaler.fit_transform(df[[\"height1\", \"weight1\"]])\n",
        "df[[\"height\", \"height1\", \"h_st\", \"h1_st\", \"h_mm\", \"h1_mm\"]]"
      ],
      "execution_count": 32,
      "outputs": [
        {
          "output_type": "execute_result",
          "data": {
            "text/html": [
              "<div>\n",
              "<style scoped>\n",
              "    .dataframe tbody tr th:only-of-type {\n",
              "        vertical-align: middle;\n",
              "    }\n",
              "\n",
              "    .dataframe tbody tr th {\n",
              "        vertical-align: top;\n",
              "    }\n",
              "\n",
              "    .dataframe thead th {\n",
              "        text-align: right;\n",
              "    }\n",
              "</style>\n",
              "<table border=\"1\" class=\"dataframe\">\n",
              "  <thead>\n",
              "    <tr style=\"text-align: right;\">\n",
              "      <th></th>\n",
              "      <th>height</th>\n",
              "      <th>height1</th>\n",
              "      <th>h_st</th>\n",
              "      <th>h1_st</th>\n",
              "      <th>h_mm</th>\n",
              "      <th>h1_mm</th>\n",
              "    </tr>\n",
              "  </thead>\n",
              "  <tbody>\n",
              "    <tr>\n",
              "      <th>0</th>\n",
              "      <td>171.76</td>\n",
              "      <td>200.00</td>\n",
              "      <td>0.411016</td>\n",
              "      <td>7.331585</td>\n",
              "      <td>0.539913</td>\n",
              "      <td>1.000000</td>\n",
              "    </tr>\n",
              "    <tr>\n",
              "      <th>1</th>\n",
              "      <td>168.68</td>\n",
              "      <td>168.68</td>\n",
              "      <td>-0.366907</td>\n",
              "      <td>-0.363868</td>\n",
              "      <td>0.428157</td>\n",
              "      <td>0.273655</td>\n",
              "    </tr>\n",
              "    <tr>\n",
              "      <th>2</th>\n",
              "      <td>179.72</td>\n",
              "      <td>179.72</td>\n",
              "      <td>2.421491</td>\n",
              "      <td>2.348705</td>\n",
              "      <td>0.828737</td>\n",
              "      <td>0.529685</td>\n",
              "    </tr>\n",
              "    <tr>\n",
              "      <th>3</th>\n",
              "      <td>169.00</td>\n",
              "      <td>169.00</td>\n",
              "      <td>-0.286084</td>\n",
              "      <td>-0.285243</td>\n",
              "      <td>0.439768</td>\n",
              "      <td>0.281076</td>\n",
              "    </tr>\n",
              "    <tr>\n",
              "      <th>4</th>\n",
              "      <td>170.44</td>\n",
              "      <td>170.44</td>\n",
              "      <td>0.077620</td>\n",
              "      <td>0.068571</td>\n",
              "      <td>0.492017</td>\n",
              "      <td>0.314471</td>\n",
              "    </tr>\n",
              "    <tr>\n",
              "      <th>...</th>\n",
              "      <td>...</td>\n",
              "      <td>...</td>\n",
              "      <td>...</td>\n",
              "      <td>...</td>\n",
              "      <td>...</td>\n",
              "      <td>...</td>\n",
              "    </tr>\n",
              "    <tr>\n",
              "      <th>995</th>\n",
              "      <td>173.20</td>\n",
              "      <td>173.20</td>\n",
              "      <td>0.774720</td>\n",
              "      <td>0.746714</td>\n",
              "      <td>0.592163</td>\n",
              "      <td>0.378479</td>\n",
              "    </tr>\n",
              "    <tr>\n",
              "      <th>996</th>\n",
              "      <td>173.08</td>\n",
              "      <td>173.08</td>\n",
              "      <td>0.744411</td>\n",
              "      <td>0.717230</td>\n",
              "      <td>0.587808</td>\n",
              "      <td>0.375696</td>\n",
              "    </tr>\n",
              "    <tr>\n",
              "      <th>997</th>\n",
              "      <td>169.80</td>\n",
              "      <td>169.80</td>\n",
              "      <td>-0.084026</td>\n",
              "      <td>-0.088680</td>\n",
              "      <td>0.468795</td>\n",
              "      <td>0.299629</td>\n",
              "    </tr>\n",
              "    <tr>\n",
              "      <th>998</th>\n",
              "      <td>171.28</td>\n",
              "      <td>171.28</td>\n",
              "      <td>0.289781</td>\n",
              "      <td>0.274963</td>\n",
              "      <td>0.522496</td>\n",
              "      <td>0.333952</td>\n",
              "    </tr>\n",
              "    <tr>\n",
              "      <th>999</th>\n",
              "      <td>170.44</td>\n",
              "      <td>170.44</td>\n",
              "      <td>0.077620</td>\n",
              "      <td>0.068571</td>\n",
              "      <td>0.492017</td>\n",
              "      <td>0.314471</td>\n",
              "    </tr>\n",
              "  </tbody>\n",
              "</table>\n",
              "<p>1000 rows × 6 columns</p>\n",
              "</div>"
            ],
            "text/plain": [
              "     height  height1      h_st     h1_st      h_mm     h1_mm\n",
              "0    171.76   200.00  0.411016  7.331585  0.539913  1.000000\n",
              "1    168.68   168.68 -0.366907 -0.363868  0.428157  0.273655\n",
              "2    179.72   179.72  2.421491  2.348705  0.828737  0.529685\n",
              "3    169.00   169.00 -0.286084 -0.285243  0.439768  0.281076\n",
              "4    170.44   170.44  0.077620  0.068571  0.492017  0.314471\n",
              "..      ...      ...       ...       ...       ...       ...\n",
              "995  173.20   173.20  0.774720  0.746714  0.592163  0.378479\n",
              "996  173.08   173.08  0.744411  0.717230  0.587808  0.375696\n",
              "997  169.80   169.80 -0.084026 -0.088680  0.468795  0.299629\n",
              "998  171.28   171.28  0.289781  0.274963  0.522496  0.333952\n",
              "999  170.44   170.44  0.077620  0.068571  0.492017  0.314471\n",
              "\n",
              "[1000 rows x 6 columns]"
            ]
          },
          "metadata": {
            "tags": []
          },
          "execution_count": 32
        }
      ]
    },
    {
      "cell_type": "code",
      "metadata": {
        "colab": {
          "base_uri": "https://localhost:8080/",
          "height": 402
        },
        "id": "5RhaG8Sa_Dtv",
        "outputId": "eb2caa75-f2b5-4945-c7c9-2403a0d94c8b"
      },
      "source": [
        "df[[\"weight\", \"weight1\", \"w_st\", \"w1_st\", \"w_mm\", \"w1_mm\"]]"
      ],
      "execution_count": 33,
      "outputs": [
        {
          "output_type": "execute_result",
          "data": {
            "text/html": [
              "<div>\n",
              "<style scoped>\n",
              "    .dataframe tbody tr th:only-of-type {\n",
              "        vertical-align: middle;\n",
              "    }\n",
              "\n",
              "    .dataframe tbody tr th {\n",
              "        vertical-align: top;\n",
              "    }\n",
              "\n",
              "    .dataframe thead th {\n",
              "        text-align: right;\n",
              "    }\n",
              "</style>\n",
              "<table border=\"1\" class=\"dataframe\">\n",
              "  <thead>\n",
              "    <tr style=\"text-align: right;\">\n",
              "      <th></th>\n",
              "      <th>weight</th>\n",
              "      <th>weight1</th>\n",
              "      <th>w_st</th>\n",
              "      <th>w1_st</th>\n",
              "      <th>w_mm</th>\n",
              "      <th>w1_mm</th>\n",
              "    </tr>\n",
              "  </thead>\n",
              "  <tbody>\n",
              "    <tr>\n",
              "      <th>0</th>\n",
              "      <td>66.62</td>\n",
              "      <td>80.00</td>\n",
              "      <td>0.556316</td>\n",
              "      <td>4.963423</td>\n",
              "      <td>0.632813</td>\n",
              "      <td>1.000000</td>\n",
              "    </tr>\n",
              "    <tr>\n",
              "      <th>1</th>\n",
              "      <td>66.20</td>\n",
              "      <td>66.20</td>\n",
              "      <td>0.415903</td>\n",
              "      <td>0.406388</td>\n",
              "      <td>0.610938</td>\n",
              "      <td>0.459459</td>\n",
              "    </tr>\n",
              "    <tr>\n",
              "      <th>2</th>\n",
              "      <td>67.16</td>\n",
              "      <td>67.16</td>\n",
              "      <td>0.736847</td>\n",
              "      <td>0.723400</td>\n",
              "      <td>0.660938</td>\n",
              "      <td>0.497062</td>\n",
              "    </tr>\n",
              "    <tr>\n",
              "      <th>3</th>\n",
              "      <td>64.94</td>\n",
              "      <td>64.94</td>\n",
              "      <td>-0.005336</td>\n",
              "      <td>-0.009689</td>\n",
              "      <td>0.545313</td>\n",
              "      <td>0.410106</td>\n",
              "    </tr>\n",
              "    <tr>\n",
              "      <th>4</th>\n",
              "      <td>65.06</td>\n",
              "      <td>65.06</td>\n",
              "      <td>0.034782</td>\n",
              "      <td>0.029938</td>\n",
              "      <td>0.551563</td>\n",
              "      <td>0.414806</td>\n",
              "    </tr>\n",
              "    <tr>\n",
              "      <th>...</th>\n",
              "      <td>...</td>\n",
              "      <td>...</td>\n",
              "      <td>...</td>\n",
              "      <td>...</td>\n",
              "      <td>...</td>\n",
              "      <td>...</td>\n",
              "    </tr>\n",
              "    <tr>\n",
              "      <th>995</th>\n",
              "      <td>69.17</td>\n",
              "      <td>69.17</td>\n",
              "      <td>1.408824</td>\n",
              "      <td>1.387142</td>\n",
              "      <td>0.765625</td>\n",
              "      <td>0.575793</td>\n",
              "    </tr>\n",
              "    <tr>\n",
              "      <th>996</th>\n",
              "      <td>66.86</td>\n",
              "      <td>66.86</td>\n",
              "      <td>0.636552</td>\n",
              "      <td>0.624334</td>\n",
              "      <td>0.645313</td>\n",
              "      <td>0.485311</td>\n",
              "    </tr>\n",
              "    <tr>\n",
              "      <th>997</th>\n",
              "      <td>67.10</td>\n",
              "      <td>67.10</td>\n",
              "      <td>0.716788</td>\n",
              "      <td>0.703586</td>\n",
              "      <td>0.657812</td>\n",
              "      <td>0.494712</td>\n",
              "    </tr>\n",
              "    <tr>\n",
              "      <th>998</th>\n",
              "      <td>61.43</td>\n",
              "      <td>61.43</td>\n",
              "      <td>-1.178787</td>\n",
              "      <td>-1.168761</td>\n",
              "      <td>0.362500</td>\n",
              "      <td>0.272620</td>\n",
              "    </tr>\n",
              "    <tr>\n",
              "      <th>999</th>\n",
              "      <td>54.47</td>\n",
              "      <td>54.47</td>\n",
              "      <td>-3.505631</td>\n",
              "      <td>-3.467091</td>\n",
              "      <td>0.000000</td>\n",
              "      <td>0.000000</td>\n",
              "    </tr>\n",
              "  </tbody>\n",
              "</table>\n",
              "<p>1000 rows × 6 columns</p>\n",
              "</div>"
            ],
            "text/plain": [
              "     weight  weight1      w_st     w1_st      w_mm     w1_mm\n",
              "0     66.62    80.00  0.556316  4.963423  0.632813  1.000000\n",
              "1     66.20    66.20  0.415903  0.406388  0.610938  0.459459\n",
              "2     67.16    67.16  0.736847  0.723400  0.660938  0.497062\n",
              "3     64.94    64.94 -0.005336 -0.009689  0.545313  0.410106\n",
              "4     65.06    65.06  0.034782  0.029938  0.551563  0.414806\n",
              "..      ...      ...       ...       ...       ...       ...\n",
              "995   69.17    69.17  1.408824  1.387142  0.765625  0.575793\n",
              "996   66.86    66.86  0.636552  0.624334  0.645313  0.485311\n",
              "997   67.10    67.10  0.716788  0.703586  0.657812  0.494712\n",
              "998   61.43    61.43 -1.178787 -1.168761  0.362500  0.272620\n",
              "999   54.47    54.47 -3.505631 -3.467091  0.000000  0.000000\n",
              "\n",
              "[1000 rows x 6 columns]"
            ]
          },
          "metadata": {
            "tags": []
          },
          "execution_count": 33
        }
      ]
    },
    {
      "cell_type": "code",
      "metadata": {
        "colab": {
          "base_uri": "https://localhost:8080/",
          "height": 282
        },
        "id": "1YbyhmuFBniv",
        "outputId": "c7d00e34-4a29-45e2-e8e1-f9994363b1ad"
      },
      "source": [
        "df[[\"h_st\", \"h1_st\"]].plot.kde()"
      ],
      "execution_count": 34,
      "outputs": [
        {
          "output_type": "execute_result",
          "data": {
            "text/plain": [
              "<matplotlib.axes._subplots.AxesSubplot at 0x7f4741670e50>"
            ]
          },
          "metadata": {
            "tags": []
          },
          "execution_count": 34
        },
        {
          "output_type": "display_data",
          "data": {
            "image/png": "[encoded data removed]",
            "text/plain": [
              "<Figure size 432x288 with 1 Axes>"
            ]
          },
          "metadata": {
            "tags": [],
            "needs_background": "light"
          }
        }
      ]
    },
    {
      "cell_type": "code",
      "metadata": {
        "colab": {
          "base_uri": "https://localhost:8080/",
          "height": 282
        },
        "id": "FaRMMO4BBrV_",
        "outputId": "a55d0c85-ee32-4a33-87fe-03adc7ac67d6"
      },
      "source": [
        "df[[\"h_mm\", \"h1_mm\"]].plot.kde()"
      ],
      "execution_count": 35,
      "outputs": [
        {
          "output_type": "execute_result",
          "data": {
            "text/plain": [
              "<matplotlib.axes._subplots.AxesSubplot at 0x7f474662dd10>"
            ]
          },
          "metadata": {
            "tags": []
          },
          "execution_count": 35
        },
        {
          "output_type": "display_data",
          "data": {
            "image/png": "[encoded data removed]",
            "text/plain": [
              "<Figure size 432x288 with 1 Axes>"
            ]
          },
          "metadata": {
            "tags": [],
            "needs_background": "light"
          }
        }
      ]
    },
    {
      "cell_type": "markdown",
      "metadata": {
        "id": "E7NLxl-fGaje"
      },
      "source": [
        "## Dealing with outliers"
      ]
    },
    {
      "cell_type": "code",
      "metadata": {
        "colab": {
          "base_uri": "https://localhost:8080/",
          "height": 334
        },
        "id": "hHX4ImgrGsx0",
        "outputId": "ec5676cb-7234-4b4a-9a45-a54de86591b0"
      },
      "source": [
        "f = sns.boxplot(df[\"height1\"])"
      ],
      "execution_count": 38,
      "outputs": [
        {
          "output_type": "stream",
          "text": [
            "/usr/local/lib/python3.7/dist-packages/seaborn/_decorators.py:43: FutureWarning: Pass the following variable as a keyword arg: x. From version 0.12, the only valid positional argument will be `data`, and passing other arguments without an explicit keyword will result in an error or misinterpretation.\n",
            "  FutureWarning\n"
          ],
          "name": "stderr"
        },
        {
          "output_type": "display_data",
          "data": {
            "image/png": "[encoded data removed]",
            "text/plain": [
              "<Figure size 432x288 with 1 Axes>"
            ]
          },
          "metadata": {
            "tags": [],
            "needs_background": "light"
          }
        }
      ]
    },
    {
      "cell_type": "code",
      "metadata": {
        "colab": {
          "base_uri": "https://localhost:8080/"
        },
        "id": "7Kq_u2VnG7ZP",
        "outputId": "eaf6fb81-ba1d-4bc5-c1e1-a5efa467497b"
      },
      "source": [
        "df.shape"
      ],
      "execution_count": 39,
      "outputs": [
        {
          "output_type": "execute_result",
          "data": {
            "text/plain": [
              "(1000, 12)"
            ]
          },
          "metadata": {
            "tags": []
          },
          "execution_count": 39
        }
      ]
    },
    {
      "cell_type": "code",
      "metadata": {
        "colab": {
          "base_uri": "https://localhost:8080/"
        },
        "id": "9LzhPquHG9Ac",
        "outputId": "fa92ec27-fba9-487b-ddc7-176249cb33b4"
      },
      "source": [
        "Q1 = df.height1.quantile(0.25)\n",
        "Q3 = df.height1.quantile(0.75)\n",
        "print(Q1, Q3)\n",
        "IQR = Q3- Q1\n",
        "lower = Q1 - 1.5 * IQR\n",
        "higher = Q3 + 1.5 * IQR\n",
        "\n",
        "print(df.shape)\n",
        "filtered = df.query(\"@lower <= height1 <= @higher\")\n",
        "print(filtered.shape)"
      ],
      "execution_count": 44,
      "outputs": [
        {
          "output_type": "stream",
          "text": [
            "167.52 172.81000000000003\n",
            "(1000, 12)\n",
            "(990, 12)\n"
          ],
          "name": "stdout"
        }
      ]
    },
    {
      "cell_type": "code",
      "metadata": {
        "colab": {
          "base_uri": "https://localhost:8080/",
          "height": 352
        },
        "id": "eWk8AlO0HvQT",
        "outputId": "175142d1-8229-43d5-9b1e-efbdc79db641"
      },
      "source": [
        "sns.boxplot(filtered.height1)"
      ],
      "execution_count": 46,
      "outputs": [
        {
          "output_type": "stream",
          "text": [
            "/usr/local/lib/python3.7/dist-packages/seaborn/_decorators.py:43: FutureWarning: Pass the following variable as a keyword arg: x. From version 0.12, the only valid positional argument will be `data`, and passing other arguments without an explicit keyword will result in an error or misinterpretation.\n",
            "  FutureWarning\n"
          ],
          "name": "stderr"
        },
        {
          "output_type": "execute_result",
          "data": {
            "text/plain": [
              "<matplotlib.axes._subplots.AxesSubplot at 0x7f473c8de0d0>"
            ]
          },
          "metadata": {
            "tags": []
          },
          "execution_count": 46
        },
        {
          "output_type": "display_data",
          "data": {
            "image/png": "[encoded data removed]",
            "text/plain": [
              "<Figure size 432x288 with 1 Axes>"
            ]
          },
          "metadata": {
            "tags": [],
            "needs_background": "light"
          }
        }
      ]
    },
    {
      "cell_type": "code",
      "metadata": {
        "colab": {
          "base_uri": "https://localhost:8080/",
          "height": 387
        },
        "id": "ejcoDQyIH_hA",
        "outputId": "845daeea-a4e8-447c-8f46-b24a11c7c300"
      },
      "source": [
        "print(df.shape)\n",
        "filtered = df.query(\"-3 <= h1_st <= 3\")\n",
        "print(filtered.shape)\n",
        "sns.boxplot(filtered.height1)"
      ],
      "execution_count": 48,
      "outputs": [
        {
          "output_type": "stream",
          "text": [
            "(1000, 12)\n",
            "(994, 12)\n"
          ],
          "name": "stdout"
        },
        {
          "output_type": "stream",
          "text": [
            "/usr/local/lib/python3.7/dist-packages/seaborn/_decorators.py:43: FutureWarning: Pass the following variable as a keyword arg: x. From version 0.12, the only valid positional argument will be `data`, and passing other arguments without an explicit keyword will result in an error or misinterpretation.\n",
            "  FutureWarning\n"
          ],
          "name": "stderr"
        },
        {
          "output_type": "execute_result",
          "data": {
            "text/plain": [
              "<matplotlib.axes._subplots.AxesSubplot at 0x7f473c7fe210>"
            ]
          },
          "metadata": {
            "tags": []
          },
          "execution_count": 48
        },
        {
          "output_type": "display_data",
          "data": {
            "image/png": "[encoded data removed]",
            "text/plain": [
              "<Figure size 432x288 with 1 Axes>"
            ]
          },
          "metadata": {
            "tags": [],
            "needs_background": "light"
          }
        }
      ]
    },
    {
      "cell_type": "markdown",
      "metadata": {
        "id": "pZw_RJiCMZXs"
      },
      "source": [
        "## Data encoding"
      ]
    },
    {
      "cell_type": "code",
      "metadata": {
        "colab": {
          "base_uri": "https://localhost:8080/",
          "height": 336
        },
        "id": "azcAHSbeIb27",
        "outputId": "293ebc33-8fba-43e5-adff-9b5ad3de8b73"
      },
      "source": [
        "df.loc[df.h_st > 1, 'group'] = \"tall\"\n",
        "df.loc[(df.h_st <= 1) & (df.h_st >= -1), 'group'] = \"normal\"\n",
        "df.loc[df.h_st < -1, 'group'] = \"short\"\n",
        "print(\"tallt\\t\", len(df[df.h_st > 1]))\n",
        "print(\"normal\\t\", len(df[(df.h_st >= -1) & (df.h_st <= 1)]))\n",
        "print(\"short\\t\", len(df[df.h_st < -1]))\n",
        "print()\n",
        "print(df.group.value_counts())\n",
        "df.head()"
      ],
      "execution_count": 56,
      "outputs": [
        {
          "output_type": "stream",
          "text": [
            "tallt\t 156\n",
            "normal\t 692\n",
            "short\t 152\n",
            "\n",
            "normal    692\n",
            "tall      156\n",
            "short     152\n",
            "Name: group, dtype: int64\n"
          ],
          "name": "stdout"
        },
        {
          "output_type": "execute_result",
          "data": {
            "text/html": [
              "<div>\n",
              "<style scoped>\n",
              "    .dataframe tbody tr th:only-of-type {\n",
              "        vertical-align: middle;\n",
              "    }\n",
              "\n",
              "    .dataframe tbody tr th {\n",
              "        vertical-align: top;\n",
              "    }\n",
              "\n",
              "    .dataframe thead th {\n",
              "        text-align: right;\n",
              "    }\n",
              "</style>\n",
              "<table border=\"1\" class=\"dataframe\">\n",
              "  <thead>\n",
              "    <tr style=\"text-align: right;\">\n",
              "      <th></th>\n",
              "      <th>height</th>\n",
              "      <th>weight</th>\n",
              "      <th>h_st</th>\n",
              "      <th>w_st</th>\n",
              "      <th>h_mm</th>\n",
              "      <th>w_mm</th>\n",
              "      <th>height1</th>\n",
              "      <th>weight1</th>\n",
              "      <th>h1_st</th>\n",
              "      <th>w1_st</th>\n",
              "      <th>h1_mm</th>\n",
              "      <th>w1_mm</th>\n",
              "      <th>group</th>\n",
              "    </tr>\n",
              "  </thead>\n",
              "  <tbody>\n",
              "    <tr>\n",
              "      <th>0</th>\n",
              "      <td>171.76</td>\n",
              "      <td>66.62</td>\n",
              "      <td>0.411016</td>\n",
              "      <td>0.556316</td>\n",
              "      <td>0.539913</td>\n",
              "      <td>0.632813</td>\n",
              "      <td>200.00</td>\n",
              "      <td>80.00</td>\n",
              "      <td>7.331585</td>\n",
              "      <td>4.963423</td>\n",
              "      <td>1.000000</td>\n",
              "      <td>1.000000</td>\n",
              "      <td>normal</td>\n",
              "    </tr>\n",
              "    <tr>\n",
              "      <th>1</th>\n",
              "      <td>168.68</td>\n",
              "      <td>66.20</td>\n",
              "      <td>-0.366907</td>\n",
              "      <td>0.415903</td>\n",
              "      <td>0.428157</td>\n",
              "      <td>0.610938</td>\n",
              "      <td>168.68</td>\n",
              "      <td>66.20</td>\n",
              "      <td>-0.363868</td>\n",
              "      <td>0.406388</td>\n",
              "      <td>0.273655</td>\n",
              "      <td>0.459459</td>\n",
              "      <td>normal</td>\n",
              "    </tr>\n",
              "    <tr>\n",
              "      <th>2</th>\n",
              "      <td>179.72</td>\n",
              "      <td>67.16</td>\n",
              "      <td>2.421491</td>\n",
              "      <td>0.736847</td>\n",
              "      <td>0.828737</td>\n",
              "      <td>0.660938</td>\n",
              "      <td>179.72</td>\n",
              "      <td>67.16</td>\n",
              "      <td>2.348705</td>\n",
              "      <td>0.723400</td>\n",
              "      <td>0.529685</td>\n",
              "      <td>0.497062</td>\n",
              "      <td>tall</td>\n",
              "    </tr>\n",
              "    <tr>\n",
              "      <th>3</th>\n",
              "      <td>169.00</td>\n",
              "      <td>64.94</td>\n",
              "      <td>-0.286084</td>\n",
              "      <td>-0.005336</td>\n",
              "      <td>0.439768</td>\n",
              "      <td>0.545313</td>\n",
              "      <td>169.00</td>\n",
              "      <td>64.94</td>\n",
              "      <td>-0.285243</td>\n",
              "      <td>-0.009689</td>\n",
              "      <td>0.281076</td>\n",
              "      <td>0.410106</td>\n",
              "      <td>normal</td>\n",
              "    </tr>\n",
              "    <tr>\n",
              "      <th>4</th>\n",
              "      <td>170.44</td>\n",
              "      <td>65.06</td>\n",
              "      <td>0.077620</td>\n",
              "      <td>0.034782</td>\n",
              "      <td>0.492017</td>\n",
              "      <td>0.551563</td>\n",
              "      <td>170.44</td>\n",
              "      <td>65.06</td>\n",
              "      <td>0.068571</td>\n",
              "      <td>0.029938</td>\n",
              "      <td>0.314471</td>\n",
              "      <td>0.414806</td>\n",
              "      <td>normal</td>\n",
              "    </tr>\n",
              "  </tbody>\n",
              "</table>\n",
              "</div>"
            ],
            "text/plain": [
              "   height  weight      h_st      w_st  ...     w1_st     h1_mm     w1_mm   group\n",
              "0  171.76   66.62  0.411016  0.556316  ...  4.963423  1.000000  1.000000  normal\n",
              "1  168.68   66.20 -0.366907  0.415903  ...  0.406388  0.273655  0.459459  normal\n",
              "2  179.72   67.16  2.421491  0.736847  ...  0.723400  0.529685  0.497062    tall\n",
              "3  169.00   64.94 -0.286084 -0.005336  ... -0.009689  0.281076  0.410106  normal\n",
              "4  170.44   65.06  0.077620  0.034782  ...  0.029938  0.314471  0.414806  normal\n",
              "\n",
              "[5 rows x 13 columns]"
            ]
          },
          "metadata": {
            "tags": []
          },
          "execution_count": 56
        }
      ]
    },
    {
      "cell_type": "code",
      "metadata": {
        "colab": {
          "base_uri": "https://localhost:8080/",
          "height": 195
        },
        "id": "uxxrgFi5KWxh",
        "outputId": "00c912b5-44b3-4a04-f570-127a3ca8e260"
      },
      "source": [
        "from sklearn.preprocessing import LabelEncoder\n",
        "encoder = LabelEncoder()\n",
        "df[\"en\"] = encoder.fit_transform(df.group)\n",
        "df.head()"
      ],
      "execution_count": 67,
      "outputs": [
        {
          "output_type": "execute_result",
          "data": {
            "text/html": [
              "<div>\n",
              "<style scoped>\n",
              "    .dataframe tbody tr th:only-of-type {\n",
              "        vertical-align: middle;\n",
              "    }\n",
              "\n",
              "    .dataframe tbody tr th {\n",
              "        vertical-align: top;\n",
              "    }\n",
              "\n",
              "    .dataframe thead th {\n",
              "        text-align: right;\n",
              "    }\n",
              "</style>\n",
              "<table border=\"1\" class=\"dataframe\">\n",
              "  <thead>\n",
              "    <tr style=\"text-align: right;\">\n",
              "      <th></th>\n",
              "      <th>height</th>\n",
              "      <th>weight</th>\n",
              "      <th>h_st</th>\n",
              "      <th>w_st</th>\n",
              "      <th>h_mm</th>\n",
              "      <th>w_mm</th>\n",
              "      <th>height1</th>\n",
              "      <th>weight1</th>\n",
              "      <th>h1_st</th>\n",
              "      <th>w1_st</th>\n",
              "      <th>h1_mm</th>\n",
              "      <th>w1_mm</th>\n",
              "      <th>group</th>\n",
              "      <th>en</th>\n",
              "    </tr>\n",
              "  </thead>\n",
              "  <tbody>\n",
              "    <tr>\n",
              "      <th>0</th>\n",
              "      <td>171.76</td>\n",
              "      <td>66.62</td>\n",
              "      <td>0.411016</td>\n",
              "      <td>0.556316</td>\n",
              "      <td>0.539913</td>\n",
              "      <td>0.632813</td>\n",
              "      <td>200.00</td>\n",
              "      <td>80.00</td>\n",
              "      <td>7.331585</td>\n",
              "      <td>4.963423</td>\n",
              "      <td>1.000000</td>\n",
              "      <td>1.000000</td>\n",
              "      <td>normal</td>\n",
              "      <td>0</td>\n",
              "    </tr>\n",
              "    <tr>\n",
              "      <th>1</th>\n",
              "      <td>168.68</td>\n",
              "      <td>66.20</td>\n",
              "      <td>-0.366907</td>\n",
              "      <td>0.415903</td>\n",
              "      <td>0.428157</td>\n",
              "      <td>0.610938</td>\n",
              "      <td>168.68</td>\n",
              "      <td>66.20</td>\n",
              "      <td>-0.363868</td>\n",
              "      <td>0.406388</td>\n",
              "      <td>0.273655</td>\n",
              "      <td>0.459459</td>\n",
              "      <td>normal</td>\n",
              "      <td>0</td>\n",
              "    </tr>\n",
              "    <tr>\n",
              "      <th>2</th>\n",
              "      <td>179.72</td>\n",
              "      <td>67.16</td>\n",
              "      <td>2.421491</td>\n",
              "      <td>0.736847</td>\n",
              "      <td>0.828737</td>\n",
              "      <td>0.660938</td>\n",
              "      <td>179.72</td>\n",
              "      <td>67.16</td>\n",
              "      <td>2.348705</td>\n",
              "      <td>0.723400</td>\n",
              "      <td>0.529685</td>\n",
              "      <td>0.497062</td>\n",
              "      <td>tall</td>\n",
              "      <td>2</td>\n",
              "    </tr>\n",
              "    <tr>\n",
              "      <th>3</th>\n",
              "      <td>169.00</td>\n",
              "      <td>64.94</td>\n",
              "      <td>-0.286084</td>\n",
              "      <td>-0.005336</td>\n",
              "      <td>0.439768</td>\n",
              "      <td>0.545313</td>\n",
              "      <td>169.00</td>\n",
              "      <td>64.94</td>\n",
              "      <td>-0.285243</td>\n",
              "      <td>-0.009689</td>\n",
              "      <td>0.281076</td>\n",
              "      <td>0.410106</td>\n",
              "      <td>normal</td>\n",
              "      <td>0</td>\n",
              "    </tr>\n",
              "    <tr>\n",
              "      <th>4</th>\n",
              "      <td>170.44</td>\n",
              "      <td>65.06</td>\n",
              "      <td>0.077620</td>\n",
              "      <td>0.034782</td>\n",
              "      <td>0.492017</td>\n",
              "      <td>0.551563</td>\n",
              "      <td>170.44</td>\n",
              "      <td>65.06</td>\n",
              "      <td>0.068571</td>\n",
              "      <td>0.029938</td>\n",
              "      <td>0.314471</td>\n",
              "      <td>0.414806</td>\n",
              "      <td>normal</td>\n",
              "      <td>0</td>\n",
              "    </tr>\n",
              "  </tbody>\n",
              "</table>\n",
              "</div>"
            ],
            "text/plain": [
              "   height  weight      h_st      w_st  ...     h1_mm     w1_mm   group  en\n",
              "0  171.76   66.62  0.411016  0.556316  ...  1.000000  1.000000  normal   0\n",
              "1  168.68   66.20 -0.366907  0.415903  ...  0.273655  0.459459  normal   0\n",
              "2  179.72   67.16  2.421491  0.736847  ...  0.529685  0.497062    tall   2\n",
              "3  169.00   64.94 -0.286084 -0.005336  ...  0.281076  0.410106  normal   0\n",
              "4  170.44   65.06  0.077620  0.034782  ...  0.314471  0.414806  normal   0\n",
              "\n",
              "[5 rows x 14 columns]"
            ]
          },
          "metadata": {
            "tags": []
          },
          "execution_count": 67
        }
      ]
    },
    {
      "cell_type": "code",
      "metadata": {
        "colab": {
          "base_uri": "https://localhost:8080/",
          "height": 195
        },
        "id": "MzPPN1InK1JF",
        "outputId": "218c6d3f-171c-462d-c773-e26c16bf46c8"
      },
      "source": [
        "df_group = pd.get_dummies(df.group)\n",
        "df_group.head()"
      ],
      "execution_count": 69,
      "outputs": [
        {
          "output_type": "execute_result",
          "data": {
            "text/html": [
              "<div>\n",
              "<style scoped>\n",
              "    .dataframe tbody tr th:only-of-type {\n",
              "        vertical-align: middle;\n",
              "    }\n",
              "\n",
              "    .dataframe tbody tr th {\n",
              "        vertical-align: top;\n",
              "    }\n",
              "\n",
              "    .dataframe thead th {\n",
              "        text-align: right;\n",
              "    }\n",
              "</style>\n",
              "<table border=\"1\" class=\"dataframe\">\n",
              "  <thead>\n",
              "    <tr style=\"text-align: right;\">\n",
              "      <th></th>\n",
              "      <th>normal</th>\n",
              "      <th>short</th>\n",
              "      <th>tall</th>\n",
              "    </tr>\n",
              "  </thead>\n",
              "  <tbody>\n",
              "    <tr>\n",
              "      <th>0</th>\n",
              "      <td>1</td>\n",
              "      <td>0</td>\n",
              "      <td>0</td>\n",
              "    </tr>\n",
              "    <tr>\n",
              "      <th>1</th>\n",
              "      <td>1</td>\n",
              "      <td>0</td>\n",
              "      <td>0</td>\n",
              "    </tr>\n",
              "    <tr>\n",
              "      <th>2</th>\n",
              "      <td>0</td>\n",
              "      <td>0</td>\n",
              "      <td>1</td>\n",
              "    </tr>\n",
              "    <tr>\n",
              "      <th>3</th>\n",
              "      <td>1</td>\n",
              "      <td>0</td>\n",
              "      <td>0</td>\n",
              "    </tr>\n",
              "    <tr>\n",
              "      <th>4</th>\n",
              "      <td>1</td>\n",
              "      <td>0</td>\n",
              "      <td>0</td>\n",
              "    </tr>\n",
              "  </tbody>\n",
              "</table>\n",
              "</div>"
            ],
            "text/plain": [
              "   normal  short  tall\n",
              "0       1      0     0\n",
              "1       1      0     0\n",
              "2       0      0     1\n",
              "3       1      0     0\n",
              "4       1      0     0"
            ]
          },
          "metadata": {
            "tags": []
          },
          "execution_count": 69
        }
      ]
    },
    {
      "cell_type": "code",
      "metadata": {
        "colab": {
          "base_uri": "https://localhost:8080/",
          "height": 195
        },
        "id": "KXV8NlboLNk_",
        "outputId": "f31ccbe0-7b4b-451d-a3ab-f5a54d35cf32"
      },
      "source": [
        "pd.concat((df, df_group), axis=1).head()"
      ],
      "execution_count": 74,
      "outputs": [
        {
          "output_type": "execute_result",
          "data": {
            "text/html": [
              "<div>\n",
              "<style scoped>\n",
              "    .dataframe tbody tr th:only-of-type {\n",
              "        vertical-align: middle;\n",
              "    }\n",
              "\n",
              "    .dataframe tbody tr th {\n",
              "        vertical-align: top;\n",
              "    }\n",
              "\n",
              "    .dataframe thead th {\n",
              "        text-align: right;\n",
              "    }\n",
              "</style>\n",
              "<table border=\"1\" class=\"dataframe\">\n",
              "  <thead>\n",
              "    <tr style=\"text-align: right;\">\n",
              "      <th></th>\n",
              "      <th>height</th>\n",
              "      <th>weight</th>\n",
              "      <th>h_st</th>\n",
              "      <th>w_st</th>\n",
              "      <th>h_mm</th>\n",
              "      <th>w_mm</th>\n",
              "      <th>height1</th>\n",
              "      <th>weight1</th>\n",
              "      <th>h1_st</th>\n",
              "      <th>w1_st</th>\n",
              "      <th>h1_mm</th>\n",
              "      <th>w1_mm</th>\n",
              "      <th>group</th>\n",
              "      <th>en</th>\n",
              "      <th>normal</th>\n",
              "      <th>short</th>\n",
              "      <th>tall</th>\n",
              "    </tr>\n",
              "  </thead>\n",
              "  <tbody>\n",
              "    <tr>\n",
              "      <th>0</th>\n",
              "      <td>171.76</td>\n",
              "      <td>66.62</td>\n",
              "      <td>0.411016</td>\n",
              "      <td>0.556316</td>\n",
              "      <td>0.539913</td>\n",
              "      <td>0.632813</td>\n",
              "      <td>200.00</td>\n",
              "      <td>80.00</td>\n",
              "      <td>7.331585</td>\n",
              "      <td>4.963423</td>\n",
              "      <td>1.000000</td>\n",
              "      <td>1.000000</td>\n",
              "      <td>normal</td>\n",
              "      <td>0</td>\n",
              "      <td>1</td>\n",
              "      <td>0</td>\n",
              "      <td>0</td>\n",
              "    </tr>\n",
              "    <tr>\n",
              "      <th>1</th>\n",
              "      <td>168.68</td>\n",
              "      <td>66.20</td>\n",
              "      <td>-0.366907</td>\n",
              "      <td>0.415903</td>\n",
              "      <td>0.428157</td>\n",
              "      <td>0.610938</td>\n",
              "      <td>168.68</td>\n",
              "      <td>66.20</td>\n",
              "      <td>-0.363868</td>\n",
              "      <td>0.406388</td>\n",
              "      <td>0.273655</td>\n",
              "      <td>0.459459</td>\n",
              "      <td>normal</td>\n",
              "      <td>0</td>\n",
              "      <td>1</td>\n",
              "      <td>0</td>\n",
              "      <td>0</td>\n",
              "    </tr>\n",
              "    <tr>\n",
              "      <th>2</th>\n",
              "      <td>179.72</td>\n",
              "      <td>67.16</td>\n",
              "      <td>2.421491</td>\n",
              "      <td>0.736847</td>\n",
              "      <td>0.828737</td>\n",
              "      <td>0.660938</td>\n",
              "      <td>179.72</td>\n",
              "      <td>67.16</td>\n",
              "      <td>2.348705</td>\n",
              "      <td>0.723400</td>\n",
              "      <td>0.529685</td>\n",
              "      <td>0.497062</td>\n",
              "      <td>tall</td>\n",
              "      <td>2</td>\n",
              "      <td>0</td>\n",
              "      <td>0</td>\n",
              "      <td>1</td>\n",
              "    </tr>\n",
              "    <tr>\n",
              "      <th>3</th>\n",
              "      <td>169.00</td>\n",
              "      <td>64.94</td>\n",
              "      <td>-0.286084</td>\n",
              "      <td>-0.005336</td>\n",
              "      <td>0.439768</td>\n",
              "      <td>0.545313</td>\n",
              "      <td>169.00</td>\n",
              "      <td>64.94</td>\n",
              "      <td>-0.285243</td>\n",
              "      <td>-0.009689</td>\n",
              "      <td>0.281076</td>\n",
              "      <td>0.410106</td>\n",
              "      <td>normal</td>\n",
              "      <td>0</td>\n",
              "      <td>1</td>\n",
              "      <td>0</td>\n",
              "      <td>0</td>\n",
              "    </tr>\n",
              "    <tr>\n",
              "      <th>4</th>\n",
              "      <td>170.44</td>\n",
              "      <td>65.06</td>\n",
              "      <td>0.077620</td>\n",
              "      <td>0.034782</td>\n",
              "      <td>0.492017</td>\n",
              "      <td>0.551563</td>\n",
              "      <td>170.44</td>\n",
              "      <td>65.06</td>\n",
              "      <td>0.068571</td>\n",
              "      <td>0.029938</td>\n",
              "      <td>0.314471</td>\n",
              "      <td>0.414806</td>\n",
              "      <td>normal</td>\n",
              "      <td>0</td>\n",
              "      <td>1</td>\n",
              "      <td>0</td>\n",
              "      <td>0</td>\n",
              "    </tr>\n",
              "  </tbody>\n",
              "</table>\n",
              "</div>"
            ],
            "text/plain": [
              "   height  weight      h_st      w_st  ...  en  normal  short  tall\n",
              "0  171.76   66.62  0.411016  0.556316  ...   0       1      0     0\n",
              "1  168.68   66.20 -0.366907  0.415903  ...   0       1      0     0\n",
              "2  179.72   67.16  2.421491  0.736847  ...   2       0      0     1\n",
              "3  169.00   64.94 -0.286084 -0.005336  ...   0       1      0     0\n",
              "4  170.44   65.06  0.077620  0.034782  ...   0       1      0     0\n",
              "\n",
              "[5 rows x 17 columns]"
            ]
          },
          "metadata": {
            "tags": []
          },
          "execution_count": 74
        }
      ]
    },
    {
      "cell_type": "code",
      "metadata": {
        "colab": {
          "base_uri": "https://localhost:8080/",
          "height": 195
        },
        "id": "3QCuL0R1LvAg",
        "outputId": "ff55731d-6b80-4b96-acf4-8b1a0af1ee3c"
      },
      "source": [
        "pd.concat((df, df_group), axis=1)[[\"height\", \"normal\", \"short\", \"tall\"]].head()"
      ],
      "execution_count": 78,
      "outputs": [
        {
          "output_type": "execute_result",
          "data": {
            "text/html": [
              "<div>\n",
              "<style scoped>\n",
              "    .dataframe tbody tr th:only-of-type {\n",
              "        vertical-align: middle;\n",
              "    }\n",
              "\n",
              "    .dataframe tbody tr th {\n",
              "        vertical-align: top;\n",
              "    }\n",
              "\n",
              "    .dataframe thead th {\n",
              "        text-align: right;\n",
              "    }\n",
              "</style>\n",
              "<table border=\"1\" class=\"dataframe\">\n",
              "  <thead>\n",
              "    <tr style=\"text-align: right;\">\n",
              "      <th></th>\n",
              "      <th>height</th>\n",
              "      <th>normal</th>\n",
              "      <th>short</th>\n",
              "      <th>tall</th>\n",
              "    </tr>\n",
              "  </thead>\n",
              "  <tbody>\n",
              "    <tr>\n",
              "      <th>0</th>\n",
              "      <td>171.76</td>\n",
              "      <td>1</td>\n",
              "      <td>0</td>\n",
              "      <td>0</td>\n",
              "    </tr>\n",
              "    <tr>\n",
              "      <th>1</th>\n",
              "      <td>168.68</td>\n",
              "      <td>1</td>\n",
              "      <td>0</td>\n",
              "      <td>0</td>\n",
              "    </tr>\n",
              "    <tr>\n",
              "      <th>2</th>\n",
              "      <td>179.72</td>\n",
              "      <td>0</td>\n",
              "      <td>0</td>\n",
              "      <td>1</td>\n",
              "    </tr>\n",
              "    <tr>\n",
              "      <th>3</th>\n",
              "      <td>169.00</td>\n",
              "      <td>1</td>\n",
              "      <td>0</td>\n",
              "      <td>0</td>\n",
              "    </tr>\n",
              "    <tr>\n",
              "      <th>4</th>\n",
              "      <td>170.44</td>\n",
              "      <td>1</td>\n",
              "      <td>0</td>\n",
              "      <td>0</td>\n",
              "    </tr>\n",
              "  </tbody>\n",
              "</table>\n",
              "</div>"
            ],
            "text/plain": [
              "   height  normal  short  tall\n",
              "0  171.76       1      0     0\n",
              "1  168.68       1      0     0\n",
              "2  179.72       0      0     1\n",
              "3  169.00       1      0     0\n",
              "4  170.44       1      0     0"
            ]
          },
          "metadata": {
            "tags": []
          },
          "execution_count": 78
        }
      ]
    }
  ]
}
