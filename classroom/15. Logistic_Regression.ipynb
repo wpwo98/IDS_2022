{
  "nbformat": 4,
  "nbformat_minor": 0,
  "metadata": {
    "colab": {
      "name": "logistic_regression.ipynb",
      "provenance": [],
      "authorship_tag": "ABX9TyNXAMi5wG2zdmuZxzg3Nao8",
      "include_colab_link": true
    },
    "kernelspec": {
      "name": "python3",
      "display_name": "Python 3"
    },
    "language_info": {
      "name": "python"
    }
  },
  "cells": [
    {
      "cell_type": "markdown",
      "metadata": {
        "id": "view-in-github",
        "colab_type": "text"
      },
      "source": [
        "<a href=\"https://colab.research.google.com/github/LeeSeungYun1020/Introduction_To_Data_Science/blob/master/classroom/logistic_regression.ipynb\" target=\"_parent\"><img src=\"https://colab.research.google.com/assets/colab-badge.svg\" alt=\"Open In Colab\"/></a>"
      ]
    },
    {
      "cell_type": "code",
      "metadata": {
        "id": "QFVg9qCEam7x"
      },
      "source": [
        "# !pip uninstall numpy -y\n",
        "# !pip install -U numpy\n",
        "\n",
        "# !pip uninstall pandas -y\n",
        "# !pip install -U pandas\n",
        "\n",
        "# !pip uninstall scipy -y\n",
        "# !pip install -U scipy\n",
        "\n",
        "# !pip uninstall scikit-learn -y\n",
        "# !pip install -U scikit-learn\n",
        "\n",
        "# !pip uninstall statsmodels -y\n",
        "# !pip install -U statsmodels"
      ],
      "execution_count": null,
      "outputs": []
    },
    {
      "cell_type": "code",
      "metadata": {
        "id": "HjVlrfvxbxA7"
      },
      "source": [
        "import numpy as np\n",
        "import pandas as pd\n",
        "from sklearn import linear_model\n",
        "from sklearn import metrics\n",
        "from sklearn import naive_bayes\n",
        "from sklearn import preprocessing\n",
        "from sklearn.model_selection import train_test_split\n",
        "import seaborn as sns\n",
        "import math\n",
        "import matplotlib.pyplot as plt\n"
      ],
      "execution_count": null,
      "outputs": []
    },
    {
      "cell_type": "markdown",
      "metadata": {
        "id": "wtQ767pFbMkG"
      },
      "source": [
        "# Simple linear regression"
      ]
    },
    {
      "cell_type": "markdown",
      "metadata": {
        "id": "lWffv3Nhi0bv"
      },
      "source": [
        "## 데이터 준비"
      ]
    },
    {
      "cell_type": "code",
      "metadata": {
        "colab": {
          "base_uri": "https://localhost:8080/",
          "height": 195
        },
        "id": "haMLTfh5bcps",
        "outputId": "5bdc7a40-ee4b-47a0-e560-08b89abccc1b"
      },
      "source": [
        "url = \"https://raw.githubusercontent.com/LeeSeungYun1020/Introduction_To_Data_Science/master/data/datum.csv\"\n",
        "data = pd.read_csv(url)\n",
        "data.head()"
      ],
      "execution_count": null,
      "outputs": [
        {
          "output_type": "execute_result",
          "data": {
            "text/html": [
              "<div>\n",
              "<style scoped>\n",
              "    .dataframe tbody tr th:only-of-type {\n",
              "        vertical-align: middle;\n",
              "    }\n",
              "\n",
              "    .dataframe tbody tr th {\n",
              "        vertical-align: top;\n",
              "    }\n",
              "\n",
              "    .dataframe thead th {\n",
              "        text-align: right;\n",
              "    }\n",
              "</style>\n",
              "<table border=\"1\" class=\"dataframe\">\n",
              "  <thead>\n",
              "    <tr style=\"text-align: right;\">\n",
              "      <th></th>\n",
              "      <th>id</th>\n",
              "      <th>name</th>\n",
              "      <th>friends</th>\n",
              "      <th>minutes</th>\n",
              "    </tr>\n",
              "  </thead>\n",
              "  <tbody>\n",
              "    <tr>\n",
              "      <th>0</th>\n",
              "      <td>0</td>\n",
              "      <td>Hero</td>\n",
              "      <td>70</td>\n",
              "      <td>175</td>\n",
              "    </tr>\n",
              "    <tr>\n",
              "      <th>1</th>\n",
              "      <td>1</td>\n",
              "      <td>Dunn</td>\n",
              "      <td>65</td>\n",
              "      <td>170</td>\n",
              "    </tr>\n",
              "    <tr>\n",
              "      <th>2</th>\n",
              "      <td>2</td>\n",
              "      <td>Sue</td>\n",
              "      <td>72</td>\n",
              "      <td>205</td>\n",
              "    </tr>\n",
              "    <tr>\n",
              "      <th>3</th>\n",
              "      <td>3</td>\n",
              "      <td>Chi</td>\n",
              "      <td>63</td>\n",
              "      <td>120</td>\n",
              "    </tr>\n",
              "    <tr>\n",
              "      <th>4</th>\n",
              "      <td>4</td>\n",
              "      <td>Thor</td>\n",
              "      <td>71</td>\n",
              "      <td>220</td>\n",
              "    </tr>\n",
              "  </tbody>\n",
              "</table>\n",
              "</div>"
            ],
            "text/plain": [
              "   id  name  friends  minutes\n",
              "0   0  Hero       70      175\n",
              "1   1  Dunn       65      170\n",
              "2   2   Sue       72      205\n",
              "3   3   Chi       63      120\n",
              "4   4  Thor       71      220"
            ]
          },
          "metadata": {
            "tags": []
          },
          "execution_count": 2
        }
      ]
    },
    {
      "cell_type": "code",
      "metadata": {
        "colab": {
          "base_uri": "https://localhost:8080/",
          "height": 343
        },
        "id": "HJaMbQ-fg91B",
        "outputId": "2c78678a-1653-4053-e38b-79bbc804f656"
      },
      "source": [
        "x = data[[\"friends\"]]\n",
        "y = data[\"minutes\"]\n",
        "x"
      ],
      "execution_count": null,
      "outputs": [
        {
          "output_type": "execute_result",
          "data": {
            "text/html": [
              "<div>\n",
              "<style scoped>\n",
              "    .dataframe tbody tr th:only-of-type {\n",
              "        vertical-align: middle;\n",
              "    }\n",
              "\n",
              "    .dataframe tbody tr th {\n",
              "        vertical-align: top;\n",
              "    }\n",
              "\n",
              "    .dataframe thead th {\n",
              "        text-align: right;\n",
              "    }\n",
              "</style>\n",
              "<table border=\"1\" class=\"dataframe\">\n",
              "  <thead>\n",
              "    <tr style=\"text-align: right;\">\n",
              "      <th></th>\n",
              "      <th>friends</th>\n",
              "    </tr>\n",
              "  </thead>\n",
              "  <tbody>\n",
              "    <tr>\n",
              "      <th>0</th>\n",
              "      <td>70</td>\n",
              "    </tr>\n",
              "    <tr>\n",
              "      <th>1</th>\n",
              "      <td>65</td>\n",
              "    </tr>\n",
              "    <tr>\n",
              "      <th>2</th>\n",
              "      <td>72</td>\n",
              "    </tr>\n",
              "    <tr>\n",
              "      <th>3</th>\n",
              "      <td>63</td>\n",
              "    </tr>\n",
              "    <tr>\n",
              "      <th>4</th>\n",
              "      <td>71</td>\n",
              "    </tr>\n",
              "    <tr>\n",
              "      <th>5</th>\n",
              "      <td>64</td>\n",
              "    </tr>\n",
              "    <tr>\n",
              "      <th>6</th>\n",
              "      <td>60</td>\n",
              "    </tr>\n",
              "    <tr>\n",
              "      <th>7</th>\n",
              "      <td>64</td>\n",
              "    </tr>\n",
              "    <tr>\n",
              "      <th>8</th>\n",
              "      <td>67</td>\n",
              "    </tr>\n",
              "    <tr>\n",
              "      <th>9</th>\n",
              "      <td>69</td>\n",
              "    </tr>\n",
              "  </tbody>\n",
              "</table>\n",
              "</div>"
            ],
            "text/plain": [
              "   friends\n",
              "0       70\n",
              "1       65\n",
              "2       72\n",
              "3       63\n",
              "4       71\n",
              "5       64\n",
              "6       60\n",
              "7       64\n",
              "8       67\n",
              "9       69"
            ]
          },
          "metadata": {
            "tags": []
          },
          "execution_count": 5
        }
      ]
    },
    {
      "cell_type": "code",
      "metadata": {
        "colab": {
          "base_uri": "https://localhost:8080/",
          "height": 282
        },
        "id": "EB3jtNRxigwX",
        "outputId": "c469b49d-c28a-4a8b-89f8-256238a50d04"
      },
      "source": [
        "sns.regplot(x=\"friends\", y=\"minutes\", data=data[[\"friends\", \"minutes\"]])\n",
        "plt.show()"
      ],
      "execution_count": null,
      "outputs": [
        {
          "output_type": "display_data",
          "data": {
            "image/png": "[encoded data removed]",
            "text/plain": [
              "<Figure size 432x288 with 1 Axes>"
            ]
          },
          "metadata": {
            "tags": [],
            "needs_background": "light"
          }
        }
      ]
    },
    {
      "cell_type": "markdown",
      "metadata": {
        "id": "qrwi9Vfxi3nR"
      },
      "source": [
        "## 모델 선택"
      ]
    },
    {
      "cell_type": "code",
      "metadata": {
        "id": "Dal2SyDcixM4"
      },
      "source": [
        "model = linear_model.LinearRegression()"
      ],
      "execution_count": null,
      "outputs": []
    },
    {
      "cell_type": "markdown",
      "metadata": {
        "id": "JOdj1oOki6P5"
      },
      "source": [
        "## 모델 학습"
      ]
    },
    {
      "cell_type": "code",
      "metadata": {
        "colab": {
          "base_uri": "https://localhost:8080/"
        },
        "id": "lVJdtpPfi93L",
        "outputId": "3159f149-de2d-443f-8599-f5fa324ee615"
      },
      "source": [
        "model.fit(x, y)\n",
        "print(\"Intercept:\", model.intercept_, \", Coef:\", model.coef_)"
      ],
      "execution_count": null,
      "outputs": [
        {
          "output_type": "stream",
          "text": [
            "Intercept: -432.0794223826715 , Coef: [8.97111913]\n"
          ],
          "name": "stdout"
        }
      ]
    },
    {
      "cell_type": "markdown",
      "metadata": {
        "id": "lCC7nJGYi-Ay"
      },
      "source": [
        "## 모델 평가"
      ]
    },
    {
      "cell_type": "code",
      "metadata": {
        "colab": {
          "base_uri": "https://localhost:8080/"
        },
        "id": "DM3Ljizfi_tr",
        "outputId": "1982e8fd-a98b-4e67-dbe8-1569b0ab79b4"
      },
      "source": [
        "x_test = x\n",
        "y_test = y\n",
        "y_pred = model.predict(x_test)\n",
        "\n",
        "print(\"Score:\", model.score(x_test, y_test))\n",
        "print(\"MSE:\", metrics.mean_squared_error(y_test, y_pred))\n",
        "print(\"Coefficient of determination:\", metrics.r2_score(y_test, y_pred))"
      ],
      "execution_count": null,
      "outputs": [
        {
          "output_type": "stream",
          "text": [
            "Score: 0.8559505105368174\n",
            "MSE: 187.5884476534296\n",
            "Coefficient of determination: 0.8559505105368174\n"
          ],
          "name": "stdout"
        }
      ]
    },
    {
      "cell_type": "markdown",
      "metadata": {
        "id": "_N0qskTOoAei"
      },
      "source": [
        "# Multiple linear regression"
      ]
    },
    {
      "cell_type": "code",
      "metadata": {
        "colab": {
          "base_uri": "https://localhost:8080/",
          "height": 195
        },
        "id": "ODcisSNYoEPa",
        "outputId": "a9f7ec2a-2d6d-4ee8-ccce-74a76398363e"
      },
      "source": [
        "data = pd.read_csv(\"https://raw.githubusercontent.com/LeeSeungYun1020/Introduction_To_Data_Science/master/data/diabetes.csv\")\n",
        "data.head()"
      ],
      "execution_count": null,
      "outputs": [
        {
          "output_type": "execute_result",
          "data": {
            "text/html": [
              "<div>\n",
              "<style scoped>\n",
              "    .dataframe tbody tr th:only-of-type {\n",
              "        vertical-align: middle;\n",
              "    }\n",
              "\n",
              "    .dataframe tbody tr th {\n",
              "        vertical-align: top;\n",
              "    }\n",
              "\n",
              "    .dataframe thead th {\n",
              "        text-align: right;\n",
              "    }\n",
              "</style>\n",
              "<table border=\"1\" class=\"dataframe\">\n",
              "  <thead>\n",
              "    <tr style=\"text-align: right;\">\n",
              "      <th></th>\n",
              "      <th>AGE</th>\n",
              "      <th>SEX</th>\n",
              "      <th>BMI</th>\n",
              "      <th>BP</th>\n",
              "      <th>S1</th>\n",
              "      <th>S2</th>\n",
              "      <th>S3</th>\n",
              "      <th>S4</th>\n",
              "      <th>S5</th>\n",
              "      <th>S6</th>\n",
              "      <th>Y</th>\n",
              "    </tr>\n",
              "  </thead>\n",
              "  <tbody>\n",
              "    <tr>\n",
              "      <th>0</th>\n",
              "      <td>59</td>\n",
              "      <td>2</td>\n",
              "      <td>32.1</td>\n",
              "      <td>101.0</td>\n",
              "      <td>157</td>\n",
              "      <td>93.2</td>\n",
              "      <td>38.0</td>\n",
              "      <td>4.0</td>\n",
              "      <td>4.8598</td>\n",
              "      <td>87</td>\n",
              "      <td>151</td>\n",
              "    </tr>\n",
              "    <tr>\n",
              "      <th>1</th>\n",
              "      <td>48</td>\n",
              "      <td>1</td>\n",
              "      <td>21.6</td>\n",
              "      <td>87.0</td>\n",
              "      <td>183</td>\n",
              "      <td>103.2</td>\n",
              "      <td>70.0</td>\n",
              "      <td>3.0</td>\n",
              "      <td>3.8918</td>\n",
              "      <td>69</td>\n",
              "      <td>75</td>\n",
              "    </tr>\n",
              "    <tr>\n",
              "      <th>2</th>\n",
              "      <td>72</td>\n",
              "      <td>2</td>\n",
              "      <td>30.5</td>\n",
              "      <td>93.0</td>\n",
              "      <td>156</td>\n",
              "      <td>93.6</td>\n",
              "      <td>41.0</td>\n",
              "      <td>4.0</td>\n",
              "      <td>4.6728</td>\n",
              "      <td>85</td>\n",
              "      <td>141</td>\n",
              "    </tr>\n",
              "    <tr>\n",
              "      <th>3</th>\n",
              "      <td>24</td>\n",
              "      <td>1</td>\n",
              "      <td>25.3</td>\n",
              "      <td>84.0</td>\n",
              "      <td>198</td>\n",
              "      <td>131.4</td>\n",
              "      <td>40.0</td>\n",
              "      <td>5.0</td>\n",
              "      <td>4.8903</td>\n",
              "      <td>89</td>\n",
              "      <td>206</td>\n",
              "    </tr>\n",
              "    <tr>\n",
              "      <th>4</th>\n",
              "      <td>50</td>\n",
              "      <td>1</td>\n",
              "      <td>23.0</td>\n",
              "      <td>101.0</td>\n",
              "      <td>192</td>\n",
              "      <td>125.4</td>\n",
              "      <td>52.0</td>\n",
              "      <td>4.0</td>\n",
              "      <td>4.2905</td>\n",
              "      <td>80</td>\n",
              "      <td>135</td>\n",
              "    </tr>\n",
              "  </tbody>\n",
              "</table>\n",
              "</div>"
            ],
            "text/plain": [
              "   AGE  SEX   BMI     BP   S1     S2    S3   S4      S5  S6    Y\n",
              "0   59    2  32.1  101.0  157   93.2  38.0  4.0  4.8598  87  151\n",
              "1   48    1  21.6   87.0  183  103.2  70.0  3.0  3.8918  69   75\n",
              "2   72    2  30.5   93.0  156   93.6  41.0  4.0  4.6728  85  141\n",
              "3   24    1  25.3   84.0  198  131.4  40.0  5.0  4.8903  89  206\n",
              "4   50    1  23.0  101.0  192  125.4  52.0  4.0  4.2905  80  135"
            ]
          },
          "metadata": {
            "tags": []
          },
          "execution_count": 17
        }
      ]
    },
    {
      "cell_type": "code",
      "metadata": {
        "colab": {
          "base_uri": "https://localhost:8080/"
        },
        "id": "VKv9f1RpwX7o",
        "outputId": "53f46b81-ba21-4431-eccf-5fca874b9daf"
      },
      "source": [
        "data.shape"
      ],
      "execution_count": null,
      "outputs": [
        {
          "output_type": "execute_result",
          "data": {
            "text/plain": [
              "(442, 11)"
            ]
          },
          "metadata": {
            "tags": []
          },
          "execution_count": 20
        }
      ]
    },
    {
      "cell_type": "code",
      "metadata": {
        "id": "GLEPuswxwDhp"
      },
      "source": [
        "data_train = data[:420]\n",
        "data_test = data[421:]\n",
        "\n",
        "predictors = [\"BMI\", \"BP\"]\n",
        "target = \"Y\"\n",
        "\n",
        "x = data_train[predictors]\n",
        "y = data_train[target]"
      ],
      "execution_count": null,
      "outputs": []
    },
    {
      "cell_type": "code",
      "metadata": {
        "colab": {
          "base_uri": "https://localhost:8080/",
          "height": 279
        },
        "id": "KfREXcW0xgWu",
        "outputId": "56fb8c60-3031-4ce8-b500-6060b8b3f117"
      },
      "source": [
        "sns.regplot(x=predictors[0], y=target, data=data_train[[predictors[0], target]])\n",
        "plt.show()"
      ],
      "execution_count": null,
      "outputs": [
        {
          "output_type": "display_data",
          "data": {
            "image/png": "[encoded data removed]",
            "text/plain": [
              "<Figure size 432x288 with 1 Axes>"
            ]
          },
          "metadata": {
            "tags": [],
            "needs_background": "light"
          }
        }
      ]
    },
    {
      "cell_type": "code",
      "metadata": {
        "id": "IW8cxRAev6qG"
      },
      "source": [
        "model = linear_model.LinearRegression()"
      ],
      "execution_count": null,
      "outputs": []
    },
    {
      "cell_type": "code",
      "metadata": {
        "colab": {
          "base_uri": "https://localhost:8080/"
        },
        "id": "FcdYsJl2xKDV",
        "outputId": "9c91a0d5-ea98-4277-868a-718f8952f7be"
      },
      "source": [
        "model.fit(x, y)"
      ],
      "execution_count": null,
      "outputs": [
        {
          "output_type": "execute_result",
          "data": {
            "text/plain": [
              "LinearRegression()"
            ]
          },
          "metadata": {
            "tags": []
          },
          "execution_count": 31
        }
      ]
    },
    {
      "cell_type": "code",
      "metadata": {
        "colab": {
          "base_uri": "https://localhost:8080/"
        },
        "id": "mC96qJKExPT-",
        "outputId": "c28a6d3a-3aba-473c-af8e-8b68335a2f40"
      },
      "source": [
        "x_test = data_test[predictors]\n",
        "y_test = data_test[target]\n",
        "y_pred = model.predict(x_test)\n",
        "print(\"Score:\", model.score(x_test, y_test))\n",
        "print(\"MSE:\", metrics.mean_squared_error(y_test, y_pred))\n",
        "print(\"R2 score:\", metrics.r2_score(y_test, y_pred))"
      ],
      "execution_count": null,
      "outputs": [
        {
          "output_type": "stream",
          "text": [
            "Score: 0.4890345591616515\n",
            "MSE: 2521.597070760351\n",
            "R2 score: 0.4890345591616515\n"
          ],
          "name": "stdout"
        }
      ]
    },
    {
      "cell_type": "code",
      "metadata": {
        "colab": {
          "base_uri": "https://localhost:8080/"
        },
        "id": "AGJrwmLUx6JN",
        "outputId": "ff9fc8ea-3cfe-49ae-d220-c01ef7d85c8c"
      },
      "source": [
        "print(\"Intercept:\", model.intercept_)\n",
        "for name, coef in zip(predictors, model.coef_):\n",
        "  print(name, coef)"
      ],
      "execution_count": null,
      "outputs": [
        {
          "output_type": "stream",
          "text": [
            "Intercept: -202.8237181361084\n",
            "BMI 8.426293227749216\n",
            "BP 1.4083510337859113\n"
          ],
          "name": "stdout"
        }
      ]
    },
    {
      "cell_type": "markdown",
      "metadata": {
        "id": "iznnoZ243Yzt"
      },
      "source": [
        "# Naive bayes"
      ]
    },
    {
      "cell_type": "markdown",
      "metadata": {
        "id": "XbjBcYGi3erh"
      },
      "source": [
        "## Data preprocessing"
      ]
    },
    {
      "cell_type": "code",
      "metadata": {
        "colab": {
          "base_uri": "https://localhost:8080/",
          "height": 195
        },
        "id": "ojKdEDopyWtj",
        "outputId": "d6585b5f-2ff0-44e1-b440-14af3f0cf03e"
      },
      "source": [
        "data = pd.read_csv(\"https://raw.githubusercontent.com/LeeSeungYun1020/Introduction_To_Data_Science/master/data/tennis_play.csv\")\n",
        "data.head()"
      ],
      "execution_count": null,
      "outputs": [
        {
          "output_type": "execute_result",
          "data": {
            "text/html": [
              "<div>\n",
              "<style scoped>\n",
              "    .dataframe tbody tr th:only-of-type {\n",
              "        vertical-align: middle;\n",
              "    }\n",
              "\n",
              "    .dataframe tbody tr th {\n",
              "        vertical-align: top;\n",
              "    }\n",
              "\n",
              "    .dataframe thead th {\n",
              "        text-align: right;\n",
              "    }\n",
              "</style>\n",
              "<table border=\"1\" class=\"dataframe\">\n",
              "  <thead>\n",
              "    <tr style=\"text-align: right;\">\n",
              "      <th></th>\n",
              "      <th>Day</th>\n",
              "      <th>Outlook</th>\n",
              "      <th>Temperature</th>\n",
              "      <th>Humidity</th>\n",
              "      <th>Wind</th>\n",
              "      <th>PlayTennis</th>\n",
              "    </tr>\n",
              "  </thead>\n",
              "  <tbody>\n",
              "    <tr>\n",
              "      <th>0</th>\n",
              "      <td>D1</td>\n",
              "      <td>Sunny</td>\n",
              "      <td>Hot</td>\n",
              "      <td>High</td>\n",
              "      <td>Weak</td>\n",
              "      <td>No</td>\n",
              "    </tr>\n",
              "    <tr>\n",
              "      <th>1</th>\n",
              "      <td>D2</td>\n",
              "      <td>Sunny</td>\n",
              "      <td>Hot</td>\n",
              "      <td>High</td>\n",
              "      <td>Strong</td>\n",
              "      <td>No</td>\n",
              "    </tr>\n",
              "    <tr>\n",
              "      <th>2</th>\n",
              "      <td>D3</td>\n",
              "      <td>Overcast</td>\n",
              "      <td>Hot</td>\n",
              "      <td>High</td>\n",
              "      <td>Weak</td>\n",
              "      <td>Yes</td>\n",
              "    </tr>\n",
              "    <tr>\n",
              "      <th>3</th>\n",
              "      <td>D4</td>\n",
              "      <td>Rain</td>\n",
              "      <td>Mild</td>\n",
              "      <td>High</td>\n",
              "      <td>Weak</td>\n",
              "      <td>Yes</td>\n",
              "    </tr>\n",
              "    <tr>\n",
              "      <th>4</th>\n",
              "      <td>D5</td>\n",
              "      <td>Rain</td>\n",
              "      <td>Cool</td>\n",
              "      <td>Normal</td>\n",
              "      <td>Weak</td>\n",
              "      <td>Yes</td>\n",
              "    </tr>\n",
              "  </tbody>\n",
              "</table>\n",
              "</div>"
            ],
            "text/plain": [
              "  Day   Outlook Temperature Humidity    Wind PlayTennis\n",
              "0  D1     Sunny         Hot     High    Weak         No\n",
              "1  D2     Sunny         Hot     High  Strong         No\n",
              "2  D3  Overcast         Hot     High    Weak        Yes\n",
              "3  D4      Rain        Mild     High    Weak        Yes\n",
              "4  D5      Rain        Cool   Normal    Weak        Yes"
            ]
          },
          "metadata": {
            "tags": []
          },
          "execution_count": 34
        }
      ]
    },
    {
      "cell_type": "code",
      "metadata": {
        "colab": {
          "base_uri": "https://localhost:8080/"
        },
        "id": "IGcQKu334LlZ",
        "outputId": "4d56f6b4-cc83-4717-be2c-79d241285ae6"
      },
      "source": [
        "data.shape"
      ],
      "execution_count": null,
      "outputs": [
        {
          "output_type": "execute_result",
          "data": {
            "text/plain": [
              "(14, 6)"
            ]
          },
          "metadata": {
            "tags": []
          },
          "execution_count": 35
        }
      ]
    },
    {
      "cell_type": "code",
      "metadata": {
        "colab": {
          "base_uri": "https://localhost:8080/"
        },
        "id": "UBrckNRL4M9G",
        "outputId": "bfcc530e-42cd-456b-c857-d42f83bcc1d2"
      },
      "source": [
        "columns = {}\n",
        "label_encoders = {}\n",
        "for feature in data.columns[1:]:\n",
        "  label_encoders[feature] = preprocessing.LabelEncoder()\n",
        "  columns[feature] = label_encoders[feature].fit_transform(data[feature]) # fit과 transform 동시 수행\n",
        "  print(label_encoders[feature].classes_)\n",
        "  col = columns[feature]\n",
        "  lab = label_encoders[feature].inverse_transform(columns[feature])\n",
        "  print(col)\n",
        "  print(lab)"
      ],
      "execution_count": null,
      "outputs": [
        {
          "output_type": "stream",
          "text": [
            "['Overcast' 'Rain' 'Sunny']\n",
            "[2 2 0 1 1 1 0 2 2 1 2 0 0 1]\n",
            "['Sunny' 'Sunny' 'Overcast' 'Rain' 'Rain' 'Rain' 'Overcast' 'Sunny'\n",
            " 'Sunny' 'Rain' 'Sunny' 'Overcast' 'Overcast' 'Rain']\n",
            "['Cool' 'Hot' 'Mild']\n",
            "[1 1 1 2 0 0 0 2 0 2 2 2 1 2]\n",
            "['Hot' 'Hot' 'Hot' 'Mild' 'Cool' 'Cool' 'Cool' 'Mild' 'Cool' 'Mild' 'Mild'\n",
            " 'Mild' 'Hot' 'Mild']\n",
            "['High' 'Normal']\n",
            "[0 0 0 0 1 1 1 0 1 1 1 0 1 0]\n",
            "['High' 'High' 'High' 'High' 'Normal' 'Normal' 'Normal' 'High' 'Normal'\n",
            " 'Normal' 'Normal' 'High' 'Normal' 'High']\n",
            "['Strong' 'Weak']\n",
            "[1 0 1 1 1 0 0 1 1 1 0 0 1 0]\n",
            "['Weak' 'Strong' 'Weak' 'Weak' 'Weak' 'Strong' 'Strong' 'Weak' 'Weak'\n",
            " 'Weak' 'Strong' 'Strong' 'Weak' 'Strong']\n",
            "['No' 'Yes']\n",
            "[0 0 1 1 1 0 1 0 1 1 1 1 1 0]\n",
            "['No' 'No' 'Yes' 'Yes' 'Yes' 'No' 'Yes' 'No' 'Yes' 'Yes' 'Yes' 'Yes' 'Yes'\n",
            " 'No']\n"
          ],
          "name": "stdout"
        }
      ]
    },
    {
      "cell_type": "code",
      "metadata": {
        "colab": {
          "base_uri": "https://localhost:8080/",
          "height": 195
        },
        "id": "ycp9zP608fdv",
        "outputId": "1b3e854f-fe24-4d58-e6ce-d00e3d8f8138"
      },
      "source": [
        "edata = pd.DataFrame(columns)\n",
        "edata.head()"
      ],
      "execution_count": null,
      "outputs": [
        {
          "output_type": "execute_result",
          "data": {
            "text/html": [
              "<div>\n",
              "<style scoped>\n",
              "    .dataframe tbody tr th:only-of-type {\n",
              "        vertical-align: middle;\n",
              "    }\n",
              "\n",
              "    .dataframe tbody tr th {\n",
              "        vertical-align: top;\n",
              "    }\n",
              "\n",
              "    .dataframe thead th {\n",
              "        text-align: right;\n",
              "    }\n",
              "</style>\n",
              "<table border=\"1\" class=\"dataframe\">\n",
              "  <thead>\n",
              "    <tr style=\"text-align: right;\">\n",
              "      <th></th>\n",
              "      <th>Outlook</th>\n",
              "      <th>Temperature</th>\n",
              "      <th>Humidity</th>\n",
              "      <th>Wind</th>\n",
              "      <th>PlayTennis</th>\n",
              "    </tr>\n",
              "  </thead>\n",
              "  <tbody>\n",
              "    <tr>\n",
              "      <th>0</th>\n",
              "      <td>2</td>\n",
              "      <td>1</td>\n",
              "      <td>0</td>\n",
              "      <td>1</td>\n",
              "      <td>0</td>\n",
              "    </tr>\n",
              "    <tr>\n",
              "      <th>1</th>\n",
              "      <td>2</td>\n",
              "      <td>1</td>\n",
              "      <td>0</td>\n",
              "      <td>0</td>\n",
              "      <td>0</td>\n",
              "    </tr>\n",
              "    <tr>\n",
              "      <th>2</th>\n",
              "      <td>0</td>\n",
              "      <td>1</td>\n",
              "      <td>0</td>\n",
              "      <td>1</td>\n",
              "      <td>1</td>\n",
              "    </tr>\n",
              "    <tr>\n",
              "      <th>3</th>\n",
              "      <td>1</td>\n",
              "      <td>2</td>\n",
              "      <td>0</td>\n",
              "      <td>1</td>\n",
              "      <td>1</td>\n",
              "    </tr>\n",
              "    <tr>\n",
              "      <th>4</th>\n",
              "      <td>1</td>\n",
              "      <td>0</td>\n",
              "      <td>1</td>\n",
              "      <td>1</td>\n",
              "      <td>1</td>\n",
              "    </tr>\n",
              "  </tbody>\n",
              "</table>\n",
              "</div>"
            ],
            "text/plain": [
              "   Outlook  Temperature  Humidity  Wind  PlayTennis\n",
              "0        2            1         0     1           0\n",
              "1        2            1         0     0           0\n",
              "2        0            1         0     1           1\n",
              "3        1            2         0     1           1\n",
              "4        1            0         1     1           1"
            ]
          },
          "metadata": {
            "tags": []
          },
          "execution_count": 49
        }
      ]
    },
    {
      "cell_type": "code",
      "metadata": {
        "colab": {
          "base_uri": "https://localhost:8080/"
        },
        "id": "LCJ4_iq_BlMU",
        "outputId": "c67bc4b0-99d5-4c47-9803-2f65b4c8ac4b"
      },
      "source": [
        "print(np.where(label_encoders[\"Outlook\"].classes_ == \"Sunny\")[0][0])\n",
        "print(np.where(label_encoders[\"Temperature\"].classes_ == \"Cool\")[0][0])\n",
        "print(np.where(label_encoders[\"Humidity\"].classes_ == \"High\")[0][0])\n",
        "print(np.where(label_encoders[\"Wind\"].classes_ == \"Strong\")[0][0])"
      ],
      "execution_count": null,
      "outputs": [
        {
          "output_type": "stream",
          "text": [
            "2\n",
            "0\n",
            "0\n",
            "0\n"
          ],
          "name": "stdout"
        }
      ]
    },
    {
      "cell_type": "code",
      "metadata": {
        "colab": {
          "base_uri": "https://localhost:8080/"
        },
        "id": "s8UCKkbr8rXk",
        "outputId": "246fbe6d-2671-40ea-87bf-ef64f7eb20c8"
      },
      "source": [
        "model = naive_bayes.CategoricalNB(alpha=0.001)\n",
        "model.fit(edata[[\"Outlook\", \"Temperature\", \"Humidity\", \"Wind\"]], edata[\"PlayTennis\"])\n",
        "print(model.predict([[2, 0, 0, 0]]))\n",
        "print(model.predict_proba([[2, 0, 0, 0]]))"
      ],
      "execution_count": null,
      "outputs": [
        {
          "output_type": "stream",
          "text": [
            "[0]\n",
            "[[0.7953405 0.2046595]]\n"
          ],
          "name": "stdout"
        }
      ]
    },
    {
      "cell_type": "markdown",
      "metadata": {
        "id": "7iKhWrhKfjHR"
      },
      "source": [
        "## Logistic regression"
      ]
    },
    {
      "cell_type": "markdown",
      "metadata": {
        "id": "8PoEaoMLfswb"
      },
      "source": [
        "선형 회귀, 나이브 베이즈, 로지스틱 회귀 비교"
      ]
    },
    {
      "cell_type": "code",
      "metadata": {
        "colab": {
          "base_uri": "https://localhost:8080/",
          "height": 195
        },
        "id": "ug9vlhd7f2Nq",
        "outputId": "267e66cc-0705-43c1-e348-9bfd865666b4"
      },
      "source": [
        "data = pd.read_csv(\"https://raw.githubusercontent.com/LeeSeungYun1020/Introduction_To_Data_Science/master/data/study_pass.csv\")\n",
        "data.head()"
      ],
      "execution_count": null,
      "outputs": [
        {
          "output_type": "execute_result",
          "data": {
            "text/html": [
              "<div>\n",
              "<style scoped>\n",
              "    .dataframe tbody tr th:only-of-type {\n",
              "        vertical-align: middle;\n",
              "    }\n",
              "\n",
              "    .dataframe tbody tr th {\n",
              "        vertical-align: top;\n",
              "    }\n",
              "\n",
              "    .dataframe thead th {\n",
              "        text-align: right;\n",
              "    }\n",
              "</style>\n",
              "<table border=\"1\" class=\"dataframe\">\n",
              "  <thead>\n",
              "    <tr style=\"text-align: right;\">\n",
              "      <th></th>\n",
              "      <th>Hours</th>\n",
              "      <th>Pass</th>\n",
              "    </tr>\n",
              "  </thead>\n",
              "  <tbody>\n",
              "    <tr>\n",
              "      <th>0</th>\n",
              "      <td>0.50</td>\n",
              "      <td>0</td>\n",
              "    </tr>\n",
              "    <tr>\n",
              "      <th>1</th>\n",
              "      <td>0.75</td>\n",
              "      <td>0</td>\n",
              "    </tr>\n",
              "    <tr>\n",
              "      <th>2</th>\n",
              "      <td>1.00</td>\n",
              "      <td>0</td>\n",
              "    </tr>\n",
              "    <tr>\n",
              "      <th>3</th>\n",
              "      <td>1.25</td>\n",
              "      <td>0</td>\n",
              "    </tr>\n",
              "    <tr>\n",
              "      <th>4</th>\n",
              "      <td>1.50</td>\n",
              "      <td>0</td>\n",
              "    </tr>\n",
              "  </tbody>\n",
              "</table>\n",
              "</div>"
            ],
            "text/plain": [
              "   Hours  Pass\n",
              "0   0.50     0\n",
              "1   0.75     0\n",
              "2   1.00     0\n",
              "3   1.25     0\n",
              "4   1.50     0"
            ]
          },
          "metadata": {
            "tags": []
          },
          "execution_count": 2
        }
      ]
    },
    {
      "cell_type": "code",
      "metadata": {
        "colab": {
          "base_uri": "https://localhost:8080/",
          "height": 297
        },
        "id": "9kgWXstUgDij",
        "outputId": "81c72887-8538-4183-d5c2-a38d5cf87d17"
      },
      "source": [
        "x = data[[\"Hours\"]]\n",
        "y = data[\"Pass\"]\n",
        "sns.regplot(x=\"Hours\", y=\"Pass\", data=data)"
      ],
      "execution_count": null,
      "outputs": [
        {
          "output_type": "execute_result",
          "data": {
            "text/plain": [
              "<matplotlib.axes._subplots.AxesSubplot at 0x7f0d31229dd0>"
            ]
          },
          "metadata": {
            "tags": []
          },
          "execution_count": 4
        },
        {
          "output_type": "display_data",
          "data": {
            "image/png": "[encoded data removed]",
            "text/plain": [
              "<Figure size 432x288 with 1 Axes>"
            ]
          },
          "metadata": {
            "tags": [],
            "needs_background": "light"
          }
        }
      ]
    },
    {
      "cell_type": "code",
      "metadata": {
        "id": "NljtAGjpgcYp"
      },
      "source": [
        "model1 = linear_model.LinearRegression()\n",
        "model2 = naive_bayes.CategoricalNB(alpha=0.001)\n",
        "model3 = linear_model.LogisticRegression()"
      ],
      "execution_count": null,
      "outputs": []
    },
    {
      "cell_type": "code",
      "metadata": {
        "colab": {
          "base_uri": "https://localhost:8080/"
        },
        "id": "ZetNryqmgrW6",
        "outputId": "6b0d114a-3fa9-4183-d4ac-bbb41a2a2f21"
      },
      "source": [
        "model1.fit(x, y)\n",
        "model2.fit(x, y)\n",
        "model3.fit(x, y)"
      ],
      "execution_count": null,
      "outputs": [
        {
          "output_type": "execute_result",
          "data": {
            "text/plain": [
              "LogisticRegression(C=1.0, class_weight=None, dual=False, fit_intercept=True,\n",
              "                   intercept_scaling=1, l1_ratio=None, max_iter=100,\n",
              "                   multi_class='auto', n_jobs=None, penalty='l2',\n",
              "                   random_state=None, solver='lbfgs', tol=0.0001, verbose=0,\n",
              "                   warm_start=False)"
            ]
          },
          "metadata": {
            "tags": []
          },
          "execution_count": 6
        }
      ]
    },
    {
      "cell_type": "code",
      "metadata": {
        "colab": {
          "base_uri": "https://localhost:8080/"
        },
        "id": "h5ngie55hN73",
        "outputId": "a149149e-1795-4348-fd86-8b495dfa90e0"
      },
      "source": [
        "print(y.values)\n",
        "print(\"---------------\")\n",
        "print(model1.predict(x))\n",
        "y_pred1 = (model1.predict(x) > 0.5).astype(np.int64)\n",
        "print(y_pred1)\n",
        "y_pred2 = model2.predict(x)\n",
        "print(y_pred2)\n",
        "y_pred3 = model3.predict(x)\n",
        "print(y_pred3)"
      ],
      "execution_count": null,
      "outputs": [
        {
          "output_type": "stream",
          "text": [
            "[0 0 0 0 0 0 1 0 1 0 1 0 1 0 1 1 1 1 1 1]\n",
            "---------------\n",
            "[-0.03663746  0.02201144  0.08066034  0.13930925  0.19795815  0.25660705\n",
            "  0.25660705  0.31525596  0.37390486  0.43255376  0.49120266  0.54985157\n",
            "  0.60850047  0.66714937  0.78444718  0.84309608  0.90174499  0.96039389\n",
            "  1.01904279  1.1363406 ]\n",
            "[0 0 0 0 0 0 0 0 0 0 0 1 1 1 1 1 1 1 1 1]\n",
            "[0 0 0 0 0 0 0 0 0 0 0 0 0 0 1 1 1 1 1 1]\n",
            "[0 0 0 0 0 0 0 0 0 0 1 1 1 1 1 1 1 1 1 1]\n"
          ],
          "name": "stdout"
        }
      ]
    },
    {
      "cell_type": "code",
      "metadata": {
        "colab": {
          "base_uri": "https://localhost:8080/"
        },
        "id": "RdQZFv_jh8G_",
        "outputId": "73ad86cb-cdca-49f9-c70f-115c5deade21"
      },
      "source": [
        "print(model2.predict_proba(x)[:,1])\n",
        "print(model3.predict_proba(x)[:,1])"
      ],
      "execution_count": null,
      "outputs": [
        {
          "output_type": "stream",
          "text": [
            "[4.99500500e-04 4.99500500e-04 2.00119952e-01 2.00119952e-01\n",
            " 2.00119952e-01 2.00119952e-01 2.00119952e-01 5.00000000e-01\n",
            " 5.00000000e-01 5.00000000e-01 5.00000000e-01 3.33444370e-01\n",
            " 3.33444370e-01 3.33444370e-01 9.99750125e-01 9.99750125e-01\n",
            " 9.99750125e-01 9.99750125e-01 9.99500500e-01 9.99500500e-01]\n",
            "[0.07141048 0.09295545 0.12015954 0.15397362 0.19519227 0.24425941\n",
            " 0.24425941 0.30104715 0.36466683 0.43339461 0.50478398 0.57597882\n",
            " 0.6441537  0.70694435 0.81075008 0.85094629 0.88382827 0.91022165\n",
            " 0.93108619 0.95999014]\n"
          ],
          "name": "stdout"
        }
      ]
    },
    {
      "cell_type": "code",
      "metadata": {
        "id": "2a5AcKBGjGQH"
      },
      "source": [
        "confusion_matrix1 = pd.crosstab(y, y_pred1, rownames=[\"Actual\"], colnames=[\"Predicted\"])\n",
        "confusion_matrix2 = pd.crosstab(y, y_pred2, rownames=[\"Actual\"], colnames=[\"Predicted\"])\n",
        "confusion_matrix3 = pd.crosstab(y, y_pred3, rownames=[\"Actual\"], colnames=[\"Predicted\"])"
      ],
      "execution_count": null,
      "outputs": []
    },
    {
      "cell_type": "code",
      "metadata": {
        "colab": {
          "base_uri": "https://localhost:8080/",
          "height": 868
        },
        "id": "dbRqQ3AlmGFw",
        "outputId": "f4de2d20-8856-422c-b9b7-90e5ba7d1596"
      },
      "source": [
        "# plt.rcParams['figure.figsize'] = [12, 4]\n",
        "#fig = plt.figure()\n",
        "\n",
        "sns.heatmap(confusion_matrix1, annot=True)\n",
        "plt.show()\n",
        "print(\"Accuracy (model1):\", metrics.accuracy_score(y, y_pred1))\n",
        "\n",
        "sns.heatmap(confusion_matrix2, annot=True)\n",
        "plt.show()\n",
        "print(\"Accuracy (model2):\", metrics.accuracy_score(y, y_pred2))\n",
        "\n",
        "sns.heatmap(confusion_matrix3, annot=True)\n",
        "plt.show()\n",
        "print(\"Accuracy (model3):\", metrics.accuracy_score(y, y_pred3))"
      ],
      "execution_count": null,
      "outputs": [
        {
          "output_type": "display_data",
          "data": {
            "image/png": "[encoded data removed]",
            "text/plain": [
              "<Figure size 432x288 with 2 Axes>"
            ]
          },
          "metadata": {
            "tags": [],
            "needs_background": "light"
          }
        },
        {
          "output_type": "stream",
          "text": [
            "Accuracy (model1): 0.75\n"
          ],
          "name": "stdout"
        },
        {
          "output_type": "display_data",
          "data": {
            "image/png": "[encoded data removed]",
            "text/plain": [
              "<Figure size 432x288 with 2 Axes>"
            ]
          },
          "metadata": {
            "tags": [],
            "needs_background": "light"
          }
        },
        {
          "output_type": "stream",
          "text": [
            "Accuracy (model2): 0.8\n"
          ],
          "name": "stdout"
        },
        {
          "output_type": "display_data",
          "data": {
            "image/png": "[encoded data removed]",
            "text/plain": [
              "<Figure size 432x288 with 2 Axes>"
            ]
          },
          "metadata": {
            "tags": [],
            "needs_background": "light"
          }
        },
        {
          "output_type": "stream",
          "text": [
            "Accuracy (model3): 0.8\n"
          ],
          "name": "stdout"
        }
      ]
    },
    {
      "cell_type": "code",
      "metadata": {
        "colab": {
          "base_uri": "https://localhost:8080/"
        },
        "id": "vrfzDZO6nIE0",
        "outputId": "b7b673c5-84da-40d8-8bd6-b5c9b729b63c"
      },
      "source": [
        "print(\"Intercept:\", model3.intercept_)\n",
        "print(\"Coef:\",model3.coef_)"
      ],
      "execution_count": null,
      "outputs": [
        {
          "output_type": "stream",
          "text": [
            "Intercept: [-3.13952411]\n",
            "Coef: [[1.14860386]]\n"
          ],
          "name": "stdout"
        }
      ]
    },
    {
      "cell_type": "markdown",
      "metadata": {
        "id": "O3wgx_JU1q1o"
      },
      "source": [
        "3시간 공부한 학생의 경우"
      ]
    },
    {
      "cell_type": "code",
      "metadata": {
        "colab": {
          "base_uri": "https://localhost:8080/"
        },
        "id": "9Fp3gpOf1e-T",
        "outputId": "6e7eec06-7480-4641-b27b-2b2fe0052aa6"
      },
      "source": [
        "1 / (1 + math.pow(math.e, -(model3.intercept_[0] + model3.coef_[0] * 3.0)))"
      ],
      "execution_count": null,
      "outputs": [
        {
          "output_type": "execute_result",
          "data": {
            "text/plain": [
              "0.5759788210742368"
            ]
          },
          "metadata": {
            "tags": []
          },
          "execution_count": 41
        }
      ]
    },
    {
      "cell_type": "code",
      "metadata": {
        "colab": {
          "base_uri": "https://localhost:8080/"
        },
        "id": "4m4luieG2N6Z",
        "outputId": "0074b12a-716a-46f3-9fd1-0d3cab6e31d3"
      },
      "source": [
        "model3.predict_proba([[3]])"
      ],
      "execution_count": null,
      "outputs": [
        {
          "output_type": "execute_result",
          "data": {
            "text/plain": [
              "array([[0.42402118, 0.57597882]])"
            ]
          },
          "metadata": {
            "tags": []
          },
          "execution_count": 42
        }
      ]
    },
    {
      "cell_type": "markdown",
      "metadata": {
        "id": "1KFcLMDI3AwI"
      },
      "source": [
        "## Train test spirit\n",
        "바이러스 데이터를 이용하여 로지스틱 회귀 정리"
      ]
    },
    {
      "cell_type": "code",
      "metadata": {
        "colab": {
          "base_uri": "https://localhost:8080/"
        },
        "id": "EOVsqdST3A-J",
        "outputId": "a491070b-0772-4e4b-a27d-60ead5df92a9"
      },
      "source": [
        "data = pd.read_csv(\"https://raw.githubusercontent.com/LeeSeungYun1020/Introduction_To_Data_Science/master/data/virus.csv\")\n",
        "train_data, test_data = train_test_split(data, train_size=0.6, random_state=1)\n",
        "train_data.shape"
      ],
      "execution_count": null,
      "outputs": [
        {
          "output_type": "execute_result",
          "data": {
            "text/plain": [
              "(18, 4)"
            ]
          },
          "metadata": {
            "tags": []
          },
          "execution_count": 44
        }
      ]
    },
    {
      "cell_type": "code",
      "metadata": {
        "colab": {
          "base_uri": "https://localhost:8080/",
          "height": 195
        },
        "id": "aSGiOToR4OCz",
        "outputId": "89f193ea-0bbe-45e4-e197-8a7e16720269"
      },
      "source": [
        "train_data.head()"
      ],
      "execution_count": null,
      "outputs": [
        {
          "output_type": "execute_result",
          "data": {
            "text/html": [
              "<div>\n",
              "<style scoped>\n",
              "    .dataframe tbody tr th:only-of-type {\n",
              "        vertical-align: middle;\n",
              "    }\n",
              "\n",
              "    .dataframe tbody tr th {\n",
              "        vertical-align: top;\n",
              "    }\n",
              "\n",
              "    .dataframe thead th {\n",
              "        text-align: right;\n",
              "    }\n",
              "</style>\n",
              "<table border=\"1\" class=\"dataframe\">\n",
              "  <thead>\n",
              "    <tr style=\"text-align: right;\">\n",
              "      <th></th>\n",
              "      <th>y</th>\n",
              "      <th>x1</th>\n",
              "      <th>x2</th>\n",
              "      <th>x3</th>\n",
              "    </tr>\n",
              "  </thead>\n",
              "  <tbody>\n",
              "    <tr>\n",
              "      <th>2</th>\n",
              "      <td>1</td>\n",
              "      <td>3</td>\n",
              "      <td>5</td>\n",
              "      <td>3</td>\n",
              "    </tr>\n",
              "    <tr>\n",
              "      <th>25</th>\n",
              "      <td>1</td>\n",
              "      <td>3</td>\n",
              "      <td>4</td>\n",
              "      <td>5</td>\n",
              "    </tr>\n",
              "    <tr>\n",
              "      <th>6</th>\n",
              "      <td>1</td>\n",
              "      <td>3</td>\n",
              "      <td>6</td>\n",
              "      <td>5</td>\n",
              "    </tr>\n",
              "    <tr>\n",
              "      <th>18</th>\n",
              "      <td>0</td>\n",
              "      <td>5</td>\n",
              "      <td>8</td>\n",
              "      <td>4</td>\n",
              "    </tr>\n",
              "    <tr>\n",
              "      <th>13</th>\n",
              "      <td>1</td>\n",
              "      <td>3</td>\n",
              "      <td>1</td>\n",
              "      <td>2</td>\n",
              "    </tr>\n",
              "  </tbody>\n",
              "</table>\n",
              "</div>"
            ],
            "text/plain": [
              "    y  x1  x2  x3\n",
              "2   1   3   5   3\n",
              "25  1   3   4   5\n",
              "6   1   3   6   5\n",
              "18  0   5   8   4\n",
              "13  1   3   1   2"
            ]
          },
          "metadata": {
            "tags": []
          },
          "execution_count": 45
        }
      ]
    },
    {
      "cell_type": "code",
      "metadata": {
        "id": "0zlmYDt636L2"
      },
      "source": [
        "predictors = ['x1', 'x2', 'x3']\n",
        "target = 'y'\n",
        "\n",
        "x_train = train_data[predictors]\n",
        "y_train = train_data[target]\n",
        "\n",
        "x_test = test_data[predictors]\n",
        "y_test = test_data[target]"
      ],
      "execution_count": null,
      "outputs": []
    },
    {
      "cell_type": "code",
      "metadata": {
        "colab": {
          "base_uri": "https://localhost:8080/"
        },
        "id": "AAo1clIo4s4P",
        "outputId": "d8c4ee60-e7ae-4dfd-8187-cb3147cbaacf"
      },
      "source": [
        "model = linear_model.LogisticRegression()\n",
        "model.fit(x_train, y_train)\n",
        "model.score(x_test, y_test)"
      ],
      "execution_count": null,
      "outputs": [
        {
          "output_type": "execute_result",
          "data": {
            "text/plain": [
              "0.9166666666666666"
            ]
          },
          "metadata": {
            "tags": []
          },
          "execution_count": 50
        }
      ]
    },
    {
      "cell_type": "code",
      "metadata": {
        "colab": {
          "base_uri": "https://localhost:8080/",
          "height": 301
        },
        "id": "gD1tcUnf45f-",
        "outputId": "8fb1e4b3-1883-487c-f399-b8b01985ea5d"
      },
      "source": [
        "y_pred = model.predict(x_test)\n",
        "confusion_matrix = pd.crosstab(y_test, y_pred, rownames=[\"Actual\"], colnames=[\"Predicted\"])\n",
        "sns.heatmap(confusion_matrix, annot=True)\n",
        "plt.show()\n",
        "print(\"Accuracy:\", metrics.accuracy_score(y_test, y_pred))"
      ],
      "execution_count": null,
      "outputs": [
        {
          "output_type": "display_data",
          "data": {
            "image/png": "[encoded data removed]",
            "text/plain": [
              "<Figure size 432x288 with 2 Axes>"
            ]
          },
          "metadata": {
            "tags": [],
            "needs_background": "light"
          }
        },
        {
          "output_type": "stream",
          "text": [
            "Accuracy: 0.9166666666666666\n"
          ],
          "name": "stdout"
        }
      ]
    }
  ]
}
